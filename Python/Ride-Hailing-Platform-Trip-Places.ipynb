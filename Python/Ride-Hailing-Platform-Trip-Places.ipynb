{
 "cells": [
  {
   "cell_type": "markdown",
   "metadata": {},
   "source": [
    "**Name**    : Richard Edgina Virgo  \n",
    "**Batch**   : 006"
   ]
  },
  {
   "cell_type": "markdown",
   "metadata": {},
   "source": [
    "---"
   ]
  },
  {
   "cell_type": "markdown",
   "metadata": {},
   "source": [
    "Saya dari seorang data scientist dari perusahaan X, yang ingin membuat model yang memprediksi harga taksi. Program ini saya buat untuk membuat dan mengevaluasi model pembelajaran mesin yang dibuat berdasarkan data Uber and Lyft dataset Boston, MA yang diambil di Kaggle. Set data ini terdiri berbagai informasi mengenai harga Uber dan Lyft beserta kondisi. In order to analyse the data, the SMART method will be used, namely make machine learning model for prediction price for uber and Lyft, Using MAE and R2 Score to evaluate model, Using MAE and R2score successfully make model with minimal error, successfully make model and evaluate it before Saturday at 23:59."
   ]
  },
  {
   "cell_type": "markdown",
   "metadata": {},
   "source": [
    "---\n",
    "---"
   ]
  },
  {
   "cell_type": "markdown",
   "metadata": {},
   "source": [
    "<vspace>"
   ]
  },
  {
   "cell_type": "markdown",
   "metadata": {},
   "source": [
    "### ***Import Libraries***\n",
    "---"
   ]
  },
  {
   "cell_type": "markdown",
   "metadata": {},
   "source": [
    "Mengimport semua libraries yang diperlukan dalam pembuatan model"
   ]
  },
  {
   "cell_type": "code",
   "execution_count": 176,
   "metadata": {},
   "outputs": [],
   "source": [
    "# Importing pandas to load data\n",
    "import pandas as pd\n",
    "# Importing seaborn to plot data\n",
    "import seaborn as sns\n",
    "# Importing matplotlib to plot data\n",
    "import matplotlib.pyplot as plt\n",
    "# Importing scipy to mathematical equation\n",
    "from scipy import stats\n",
    "# Importing numpy for array\n",
    "import numpy as np\n",
    "# Importing phik for correlation analysis\n",
    "import phik\n",
    "from phik import resources, report\n",
    "# Importing seaborn for visualization\n",
    "import seaborn as sns\n",
    "# Importing MinMaxScaler for scaling\n",
    "from sklearn.preprocessing import MinMaxScaler\n",
    "# Importing OrdinalEncoder for ordinal encoding\n",
    "from sklearn.preprocessing import OrdinalEncoder\n",
    "# Importing OneHotEncoder for One hot Encoding\n",
    "from sklearn.preprocessing import OneHotEncoder\n",
    "# Importing LinearRegression for linear regression\n",
    "from sklearn.linear_model import LinearRegression\n",
    "# Importing Mean Absolute Error and R2 score to evaluation model\n",
    "from sklearn.metrics import mean_absolute_error, r2_score\n",
    "# Importing statsmodel.api as sm for QQ plot\n",
    "import statsmodels.api as sm\n",
    "# Import pickle and json for saving and loading data\n",
    "import pickle\n",
    "import json\n",
    "# Import warning for controlling warning\n",
    "import warnings"
   ]
  },
  {
   "cell_type": "markdown",
   "metadata": {},
   "source": [
    "Langkah pertama adalah mendapatkan data, proses pemuatan data adalah sebagai berikut:"
   ]
  },
  {
   "cell_type": "markdown",
   "metadata": {},
   "source": [
    "---\n",
    "---"
   ]
  },
  {
   "cell_type": "markdown",
   "metadata": {},
   "source": [
    "<vspace>"
   ]
  },
  {
   "cell_type": "markdown",
   "metadata": {},
   "source": [
    "## ***Data Loading***\n",
    "---"
   ]
  },
  {
   "cell_type": "markdown",
   "metadata": {},
   "source": [
    "Loading data Uber and Lyft dataset Boston, MA"
   ]
  },
  {
   "cell_type": "code",
   "execution_count": 177,
   "metadata": {},
   "outputs": [
    {
     "data": {
      "text/html": [
       "<div>\n",
       "<style scoped>\n",
       "    .dataframe tbody tr th:only-of-type {\n",
       "        vertical-align: middle;\n",
       "    }\n",
       "\n",
       "    .dataframe tbody tr th {\n",
       "        vertical-align: top;\n",
       "    }\n",
       "\n",
       "    .dataframe thead th {\n",
       "        text-align: right;\n",
       "    }\n",
       "</style>\n",
       "<table border=\"1\" class=\"dataframe\">\n",
       "  <thead>\n",
       "    <tr style=\"text-align: right;\">\n",
       "      <th></th>\n",
       "      <th>id</th>\n",
       "      <th>timestamp</th>\n",
       "      <th>hour</th>\n",
       "      <th>day</th>\n",
       "      <th>month</th>\n",
       "      <th>datetime</th>\n",
       "      <th>timezone</th>\n",
       "      <th>source</th>\n",
       "      <th>destination</th>\n",
       "      <th>cab_type</th>\n",
       "      <th>...</th>\n",
       "      <th>precipIntensityMax</th>\n",
       "      <th>uvIndexTime</th>\n",
       "      <th>temperatureMin</th>\n",
       "      <th>temperatureMinTime</th>\n",
       "      <th>temperatureMax</th>\n",
       "      <th>temperatureMaxTime</th>\n",
       "      <th>apparentTemperatureMin</th>\n",
       "      <th>apparentTemperatureMinTime</th>\n",
       "      <th>apparentTemperatureMax</th>\n",
       "      <th>apparentTemperatureMaxTime</th>\n",
       "    </tr>\n",
       "  </thead>\n",
       "  <tbody>\n",
       "    <tr>\n",
       "      <th>0</th>\n",
       "      <td>424553bb-7174-41ea-aeb4-fe06d4f4b9d7</td>\n",
       "      <td>1.544953e+09</td>\n",
       "      <td>9</td>\n",
       "      <td>16</td>\n",
       "      <td>12</td>\n",
       "      <td>2018-12-16 09:30:07</td>\n",
       "      <td>America/New_York</td>\n",
       "      <td>Haymarket Square</td>\n",
       "      <td>North Station</td>\n",
       "      <td>Lyft</td>\n",
       "      <td>...</td>\n",
       "      <td>0.1276</td>\n",
       "      <td>1544979600</td>\n",
       "      <td>39.89</td>\n",
       "      <td>1545012000</td>\n",
       "      <td>43.68</td>\n",
       "      <td>1544968800</td>\n",
       "      <td>33.73</td>\n",
       "      <td>1545012000</td>\n",
       "      <td>38.07</td>\n",
       "      <td>1544958000</td>\n",
       "    </tr>\n",
       "    <tr>\n",
       "      <th>1</th>\n",
       "      <td>4bd23055-6827-41c6-b23b-3c491f24e74d</td>\n",
       "      <td>1.543284e+09</td>\n",
       "      <td>2</td>\n",
       "      <td>27</td>\n",
       "      <td>11</td>\n",
       "      <td>2018-11-27 02:00:23</td>\n",
       "      <td>America/New_York</td>\n",
       "      <td>Haymarket Square</td>\n",
       "      <td>North Station</td>\n",
       "      <td>Lyft</td>\n",
       "      <td>...</td>\n",
       "      <td>0.1300</td>\n",
       "      <td>1543251600</td>\n",
       "      <td>40.49</td>\n",
       "      <td>1543233600</td>\n",
       "      <td>47.30</td>\n",
       "      <td>1543251600</td>\n",
       "      <td>36.20</td>\n",
       "      <td>1543291200</td>\n",
       "      <td>43.92</td>\n",
       "      <td>1543251600</td>\n",
       "    </tr>\n",
       "    <tr>\n",
       "      <th>2</th>\n",
       "      <td>981a3613-77af-4620-a42a-0c0866077d1e</td>\n",
       "      <td>1.543367e+09</td>\n",
       "      <td>1</td>\n",
       "      <td>28</td>\n",
       "      <td>11</td>\n",
       "      <td>2018-11-28 01:00:22</td>\n",
       "      <td>America/New_York</td>\n",
       "      <td>Haymarket Square</td>\n",
       "      <td>North Station</td>\n",
       "      <td>Lyft</td>\n",
       "      <td>...</td>\n",
       "      <td>0.1064</td>\n",
       "      <td>1543338000</td>\n",
       "      <td>35.36</td>\n",
       "      <td>1543377600</td>\n",
       "      <td>47.55</td>\n",
       "      <td>1543320000</td>\n",
       "      <td>31.04</td>\n",
       "      <td>1543377600</td>\n",
       "      <td>44.12</td>\n",
       "      <td>1543320000</td>\n",
       "    </tr>\n",
       "    <tr>\n",
       "      <th>3</th>\n",
       "      <td>c2d88af2-d278-4bfd-a8d0-29ca77cc5512</td>\n",
       "      <td>1.543554e+09</td>\n",
       "      <td>4</td>\n",
       "      <td>30</td>\n",
       "      <td>11</td>\n",
       "      <td>2018-11-30 04:53:02</td>\n",
       "      <td>America/New_York</td>\n",
       "      <td>Haymarket Square</td>\n",
       "      <td>North Station</td>\n",
       "      <td>Lyft</td>\n",
       "      <td>...</td>\n",
       "      <td>0.0000</td>\n",
       "      <td>1543507200</td>\n",
       "      <td>34.67</td>\n",
       "      <td>1543550400</td>\n",
       "      <td>45.03</td>\n",
       "      <td>1543510800</td>\n",
       "      <td>30.30</td>\n",
       "      <td>1543550400</td>\n",
       "      <td>38.53</td>\n",
       "      <td>1543510800</td>\n",
       "    </tr>\n",
       "    <tr>\n",
       "      <th>4</th>\n",
       "      <td>e0126e1f-8ca9-4f2e-82b3-50505a09db9a</td>\n",
       "      <td>1.543463e+09</td>\n",
       "      <td>3</td>\n",
       "      <td>29</td>\n",
       "      <td>11</td>\n",
       "      <td>2018-11-29 03:49:20</td>\n",
       "      <td>America/New_York</td>\n",
       "      <td>Haymarket Square</td>\n",
       "      <td>North Station</td>\n",
       "      <td>Lyft</td>\n",
       "      <td>...</td>\n",
       "      <td>0.0001</td>\n",
       "      <td>1543420800</td>\n",
       "      <td>33.10</td>\n",
       "      <td>1543402800</td>\n",
       "      <td>42.18</td>\n",
       "      <td>1543420800</td>\n",
       "      <td>29.11</td>\n",
       "      <td>1543392000</td>\n",
       "      <td>35.75</td>\n",
       "      <td>1543420800</td>\n",
       "    </tr>\n",
       "    <tr>\n",
       "      <th>...</th>\n",
       "      <td>...</td>\n",
       "      <td>...</td>\n",
       "      <td>...</td>\n",
       "      <td>...</td>\n",
       "      <td>...</td>\n",
       "      <td>...</td>\n",
       "      <td>...</td>\n",
       "      <td>...</td>\n",
       "      <td>...</td>\n",
       "      <td>...</td>\n",
       "      <td>...</td>\n",
       "      <td>...</td>\n",
       "      <td>...</td>\n",
       "      <td>...</td>\n",
       "      <td>...</td>\n",
       "      <td>...</td>\n",
       "      <td>...</td>\n",
       "      <td>...</td>\n",
       "      <td>...</td>\n",
       "      <td>...</td>\n",
       "      <td>...</td>\n",
       "    </tr>\n",
       "    <tr>\n",
       "      <th>693066</th>\n",
       "      <td>616d3611-1820-450a-9845-a9ff304a4842</td>\n",
       "      <td>1.543708e+09</td>\n",
       "      <td>23</td>\n",
       "      <td>1</td>\n",
       "      <td>12</td>\n",
       "      <td>2018-12-01 23:53:05</td>\n",
       "      <td>America/New_York</td>\n",
       "      <td>West End</td>\n",
       "      <td>North End</td>\n",
       "      <td>Uber</td>\n",
       "      <td>...</td>\n",
       "      <td>0.0000</td>\n",
       "      <td>1543683600</td>\n",
       "      <td>31.42</td>\n",
       "      <td>1543658400</td>\n",
       "      <td>44.76</td>\n",
       "      <td>1543690800</td>\n",
       "      <td>27.77</td>\n",
       "      <td>1543658400</td>\n",
       "      <td>44.09</td>\n",
       "      <td>1543690800</td>\n",
       "    </tr>\n",
       "    <tr>\n",
       "      <th>693067</th>\n",
       "      <td>633a3fc3-1f86-4b9e-9d48-2b7132112341</td>\n",
       "      <td>1.543708e+09</td>\n",
       "      <td>23</td>\n",
       "      <td>1</td>\n",
       "      <td>12</td>\n",
       "      <td>2018-12-01 23:53:05</td>\n",
       "      <td>America/New_York</td>\n",
       "      <td>West End</td>\n",
       "      <td>North End</td>\n",
       "      <td>Uber</td>\n",
       "      <td>...</td>\n",
       "      <td>0.0000</td>\n",
       "      <td>1543683600</td>\n",
       "      <td>31.42</td>\n",
       "      <td>1543658400</td>\n",
       "      <td>44.76</td>\n",
       "      <td>1543690800</td>\n",
       "      <td>27.77</td>\n",
       "      <td>1543658400</td>\n",
       "      <td>44.09</td>\n",
       "      <td>1543690800</td>\n",
       "    </tr>\n",
       "    <tr>\n",
       "      <th>693068</th>\n",
       "      <td>64d451d0-639f-47a4-9b7c-6fd92fbd264f</td>\n",
       "      <td>1.543708e+09</td>\n",
       "      <td>23</td>\n",
       "      <td>1</td>\n",
       "      <td>12</td>\n",
       "      <td>2018-12-01 23:53:05</td>\n",
       "      <td>America/New_York</td>\n",
       "      <td>West End</td>\n",
       "      <td>North End</td>\n",
       "      <td>Uber</td>\n",
       "      <td>...</td>\n",
       "      <td>0.0000</td>\n",
       "      <td>1543683600</td>\n",
       "      <td>31.42</td>\n",
       "      <td>1543658400</td>\n",
       "      <td>44.76</td>\n",
       "      <td>1543690800</td>\n",
       "      <td>27.77</td>\n",
       "      <td>1543658400</td>\n",
       "      <td>44.09</td>\n",
       "      <td>1543690800</td>\n",
       "    </tr>\n",
       "    <tr>\n",
       "      <th>693069</th>\n",
       "      <td>727e5f07-a96b-4ad1-a2c7-9abc3ad55b4e</td>\n",
       "      <td>1.543708e+09</td>\n",
       "      <td>23</td>\n",
       "      <td>1</td>\n",
       "      <td>12</td>\n",
       "      <td>2018-12-01 23:53:05</td>\n",
       "      <td>America/New_York</td>\n",
       "      <td>West End</td>\n",
       "      <td>North End</td>\n",
       "      <td>Uber</td>\n",
       "      <td>...</td>\n",
       "      <td>0.0000</td>\n",
       "      <td>1543683600</td>\n",
       "      <td>31.42</td>\n",
       "      <td>1543658400</td>\n",
       "      <td>44.76</td>\n",
       "      <td>1543690800</td>\n",
       "      <td>27.77</td>\n",
       "      <td>1543658400</td>\n",
       "      <td>44.09</td>\n",
       "      <td>1543690800</td>\n",
       "    </tr>\n",
       "    <tr>\n",
       "      <th>693070</th>\n",
       "      <td>e7fdc087-fe86-40a5-a3c3-3b2a8badcbda</td>\n",
       "      <td>1.543708e+09</td>\n",
       "      <td>23</td>\n",
       "      <td>1</td>\n",
       "      <td>12</td>\n",
       "      <td>2018-12-01 23:53:05</td>\n",
       "      <td>America/New_York</td>\n",
       "      <td>West End</td>\n",
       "      <td>North End</td>\n",
       "      <td>Uber</td>\n",
       "      <td>...</td>\n",
       "      <td>0.0000</td>\n",
       "      <td>1543683600</td>\n",
       "      <td>31.42</td>\n",
       "      <td>1543658400</td>\n",
       "      <td>44.76</td>\n",
       "      <td>1543690800</td>\n",
       "      <td>27.77</td>\n",
       "      <td>1543658400</td>\n",
       "      <td>44.09</td>\n",
       "      <td>1543690800</td>\n",
       "    </tr>\n",
       "  </tbody>\n",
       "</table>\n",
       "<p>693071 rows × 57 columns</p>\n",
       "</div>"
      ],
      "text/plain": [
       "                                          id     timestamp  hour  day  month  \\\n",
       "0       424553bb-7174-41ea-aeb4-fe06d4f4b9d7  1.544953e+09     9   16     12   \n",
       "1       4bd23055-6827-41c6-b23b-3c491f24e74d  1.543284e+09     2   27     11   \n",
       "2       981a3613-77af-4620-a42a-0c0866077d1e  1.543367e+09     1   28     11   \n",
       "3       c2d88af2-d278-4bfd-a8d0-29ca77cc5512  1.543554e+09     4   30     11   \n",
       "4       e0126e1f-8ca9-4f2e-82b3-50505a09db9a  1.543463e+09     3   29     11   \n",
       "...                                      ...           ...   ...  ...    ...   \n",
       "693066  616d3611-1820-450a-9845-a9ff304a4842  1.543708e+09    23    1     12   \n",
       "693067  633a3fc3-1f86-4b9e-9d48-2b7132112341  1.543708e+09    23    1     12   \n",
       "693068  64d451d0-639f-47a4-9b7c-6fd92fbd264f  1.543708e+09    23    1     12   \n",
       "693069  727e5f07-a96b-4ad1-a2c7-9abc3ad55b4e  1.543708e+09    23    1     12   \n",
       "693070  e7fdc087-fe86-40a5-a3c3-3b2a8badcbda  1.543708e+09    23    1     12   \n",
       "\n",
       "                   datetime          timezone            source  \\\n",
       "0       2018-12-16 09:30:07  America/New_York  Haymarket Square   \n",
       "1       2018-11-27 02:00:23  America/New_York  Haymarket Square   \n",
       "2       2018-11-28 01:00:22  America/New_York  Haymarket Square   \n",
       "3       2018-11-30 04:53:02  America/New_York  Haymarket Square   \n",
       "4       2018-11-29 03:49:20  America/New_York  Haymarket Square   \n",
       "...                     ...               ...               ...   \n",
       "693066  2018-12-01 23:53:05  America/New_York          West End   \n",
       "693067  2018-12-01 23:53:05  America/New_York          West End   \n",
       "693068  2018-12-01 23:53:05  America/New_York          West End   \n",
       "693069  2018-12-01 23:53:05  America/New_York          West End   \n",
       "693070  2018-12-01 23:53:05  America/New_York          West End   \n",
       "\n",
       "          destination cab_type  ... precipIntensityMax uvIndexTime  \\\n",
       "0       North Station     Lyft  ...             0.1276  1544979600   \n",
       "1       North Station     Lyft  ...             0.1300  1543251600   \n",
       "2       North Station     Lyft  ...             0.1064  1543338000   \n",
       "3       North Station     Lyft  ...             0.0000  1543507200   \n",
       "4       North Station     Lyft  ...             0.0001  1543420800   \n",
       "...               ...      ...  ...                ...         ...   \n",
       "693066      North End     Uber  ...             0.0000  1543683600   \n",
       "693067      North End     Uber  ...             0.0000  1543683600   \n",
       "693068      North End     Uber  ...             0.0000  1543683600   \n",
       "693069      North End     Uber  ...             0.0000  1543683600   \n",
       "693070      North End     Uber  ...             0.0000  1543683600   \n",
       "\n",
       "        temperatureMin  temperatureMinTime  temperatureMax  \\\n",
       "0                39.89          1545012000           43.68   \n",
       "1                40.49          1543233600           47.30   \n",
       "2                35.36          1543377600           47.55   \n",
       "3                34.67          1543550400           45.03   \n",
       "4                33.10          1543402800           42.18   \n",
       "...                ...                 ...             ...   \n",
       "693066           31.42          1543658400           44.76   \n",
       "693067           31.42          1543658400           44.76   \n",
       "693068           31.42          1543658400           44.76   \n",
       "693069           31.42          1543658400           44.76   \n",
       "693070           31.42          1543658400           44.76   \n",
       "\n",
       "        temperatureMaxTime  apparentTemperatureMin  \\\n",
       "0               1544968800                   33.73   \n",
       "1               1543251600                   36.20   \n",
       "2               1543320000                   31.04   \n",
       "3               1543510800                   30.30   \n",
       "4               1543420800                   29.11   \n",
       "...                    ...                     ...   \n",
       "693066          1543690800                   27.77   \n",
       "693067          1543690800                   27.77   \n",
       "693068          1543690800                   27.77   \n",
       "693069          1543690800                   27.77   \n",
       "693070          1543690800                   27.77   \n",
       "\n",
       "        apparentTemperatureMinTime  apparentTemperatureMax  \\\n",
       "0                       1545012000                   38.07   \n",
       "1                       1543291200                   43.92   \n",
       "2                       1543377600                   44.12   \n",
       "3                       1543550400                   38.53   \n",
       "4                       1543392000                   35.75   \n",
       "...                            ...                     ...   \n",
       "693066                  1543658400                   44.09   \n",
       "693067                  1543658400                   44.09   \n",
       "693068                  1543658400                   44.09   \n",
       "693069                  1543658400                   44.09   \n",
       "693070                  1543658400                   44.09   \n",
       "\n",
       "       apparentTemperatureMaxTime  \n",
       "0                      1544958000  \n",
       "1                      1543251600  \n",
       "2                      1543320000  \n",
       "3                      1543510800  \n",
       "4                      1543420800  \n",
       "...                           ...  \n",
       "693066                 1543690800  \n",
       "693067                 1543690800  \n",
       "693068                 1543690800  \n",
       "693069                 1543690800  \n",
       "693070                 1543690800  \n",
       "\n",
       "[693071 rows x 57 columns]"
      ]
     },
     "execution_count": 177,
     "metadata": {},
     "output_type": "execute_result"
    }
   ],
   "source": [
    "# Show the data frame\n",
    "df = pd.read_csv(\"rideshare_kaggle.csv\")\n",
    "df"
   ]
  },
  {
   "cell_type": "markdown",
   "metadata": {},
   "source": [
    "Data berisikan 693071 baris dan 57 kolom. Sekarang saya akan mengubah 5 nama kolom , yaitu destination, cab_type, distance, name, and surge_multiplier. Pengubahan 5 kolom ini dilakukan, dikarenakan 5 kolom ini menjadi sangat penting di dalam pembuatan model"
   ]
  },
  {
   "cell_type": "code",
   "execution_count": 178,
   "metadata": {},
   "outputs": [],
   "source": [
    "# Mengubah nama destination menjad destinasi\n",
    "df.rename(columns = {'destination':'destinasi'}, inplace = True)\n",
    "# Mengubah nama cab_type menjadi tipe taksi\n",
    "df.rename(columns = {'cab_type':'tipe_taksi'}, inplace = True)\n",
    "# Mengubah nama name menjadi nama\n",
    "df.rename(columns = {'name':'nama'}, inplace = True)\n",
    "# Mengubah nama distance menjadi jarak\n",
    "df.rename(columns = {'distance':'jarak'}, inplace = True)\n",
    "# Mengubah nama surge_multiplier menjadi lonjakan pengali\n",
    "df.rename(columns = {'surge_multiplier':'lonjakan_pengali'}, inplace = True)"
   ]
  },
  {
   "cell_type": "markdown",
   "metadata": {},
   "source": [
    "Setelah loading data dilakukan, selanjutnya masuk ke tahap data eksplorasi"
   ]
  },
  {
   "cell_type": "markdown",
   "metadata": {},
   "source": [
    "---\n",
    "---"
   ]
  },
  {
   "cell_type": "markdown",
   "metadata": {},
   "source": [
    "<vspace>"
   ]
  },
  {
   "cell_type": "markdown",
   "metadata": {},
   "source": [
    "## ***Data Exploration***"
   ]
  },
  {
   "cell_type": "markdown",
   "metadata": {},
   "source": [
    "---"
   ]
  },
  {
   "cell_type": "code",
   "execution_count": 179,
   "metadata": {},
   "outputs": [
    {
     "name": "stdout",
     "output_type": "stream",
     "text": [
      "<class 'pandas.core.frame.DataFrame'>\n",
      "RangeIndex: 693071 entries, 0 to 693070\n",
      "Data columns (total 57 columns):\n",
      " #   Column                       Non-Null Count   Dtype  \n",
      "---  ------                       --------------   -----  \n",
      " 0   id                           693071 non-null  object \n",
      " 1   timestamp                    693071 non-null  float64\n",
      " 2   hour                         693071 non-null  int64  \n",
      " 3   day                          693071 non-null  int64  \n",
      " 4   month                        693071 non-null  int64  \n",
      " 5   datetime                     693071 non-null  object \n",
      " 6   timezone                     693071 non-null  object \n",
      " 7   source                       693071 non-null  object \n",
      " 8   destinasi                    693071 non-null  object \n",
      " 9   tipe_taksi                   693071 non-null  object \n",
      " 10  product_id                   693071 non-null  object \n",
      " 11  nama                         693071 non-null  object \n",
      " 12  price                        637976 non-null  float64\n",
      " 13  jarak                        693071 non-null  float64\n",
      " 14  lonjakan_pengali             693071 non-null  float64\n",
      " 15  latitude                     693071 non-null  float64\n",
      " 16  longitude                    693071 non-null  float64\n",
      " 17  temperature                  693071 non-null  float64\n",
      " 18  apparentTemperature          693071 non-null  float64\n",
      " 19  short_summary                693071 non-null  object \n",
      " 20  long_summary                 693071 non-null  object \n",
      " 21  precipIntensity              693071 non-null  float64\n",
      " 22  precipProbability            693071 non-null  float64\n",
      " 23  humidity                     693071 non-null  float64\n",
      " 24  windSpeed                    693071 non-null  float64\n",
      " 25  windGust                     693071 non-null  float64\n",
      " 26  windGustTime                 693071 non-null  int64  \n",
      " 27  visibility                   693071 non-null  float64\n",
      " 28  temperatureHigh              693071 non-null  float64\n",
      " 29  temperatureHighTime          693071 non-null  int64  \n",
      " 30  temperatureLow               693071 non-null  float64\n",
      " 31  temperatureLowTime           693071 non-null  int64  \n",
      " 32  apparentTemperatureHigh      693071 non-null  float64\n",
      " 33  apparentTemperatureHighTime  693071 non-null  int64  \n",
      " 34  apparentTemperatureLow       693071 non-null  float64\n",
      " 35  apparentTemperatureLowTime   693071 non-null  int64  \n",
      " 36  icon                         693071 non-null  object \n",
      " 37  dewPoint                     693071 non-null  float64\n",
      " 38  pressure                     693071 non-null  float64\n",
      " 39  windBearing                  693071 non-null  int64  \n",
      " 40  cloudCover                   693071 non-null  float64\n",
      " 41  uvIndex                      693071 non-null  int64  \n",
      " 42  visibility.1                 693071 non-null  float64\n",
      " 43  ozone                        693071 non-null  float64\n",
      " 44  sunriseTime                  693071 non-null  int64  \n",
      " 45  sunsetTime                   693071 non-null  int64  \n",
      " 46  moonPhase                    693071 non-null  float64\n",
      " 47  precipIntensityMax           693071 non-null  float64\n",
      " 48  uvIndexTime                  693071 non-null  int64  \n",
      " 49  temperatureMin               693071 non-null  float64\n",
      " 50  temperatureMinTime           693071 non-null  int64  \n",
      " 51  temperatureMax               693071 non-null  float64\n",
      " 52  temperatureMaxTime           693071 non-null  int64  \n",
      " 53  apparentTemperatureMin       693071 non-null  float64\n",
      " 54  apparentTemperatureMinTime   693071 non-null  int64  \n",
      " 55  apparentTemperatureMax       693071 non-null  float64\n",
      " 56  apparentTemperatureMaxTime   693071 non-null  int64  \n",
      "dtypes: float64(29), int64(17), object(11)\n",
      "memory usage: 301.4+ MB\n"
     ]
    }
   ],
   "source": [
    "# melihat informasi dari data\n",
    "df.info()"
   ]
  },
  {
   "cell_type": "code",
   "execution_count": 180,
   "metadata": {},
   "outputs": [
    {
     "data": {
      "text/plain": [
       "(693071, 57)"
      ]
     },
     "execution_count": 180,
     "metadata": {},
     "output_type": "execute_result"
    }
   ],
   "source": [
    "# Melihat ukuran data frame\n",
    "df.shape"
   ]
  },
  {
   "cell_type": "code",
   "execution_count": 181,
   "metadata": {},
   "outputs": [
    {
     "data": {
      "text/plain": [
       "Index(['id', 'timestamp', 'hour', 'day', 'month', 'datetime', 'timezone',\n",
       "       'source', 'destinasi', 'tipe_taksi', 'product_id', 'nama', 'price',\n",
       "       'jarak', 'lonjakan_pengali', 'latitude', 'longitude', 'temperature',\n",
       "       'apparentTemperature', 'short_summary', 'long_summary',\n",
       "       'precipIntensity', 'precipProbability', 'humidity', 'windSpeed',\n",
       "       'windGust', 'windGustTime', 'visibility', 'temperatureHigh',\n",
       "       'temperatureHighTime', 'temperatureLow', 'temperatureLowTime',\n",
       "       'apparentTemperatureHigh', 'apparentTemperatureHighTime',\n",
       "       'apparentTemperatureLow', 'apparentTemperatureLowTime', 'icon',\n",
       "       'dewPoint', 'pressure', 'windBearing', 'cloudCover', 'uvIndex',\n",
       "       'visibility.1', 'ozone', 'sunriseTime', 'sunsetTime', 'moonPhase',\n",
       "       'precipIntensityMax', 'uvIndexTime', 'temperatureMin',\n",
       "       'temperatureMinTime', 'temperatureMax', 'temperatureMaxTime',\n",
       "       'apparentTemperatureMin', 'apparentTemperatureMinTime',\n",
       "       'apparentTemperatureMax', 'apparentTemperatureMaxTime'],\n",
       "      dtype='object')"
      ]
     },
     "execution_count": 181,
     "metadata": {},
     "output_type": "execute_result"
    }
   ],
   "source": [
    "# Melihat kolom kolom yang terdapat data frame\n",
    "df.columns"
   ]
  },
  {
   "cell_type": "markdown",
   "metadata": {},
   "source": [
    "Selanjutnya melihat data duplikat yang terdapat di data frame"
   ]
  },
  {
   "cell_type": "code",
   "execution_count": 182,
   "metadata": {},
   "outputs": [
    {
     "data": {
      "text/plain": [
       "0"
      ]
     },
     "execution_count": 182,
     "metadata": {},
     "output_type": "execute_result"
    }
   ],
   "source": [
    "# melihat data banyak data duplikat di data frame\n",
    "df.duplicated().sum()"
   ]
  },
  {
   "cell_type": "markdown",
   "metadata": {},
   "source": [
    "Didapat data duplikat sebanyak 0"
   ]
  },
  {
   "cell_type": "markdown",
   "metadata": {},
   "source": [
    "Penghapusan kolom yang tidak diperlukan dalam analisis prediksi harga"
   ]
  },
  {
   "cell_type": "code",
   "execution_count": 183,
   "metadata": {},
   "outputs": [],
   "source": [
    "df = df.drop(['id'], axis=1)"
   ]
  },
  {
   "cell_type": "markdown",
   "metadata": {},
   "source": [
    "Kolom id dihapus dikarenakan id mengikuti fitur - fitur lain dan tidak independen. "
   ]
  },
  {
   "cell_type": "markdown",
   "metadata": {},
   "source": [
    "Penghapusan kolom timezone"
   ]
  },
  {
   "cell_type": "code",
   "execution_count": 184,
   "metadata": {},
   "outputs": [
    {
     "data": {
      "text/plain": [
       "array(['America/New_York'], dtype=object)"
      ]
     },
     "execution_count": 184,
     "metadata": {},
     "output_type": "execute_result"
    }
   ],
   "source": [
    "df['timezone'].unique()"
   ]
  },
  {
   "cell_type": "code",
   "execution_count": 185,
   "metadata": {},
   "outputs": [],
   "source": [
    "df = df.drop('timezone', axis=1)"
   ]
  },
  {
   "cell_type": "markdown",
   "metadata": {},
   "source": [
    "Penghapusan kolom timezone dikarenakan timezone yang terdapat di dalam data hanya 1"
   ]
  },
  {
   "cell_type": "markdown",
   "metadata": {},
   "source": [
    "---\n",
    "---"
   ]
  },
  {
   "cell_type": "markdown",
   "metadata": {},
   "source": [
    "Model inference digunakan untuk memprediksi harga dengan mengambil data random. Pengambilan data dilakukan sekarang agar data tersebut tidak dipakai ke dalam train dan tes"
   ]
  },
  {
   "cell_type": "markdown",
   "metadata": {},
   "source": [
    "### ***Model Inference***"
   ]
  },
  {
   "cell_type": "code",
   "execution_count": 186,
   "metadata": {},
   "outputs": [],
   "source": [
    "# menyimpan 1 data random dari data asli untuk digunakan sebagai data inference ke dalam variabel data_inf\n",
    "data_inf = df.sample(1, random_state=0)\n",
    "\n",
    "# menghapus data inference dari df\n",
    "df.drop(data_inf.index, inplace=True)\n",
    "\n",
    "# melakukan reset index untuk data_inf dan df\n",
    "df.reset_index(drop=True, inplace=True)\n",
    "data_inf.reset_index(drop=True, inplace=True)\n",
    "\n",
    "# menghapus target di data_inf\n",
    "data_inf.drop(['price'], axis=1, inplace=True)"
   ]
  },
  {
   "cell_type": "markdown",
   "metadata": {},
   "source": [
    "<vspace>"
   ]
  },
  {
   "cell_type": "markdown",
   "metadata": {},
   "source": [
    "## ***Explanatory Data Analysis***"
   ]
  },
  {
   "cell_type": "markdown",
   "metadata": {},
   "source": [
    "---"
   ]
  },
  {
   "cell_type": "markdown",
   "metadata": {},
   "source": [
    "Berikut adalah data frame setelah kolom/fitur id dan timezone dibuang"
   ]
  },
  {
   "cell_type": "code",
   "execution_count": 187,
   "metadata": {},
   "outputs": [
    {
     "data": {
      "text/html": [
       "<div>\n",
       "<style scoped>\n",
       "    .dataframe tbody tr th:only-of-type {\n",
       "        vertical-align: middle;\n",
       "    }\n",
       "\n",
       "    .dataframe tbody tr th {\n",
       "        vertical-align: top;\n",
       "    }\n",
       "\n",
       "    .dataframe thead th {\n",
       "        text-align: right;\n",
       "    }\n",
       "</style>\n",
       "<table border=\"1\" class=\"dataframe\">\n",
       "  <thead>\n",
       "    <tr style=\"text-align: right;\">\n",
       "      <th></th>\n",
       "      <th>timestamp</th>\n",
       "      <th>hour</th>\n",
       "      <th>day</th>\n",
       "      <th>month</th>\n",
       "      <th>datetime</th>\n",
       "      <th>source</th>\n",
       "      <th>destinasi</th>\n",
       "      <th>tipe_taksi</th>\n",
       "      <th>product_id</th>\n",
       "      <th>nama</th>\n",
       "      <th>...</th>\n",
       "      <th>precipIntensityMax</th>\n",
       "      <th>uvIndexTime</th>\n",
       "      <th>temperatureMin</th>\n",
       "      <th>temperatureMinTime</th>\n",
       "      <th>temperatureMax</th>\n",
       "      <th>temperatureMaxTime</th>\n",
       "      <th>apparentTemperatureMin</th>\n",
       "      <th>apparentTemperatureMinTime</th>\n",
       "      <th>apparentTemperatureMax</th>\n",
       "      <th>apparentTemperatureMaxTime</th>\n",
       "    </tr>\n",
       "  </thead>\n",
       "  <tbody>\n",
       "    <tr>\n",
       "      <th>0</th>\n",
       "      <td>1.544953e+09</td>\n",
       "      <td>9</td>\n",
       "      <td>16</td>\n",
       "      <td>12</td>\n",
       "      <td>2018-12-16 09:30:07</td>\n",
       "      <td>Haymarket Square</td>\n",
       "      <td>North Station</td>\n",
       "      <td>Lyft</td>\n",
       "      <td>lyft_line</td>\n",
       "      <td>Shared</td>\n",
       "      <td>...</td>\n",
       "      <td>0.1276</td>\n",
       "      <td>1544979600</td>\n",
       "      <td>39.89</td>\n",
       "      <td>1545012000</td>\n",
       "      <td>43.68</td>\n",
       "      <td>1544968800</td>\n",
       "      <td>33.73</td>\n",
       "      <td>1545012000</td>\n",
       "      <td>38.07</td>\n",
       "      <td>1544958000</td>\n",
       "    </tr>\n",
       "    <tr>\n",
       "      <th>1</th>\n",
       "      <td>1.543284e+09</td>\n",
       "      <td>2</td>\n",
       "      <td>27</td>\n",
       "      <td>11</td>\n",
       "      <td>2018-11-27 02:00:23</td>\n",
       "      <td>Haymarket Square</td>\n",
       "      <td>North Station</td>\n",
       "      <td>Lyft</td>\n",
       "      <td>lyft_premier</td>\n",
       "      <td>Lux</td>\n",
       "      <td>...</td>\n",
       "      <td>0.1300</td>\n",
       "      <td>1543251600</td>\n",
       "      <td>40.49</td>\n",
       "      <td>1543233600</td>\n",
       "      <td>47.30</td>\n",
       "      <td>1543251600</td>\n",
       "      <td>36.20</td>\n",
       "      <td>1543291200</td>\n",
       "      <td>43.92</td>\n",
       "      <td>1543251600</td>\n",
       "    </tr>\n",
       "    <tr>\n",
       "      <th>2</th>\n",
       "      <td>1.543367e+09</td>\n",
       "      <td>1</td>\n",
       "      <td>28</td>\n",
       "      <td>11</td>\n",
       "      <td>2018-11-28 01:00:22</td>\n",
       "      <td>Haymarket Square</td>\n",
       "      <td>North Station</td>\n",
       "      <td>Lyft</td>\n",
       "      <td>lyft</td>\n",
       "      <td>Lyft</td>\n",
       "      <td>...</td>\n",
       "      <td>0.1064</td>\n",
       "      <td>1543338000</td>\n",
       "      <td>35.36</td>\n",
       "      <td>1543377600</td>\n",
       "      <td>47.55</td>\n",
       "      <td>1543320000</td>\n",
       "      <td>31.04</td>\n",
       "      <td>1543377600</td>\n",
       "      <td>44.12</td>\n",
       "      <td>1543320000</td>\n",
       "    </tr>\n",
       "    <tr>\n",
       "      <th>3</th>\n",
       "      <td>1.543554e+09</td>\n",
       "      <td>4</td>\n",
       "      <td>30</td>\n",
       "      <td>11</td>\n",
       "      <td>2018-11-30 04:53:02</td>\n",
       "      <td>Haymarket Square</td>\n",
       "      <td>North Station</td>\n",
       "      <td>Lyft</td>\n",
       "      <td>lyft_luxsuv</td>\n",
       "      <td>Lux Black XL</td>\n",
       "      <td>...</td>\n",
       "      <td>0.0000</td>\n",
       "      <td>1543507200</td>\n",
       "      <td>34.67</td>\n",
       "      <td>1543550400</td>\n",
       "      <td>45.03</td>\n",
       "      <td>1543510800</td>\n",
       "      <td>30.30</td>\n",
       "      <td>1543550400</td>\n",
       "      <td>38.53</td>\n",
       "      <td>1543510800</td>\n",
       "    </tr>\n",
       "    <tr>\n",
       "      <th>4</th>\n",
       "      <td>1.543463e+09</td>\n",
       "      <td>3</td>\n",
       "      <td>29</td>\n",
       "      <td>11</td>\n",
       "      <td>2018-11-29 03:49:20</td>\n",
       "      <td>Haymarket Square</td>\n",
       "      <td>North Station</td>\n",
       "      <td>Lyft</td>\n",
       "      <td>lyft_plus</td>\n",
       "      <td>Lyft XL</td>\n",
       "      <td>...</td>\n",
       "      <td>0.0001</td>\n",
       "      <td>1543420800</td>\n",
       "      <td>33.10</td>\n",
       "      <td>1543402800</td>\n",
       "      <td>42.18</td>\n",
       "      <td>1543420800</td>\n",
       "      <td>29.11</td>\n",
       "      <td>1543392000</td>\n",
       "      <td>35.75</td>\n",
       "      <td>1543420800</td>\n",
       "    </tr>\n",
       "    <tr>\n",
       "      <th>...</th>\n",
       "      <td>...</td>\n",
       "      <td>...</td>\n",
       "      <td>...</td>\n",
       "      <td>...</td>\n",
       "      <td>...</td>\n",
       "      <td>...</td>\n",
       "      <td>...</td>\n",
       "      <td>...</td>\n",
       "      <td>...</td>\n",
       "      <td>...</td>\n",
       "      <td>...</td>\n",
       "      <td>...</td>\n",
       "      <td>...</td>\n",
       "      <td>...</td>\n",
       "      <td>...</td>\n",
       "      <td>...</td>\n",
       "      <td>...</td>\n",
       "      <td>...</td>\n",
       "      <td>...</td>\n",
       "      <td>...</td>\n",
       "      <td>...</td>\n",
       "    </tr>\n",
       "    <tr>\n",
       "      <th>693065</th>\n",
       "      <td>1.543708e+09</td>\n",
       "      <td>23</td>\n",
       "      <td>1</td>\n",
       "      <td>12</td>\n",
       "      <td>2018-12-01 23:53:05</td>\n",
       "      <td>West End</td>\n",
       "      <td>North End</td>\n",
       "      <td>Uber</td>\n",
       "      <td>6f72dfc5-27f1-42e8-84db-ccc7a75f6969</td>\n",
       "      <td>UberXL</td>\n",
       "      <td>...</td>\n",
       "      <td>0.0000</td>\n",
       "      <td>1543683600</td>\n",
       "      <td>31.42</td>\n",
       "      <td>1543658400</td>\n",
       "      <td>44.76</td>\n",
       "      <td>1543690800</td>\n",
       "      <td>27.77</td>\n",
       "      <td>1543658400</td>\n",
       "      <td>44.09</td>\n",
       "      <td>1543690800</td>\n",
       "    </tr>\n",
       "    <tr>\n",
       "      <th>693066</th>\n",
       "      <td>1.543708e+09</td>\n",
       "      <td>23</td>\n",
       "      <td>1</td>\n",
       "      <td>12</td>\n",
       "      <td>2018-12-01 23:53:05</td>\n",
       "      <td>West End</td>\n",
       "      <td>North End</td>\n",
       "      <td>Uber</td>\n",
       "      <td>55c66225-fbe7-4fd5-9072-eab1ece5e23e</td>\n",
       "      <td>UberX</td>\n",
       "      <td>...</td>\n",
       "      <td>0.0000</td>\n",
       "      <td>1543683600</td>\n",
       "      <td>31.42</td>\n",
       "      <td>1543658400</td>\n",
       "      <td>44.76</td>\n",
       "      <td>1543690800</td>\n",
       "      <td>27.77</td>\n",
       "      <td>1543658400</td>\n",
       "      <td>44.09</td>\n",
       "      <td>1543690800</td>\n",
       "    </tr>\n",
       "    <tr>\n",
       "      <th>693067</th>\n",
       "      <td>1.543708e+09</td>\n",
       "      <td>23</td>\n",
       "      <td>1</td>\n",
       "      <td>12</td>\n",
       "      <td>2018-12-01 23:53:05</td>\n",
       "      <td>West End</td>\n",
       "      <td>North End</td>\n",
       "      <td>Uber</td>\n",
       "      <td>8cf7e821-f0d3-49c6-8eba-e679c0ebcf6a</td>\n",
       "      <td>Taxi</td>\n",
       "      <td>...</td>\n",
       "      <td>0.0000</td>\n",
       "      <td>1543683600</td>\n",
       "      <td>31.42</td>\n",
       "      <td>1543658400</td>\n",
       "      <td>44.76</td>\n",
       "      <td>1543690800</td>\n",
       "      <td>27.77</td>\n",
       "      <td>1543658400</td>\n",
       "      <td>44.09</td>\n",
       "      <td>1543690800</td>\n",
       "    </tr>\n",
       "    <tr>\n",
       "      <th>693068</th>\n",
       "      <td>1.543708e+09</td>\n",
       "      <td>23</td>\n",
       "      <td>1</td>\n",
       "      <td>12</td>\n",
       "      <td>2018-12-01 23:53:05</td>\n",
       "      <td>West End</td>\n",
       "      <td>North End</td>\n",
       "      <td>Uber</td>\n",
       "      <td>6d318bcc-22a3-4af6-bddd-b409bfce1546</td>\n",
       "      <td>Black SUV</td>\n",
       "      <td>...</td>\n",
       "      <td>0.0000</td>\n",
       "      <td>1543683600</td>\n",
       "      <td>31.42</td>\n",
       "      <td>1543658400</td>\n",
       "      <td>44.76</td>\n",
       "      <td>1543690800</td>\n",
       "      <td>27.77</td>\n",
       "      <td>1543658400</td>\n",
       "      <td>44.09</td>\n",
       "      <td>1543690800</td>\n",
       "    </tr>\n",
       "    <tr>\n",
       "      <th>693069</th>\n",
       "      <td>1.543708e+09</td>\n",
       "      <td>23</td>\n",
       "      <td>1</td>\n",
       "      <td>12</td>\n",
       "      <td>2018-12-01 23:53:05</td>\n",
       "      <td>West End</td>\n",
       "      <td>North End</td>\n",
       "      <td>Uber</td>\n",
       "      <td>997acbb5-e102-41e1-b155-9df7de0a73f2</td>\n",
       "      <td>UberPool</td>\n",
       "      <td>...</td>\n",
       "      <td>0.0000</td>\n",
       "      <td>1543683600</td>\n",
       "      <td>31.42</td>\n",
       "      <td>1543658400</td>\n",
       "      <td>44.76</td>\n",
       "      <td>1543690800</td>\n",
       "      <td>27.77</td>\n",
       "      <td>1543658400</td>\n",
       "      <td>44.09</td>\n",
       "      <td>1543690800</td>\n",
       "    </tr>\n",
       "  </tbody>\n",
       "</table>\n",
       "<p>693070 rows × 55 columns</p>\n",
       "</div>"
      ],
      "text/plain": [
       "           timestamp  hour  day  month             datetime            source  \\\n",
       "0       1.544953e+09     9   16     12  2018-12-16 09:30:07  Haymarket Square   \n",
       "1       1.543284e+09     2   27     11  2018-11-27 02:00:23  Haymarket Square   \n",
       "2       1.543367e+09     1   28     11  2018-11-28 01:00:22  Haymarket Square   \n",
       "3       1.543554e+09     4   30     11  2018-11-30 04:53:02  Haymarket Square   \n",
       "4       1.543463e+09     3   29     11  2018-11-29 03:49:20  Haymarket Square   \n",
       "...              ...   ...  ...    ...                  ...               ...   \n",
       "693065  1.543708e+09    23    1     12  2018-12-01 23:53:05          West End   \n",
       "693066  1.543708e+09    23    1     12  2018-12-01 23:53:05          West End   \n",
       "693067  1.543708e+09    23    1     12  2018-12-01 23:53:05          West End   \n",
       "693068  1.543708e+09    23    1     12  2018-12-01 23:53:05          West End   \n",
       "693069  1.543708e+09    23    1     12  2018-12-01 23:53:05          West End   \n",
       "\n",
       "            destinasi tipe_taksi                            product_id  \\\n",
       "0       North Station       Lyft                             lyft_line   \n",
       "1       North Station       Lyft                          lyft_premier   \n",
       "2       North Station       Lyft                                  lyft   \n",
       "3       North Station       Lyft                           lyft_luxsuv   \n",
       "4       North Station       Lyft                             lyft_plus   \n",
       "...               ...        ...                                   ...   \n",
       "693065      North End       Uber  6f72dfc5-27f1-42e8-84db-ccc7a75f6969   \n",
       "693066      North End       Uber  55c66225-fbe7-4fd5-9072-eab1ece5e23e   \n",
       "693067      North End       Uber  8cf7e821-f0d3-49c6-8eba-e679c0ebcf6a   \n",
       "693068      North End       Uber  6d318bcc-22a3-4af6-bddd-b409bfce1546   \n",
       "693069      North End       Uber  997acbb5-e102-41e1-b155-9df7de0a73f2   \n",
       "\n",
       "                nama  ...  precipIntensityMax  uvIndexTime  temperatureMin  \\\n",
       "0             Shared  ...              0.1276   1544979600           39.89   \n",
       "1                Lux  ...              0.1300   1543251600           40.49   \n",
       "2               Lyft  ...              0.1064   1543338000           35.36   \n",
       "3       Lux Black XL  ...              0.0000   1543507200           34.67   \n",
       "4            Lyft XL  ...              0.0001   1543420800           33.10   \n",
       "...              ...  ...                 ...          ...             ...   \n",
       "693065        UberXL  ...              0.0000   1543683600           31.42   \n",
       "693066         UberX  ...              0.0000   1543683600           31.42   \n",
       "693067          Taxi  ...              0.0000   1543683600           31.42   \n",
       "693068     Black SUV  ...              0.0000   1543683600           31.42   \n",
       "693069      UberPool  ...              0.0000   1543683600           31.42   \n",
       "\n",
       "        temperatureMinTime  temperatureMax  temperatureMaxTime  \\\n",
       "0               1545012000           43.68          1544968800   \n",
       "1               1543233600           47.30          1543251600   \n",
       "2               1543377600           47.55          1543320000   \n",
       "3               1543550400           45.03          1543510800   \n",
       "4               1543402800           42.18          1543420800   \n",
       "...                    ...             ...                 ...   \n",
       "693065          1543658400           44.76          1543690800   \n",
       "693066          1543658400           44.76          1543690800   \n",
       "693067          1543658400           44.76          1543690800   \n",
       "693068          1543658400           44.76          1543690800   \n",
       "693069          1543658400           44.76          1543690800   \n",
       "\n",
       "        apparentTemperatureMin apparentTemperatureMinTime  \\\n",
       "0                        33.73                 1545012000   \n",
       "1                        36.20                 1543291200   \n",
       "2                        31.04                 1543377600   \n",
       "3                        30.30                 1543550400   \n",
       "4                        29.11                 1543392000   \n",
       "...                        ...                        ...   \n",
       "693065                   27.77                 1543658400   \n",
       "693066                   27.77                 1543658400   \n",
       "693067                   27.77                 1543658400   \n",
       "693068                   27.77                 1543658400   \n",
       "693069                   27.77                 1543658400   \n",
       "\n",
       "       apparentTemperatureMax  apparentTemperatureMaxTime  \n",
       "0                       38.07                  1544958000  \n",
       "1                       43.92                  1543251600  \n",
       "2                       44.12                  1543320000  \n",
       "3                       38.53                  1543510800  \n",
       "4                       35.75                  1543420800  \n",
       "...                       ...                         ...  \n",
       "693065                  44.09                  1543690800  \n",
       "693066                  44.09                  1543690800  \n",
       "693067                  44.09                  1543690800  \n",
       "693068                  44.09                  1543690800  \n",
       "693069                  44.09                  1543690800  \n",
       "\n",
       "[693070 rows x 55 columns]"
      ]
     },
     "execution_count": 187,
     "metadata": {},
     "output_type": "execute_result"
    }
   ],
   "source": [
    "df"
   ]
  },
  {
   "cell_type": "markdown",
   "metadata": {},
   "source": [
    "### **1. Apa harga dan jarak pada data?**"
   ]
  },
  {
   "cell_type": "markdown",
   "metadata": {},
   "source": [
    "Untuk melihat distribusi harga dan jarak pada data, divisualisasikan melalui histogram dan boxplot"
   ]
  },
  {
   "cell_type": "code",
   "execution_count": 188,
   "metadata": {},
   "outputs": [
    {
     "data": {
      "text/plain": [
       "Text(0.5, 1.0, 'Boxplot of price')"
      ]
     },
     "execution_count": 188,
     "metadata": {},
     "output_type": "execute_result"
    },
    {
     "data": {
      "image/png": "[encoded data removed]",
      "text/plain": [
       "<Figure size 1600x500 with 2 Axes>"
      ]
     },
     "metadata": {},
     "output_type": "display_data"
    }
   ],
   "source": [
    "# Membuat Histogram\n",
    "plt.figure(figsize=(16,5))\n",
    "# Membuat subplot\n",
    "plt.subplot(1,2,1)\n",
    "sns.histplot(df['price'], kde=True, bins = 30)\n",
    "# Membuat judul\n",
    "plt.title('Histogram of price')\n",
    "# Membuat boxplot \n",
    "plt.subplot(1,2,2)\n",
    "sns.boxplot(df['price'], fill=False)\n",
    "plt.title('Boxplot of price')"
   ]
  },
  {
   "cell_type": "markdown",
   "metadata": {},
   "source": [
    "Dari gambar histogram di atas menunjukkan bahwa distribusi price skewed ke kanan. Dari Boxplot di atas menunjukkan bahwa terdapat banyak outlier. Boxplot di atas juga menunjukkan Q1, Q2, dan Q3. "
   ]
  },
  {
   "cell_type": "code",
   "execution_count": 189,
   "metadata": {},
   "outputs": [
    {
     "data": {
      "text/plain": [
       "1.0457446392622425"
      ]
     },
     "execution_count": 189,
     "metadata": {},
     "output_type": "execute_result"
    }
   ],
   "source": [
    "# Menguji skewness\n",
    "df['price'].skew()"
   ]
  },
  {
   "cell_type": "markdown",
   "metadata": {},
   "source": [
    "Didapat skewness adalah 1.0457 > 1, sehingga dapat dikatakan bahwa data ekstrim skewed ke kanan"
   ]
  },
  {
   "cell_type": "code",
   "execution_count": 190,
   "metadata": {},
   "outputs": [
    {
     "data": {
      "text/plain": [
       "count    637975.000000\n",
       "mean         16.545134\n",
       "std           9.324363\n",
       "min           2.500000\n",
       "25%           9.000000\n",
       "50%          13.500000\n",
       "75%          22.500000\n",
       "max          97.500000\n",
       "Name: price, dtype: float64"
      ]
     },
     "execution_count": 190,
     "metadata": {},
     "output_type": "execute_result"
    }
   ],
   "source": [
    "# Mendeskripsikan data \n",
    "df['price'].describe()"
   ]
  },
  {
   "cell_type": "markdown",
   "metadata": {},
   "source": [
    "Diketahui bahwa Q1 adalah 9, median sebesar 13.5 dan Q3 sebesar 22.5. "
   ]
  },
  {
   "cell_type": "markdown",
   "metadata": {},
   "source": [
    "Sekarang, visualisasi data jarak "
   ]
  },
  {
   "cell_type": "code",
   "execution_count": 191,
   "metadata": {},
   "outputs": [
    {
     "data": {
      "text/plain": [
       "Text(0.5, 1.0, 'Boxplot of jarak')"
      ]
     },
     "execution_count": 191,
     "metadata": {},
     "output_type": "execute_result"
    },
    {
     "data": {
      "image/png": "[encoded data removed]",
      "text/plain": [
       "<Figure size 1600x500 with 2 Axes>"
      ]
     },
     "metadata": {},
     "output_type": "display_data"
    }
   ],
   "source": [
    "# Membuat Histogram\n",
    "plt.figure(figsize=(16,5))\n",
    "# Membuat subplot\n",
    "plt.subplot(1,2,1)\n",
    "sns.histplot(df['jarak'], kde=True, bins = 30)\n",
    "# Membuat judul\n",
    "plt.title('Histogram of jarak')\n",
    "# Membuat boxplot distance\n",
    "plt.subplot(1,2,2)\n",
    "sns.boxplot(df['jarak'], fill=False)\n",
    "plt.title('Boxplot of jarak')"
   ]
  },
  {
   "cell_type": "markdown",
   "metadata": {},
   "source": [
    "Dari gambar histogram di atas menunjukkan bahwa distribusi jarak sedikit skewed ke kanan. Dari Boxplot di atas menunjukkan bahwa terdapat banyak outlier. Boxplot di atas juga menunjukkan Q1, Q2, dan Q3. "
   ]
  },
  {
   "cell_type": "code",
   "execution_count": 192,
   "metadata": {},
   "outputs": [
    {
     "data": {
      "text/plain": [
       "0.8343932962766487"
      ]
     },
     "execution_count": 192,
     "metadata": {},
     "output_type": "execute_result"
    }
   ],
   "source": [
    "# Menguji skewness\n",
    "df['jarak'].skew()"
   ]
  },
  {
   "cell_type": "markdown",
   "metadata": {},
   "source": [
    "Didapat skewness adalah 0.8343 > 1, sehingga dapat dikatakan bahwa data skewed ke kanan"
   ]
  },
  {
   "cell_type": "code",
   "execution_count": 193,
   "metadata": {},
   "outputs": [
    {
     "data": {
      "text/plain": [
       "count    693070.000000\n",
       "mean          2.189431\n",
       "std           1.138937\n",
       "min           0.020000\n",
       "25%           1.280000\n",
       "50%           2.160000\n",
       "75%           2.920000\n",
       "max           7.860000\n",
       "Name: jarak, dtype: float64"
      ]
     },
     "execution_count": 193,
     "metadata": {},
     "output_type": "execute_result"
    }
   ],
   "source": [
    "# Mendeskripsikan data \n",
    "df['jarak'].describe()"
   ]
  },
  {
   "cell_type": "markdown",
   "metadata": {},
   "source": [
    "Diketahui bahwa Q1 adalah 1.28, median sebesar 2.16 dan Q3 sebesar 2.92. "
   ]
  },
  {
   "cell_type": "markdown",
   "metadata": {},
   "source": [
    "### **2. Distribusi lonjakan pengali di data**"
   ]
  },
  {
   "cell_type": "markdown",
   "metadata": {},
   "source": [
    "Untuk melihat distribusi lonjakan pengali pada data, divisualisasikan melalui histogram dan boxplot"
   ]
  },
  {
   "cell_type": "code",
   "execution_count": 194,
   "metadata": {},
   "outputs": [
    {
     "data": {
      "text/plain": [
       "Text(0.5, 1.0, 'Boxplot of lonjakan pengali')"
      ]
     },
     "execution_count": 194,
     "metadata": {},
     "output_type": "execute_result"
    },
    {
     "data": {
      "image/png": "[encoded data removed]",
      "text/plain": [
       "<Figure size 1600x500 with 2 Axes>"
      ]
     },
     "metadata": {},
     "output_type": "display_data"
    }
   ],
   "source": [
    "# Membuat Histogram\n",
    "plt.figure(figsize=(16,5))\n",
    "# Membuat subplot\n",
    "plt.subplot(1,2,1)\n",
    "sns.histplot(df['lonjakan_pengali'], kde=True, bins = 30)\n",
    "# Membuat judul\n",
    "plt.title('Histogram of lonjakan pengali')\n",
    "# Membuat boxplot surge multiplier\n",
    "plt.subplot(1,2,2)\n",
    "sns.boxplot(df['lonjakan_pengali'], fill=False)\n",
    "plt.title('Boxplot of lonjakan pengali')"
   ]
  },
  {
   "cell_type": "markdown",
   "metadata": {},
   "source": [
    "Dari gambar histogram di atas menunjukkan bahwa distribusi surge multiplier sangat ekstrim skewed ke kanan. Dari Boxplot di atas menunjukkan bahwa terdapat outlier. Boxplot di atas menunjukkan bahwa Q1, Q2, dan Q3 sebesar 1"
   ]
  },
  {
   "cell_type": "code",
   "execution_count": 195,
   "metadata": {},
   "outputs": [
    {
     "data": {
      "text/plain": [
       "8.320241806468267"
      ]
     },
     "execution_count": 195,
     "metadata": {},
     "output_type": "execute_result"
    }
   ],
   "source": [
    "# Menguji skewness\n",
    "df['lonjakan_pengali'].skew()"
   ]
  },
  {
   "cell_type": "markdown",
   "metadata": {},
   "source": [
    "Didapat skewness adalah 8.32 > 1, sehingga dapat dikatakan bahwa data sangat ekstrim skewed ke kanan"
   ]
  },
  {
   "cell_type": "code",
   "execution_count": 196,
   "metadata": {},
   "outputs": [
    {
     "data": {
      "text/plain": [
       "count    693070.000000\n",
       "mean          1.013870\n",
       "std           0.091641\n",
       "min           1.000000\n",
       "25%           1.000000\n",
       "50%           1.000000\n",
       "75%           1.000000\n",
       "max           3.000000\n",
       "Name: lonjakan_pengali, dtype: float64"
      ]
     },
     "execution_count": 196,
     "metadata": {},
     "output_type": "execute_result"
    }
   ],
   "source": [
    "# Mendeskripsikan data \n",
    "df['lonjakan_pengali'].describe()"
   ]
  },
  {
   "cell_type": "markdown",
   "metadata": {},
   "source": [
    "Diketahui bahwa Q1, Q2, dan Q3 sebesar 1"
   ]
  },
  {
   "cell_type": "markdown",
   "metadata": {},
   "source": [
    "### ***3. Nama Taksi dengan rata - rata harga tertinggi***"
   ]
  },
  {
   "cell_type": "code",
   "execution_count": 197,
   "metadata": {},
   "outputs": [
    {
     "data": {
      "text/plain": [
       "nama\n",
       "Lux Black XL    32.324086\n",
       "Black SUV       30.286763\n",
       "Lux Black       23.062468\n",
       "Black           20.523786\n",
       "Lux             17.771240\n",
       "UberXL          15.678144\n",
       "Lyft XL         15.309363\n",
       "UberX            9.765052\n",
       "WAV              9.765019\n",
       "Lyft             9.610885\n",
       "UberPool         8.752500\n",
       "Shared           6.029893\n",
       "Taxi                  NaN\n",
       "Name: price, dtype: float64"
      ]
     },
     "execution_count": 197,
     "metadata": {},
     "output_type": "execute_result"
    }
   ],
   "source": [
    "# Group by berdasarkan nama dan harga\n",
    "Taksi = df.groupby(['nama'])['price'].mean()\n",
    "Taksi = Taksi.sort_values(ascending=False)\n",
    "Taksi"
   ]
  },
  {
   "cell_type": "markdown",
   "metadata": {},
   "source": [
    "Visualisasi menggunakan bar horizontal plot"
   ]
  },
  {
   "cell_type": "code",
   "execution_count": 198,
   "metadata": {},
   "outputs": [
    {
     "data": {
      "text/plain": [
       "<Axes: ylabel='nama'>"
      ]
     },
     "execution_count": 198,
     "metadata": {},
     "output_type": "execute_result"
    },
    {
     "data": {
      "image/png": "[encoded data removed]",
      "text/plain": [
       "<Figure size 640x480 with 1 Axes>"
      ]
     },
     "metadata": {},
     "output_type": "display_data"
    }
   ],
   "source": [
    "Taksi.plot(kind='barh')"
   ]
  },
  {
   "cell_type": "markdown",
   "metadata": {},
   "source": [
    "Didapat Taksi yang memiliki rata rata harga paling mahal adalah Lux Black XL"
   ]
  },
  {
   "cell_type": "markdown",
   "metadata": {},
   "source": [
    "### ***4. Destinasi yang paling banyak dikunjungi***"
   ]
  },
  {
   "cell_type": "code",
   "execution_count": 199,
   "metadata": {},
   "outputs": [
    {
     "data": {
      "text/plain": [
       "destinasi\n",
       "Financial District         58851\n",
       "Theatre District           57798\n",
       "Back Bay                   57780\n",
       "Boston University          57764\n",
       "Haymarket Square           57764\n",
       "Fenway                     57757\n",
       "North End                  57755\n",
       "Northeastern University    57755\n",
       "South Station              57749\n",
       "West End                   57575\n",
       "Beacon Hill                57403\n",
       "North Station              57119\n",
       "Name: destinasi, dtype: int64"
      ]
     },
     "execution_count": 199,
     "metadata": {},
     "output_type": "execute_result"
    }
   ],
   "source": [
    "# Group by berdasarkan destinasi\n",
    "Destination = df.groupby(['destinasi'])['destinasi'].count()\n",
    "Destination = Destination.sort_values(ascending=False)\n",
    "Destination"
   ]
  },
  {
   "cell_type": "markdown",
   "metadata": {},
   "source": [
    "Visualisasi menggunakan bar horizontal plot"
   ]
  },
  {
   "cell_type": "code",
   "execution_count": 200,
   "metadata": {},
   "outputs": [
    {
     "data": {
      "text/plain": [
       "<Axes: ylabel='destinasi'>"
      ]
     },
     "execution_count": 200,
     "metadata": {},
     "output_type": "execute_result"
    },
    {
     "data": {
      "image/png": "[encoded data removed]",
      "text/plain": [
       "<Figure size 640x480 with 1 Axes>"
      ]
     },
     "metadata": {},
     "output_type": "display_data"
    }
   ],
   "source": [
    "Destination.plot(kind='barh')"
   ]
  },
  {
   "cell_type": "markdown",
   "metadata": {},
   "source": [
    "Didapat destinasi yang paling banyak dikunjungi adalah Financial District"
   ]
  },
  {
   "cell_type": "markdown",
   "metadata": {},
   "source": [
    "Setelah EDA dilakukan, Feature Engineering dilakukan"
   ]
  },
  {
   "cell_type": "markdown",
   "metadata": {},
   "source": [
    "---\n",
    "---"
   ]
  },
  {
   "cell_type": "markdown",
   "metadata": {},
   "source": [
    "<vspace>"
   ]
  },
  {
   "cell_type": "markdown",
   "metadata": {},
   "source": [
    "## ***Feature Engineering***"
   ]
  },
  {
   "cell_type": "markdown",
   "metadata": {},
   "source": [
    "---"
   ]
  },
  {
   "cell_type": "markdown",
   "metadata": {},
   "source": [
    "Hal pertama dilakukan adalah memisahkan data label/target dengan data lainnya"
   ]
  },
  {
   "cell_type": "code",
   "execution_count": 201,
   "metadata": {},
   "outputs": [],
   "source": [
    "# Membuat data X tanpa price\n",
    "X = df.drop('price', axis=1)\n",
    "# Membuat data y yang hanya price\n",
    "y = df['price']"
   ]
  },
  {
   "cell_type": "markdown",
   "metadata": {},
   "source": [
    "Setelah pemisahan data dilakukan, selanjutnya data akan dipisahkan menjadi data train dan tes"
   ]
  },
  {
   "cell_type": "code",
   "execution_count": 202,
   "metadata": {},
   "outputs": [
    {
     "name": "stdout",
     "output_type": "stream",
     "text": [
      "Train size :  (554456, 54)\n",
      "Test size :  (138614, 54)\n"
     ]
    },
    {
     "data": {
      "text/html": [
       "<div>\n",
       "<style scoped>\n",
       "    .dataframe tbody tr th:only-of-type {\n",
       "        vertical-align: middle;\n",
       "    }\n",
       "\n",
       "    .dataframe tbody tr th {\n",
       "        vertical-align: top;\n",
       "    }\n",
       "\n",
       "    .dataframe thead th {\n",
       "        text-align: right;\n",
       "    }\n",
       "</style>\n",
       "<table border=\"1\" class=\"dataframe\">\n",
       "  <thead>\n",
       "    <tr style=\"text-align: right;\">\n",
       "      <th></th>\n",
       "      <th>timestamp</th>\n",
       "      <th>hour</th>\n",
       "      <th>day</th>\n",
       "      <th>month</th>\n",
       "      <th>datetime</th>\n",
       "      <th>source</th>\n",
       "      <th>destinasi</th>\n",
       "      <th>tipe_taksi</th>\n",
       "      <th>product_id</th>\n",
       "      <th>nama</th>\n",
       "      <th>...</th>\n",
       "      <th>precipIntensityMax</th>\n",
       "      <th>uvIndexTime</th>\n",
       "      <th>temperatureMin</th>\n",
       "      <th>temperatureMinTime</th>\n",
       "      <th>temperatureMax</th>\n",
       "      <th>temperatureMaxTime</th>\n",
       "      <th>apparentTemperatureMin</th>\n",
       "      <th>apparentTemperatureMinTime</th>\n",
       "      <th>apparentTemperatureMax</th>\n",
       "      <th>apparentTemperatureMaxTime</th>\n",
       "    </tr>\n",
       "  </thead>\n",
       "  <tbody>\n",
       "    <tr>\n",
       "      <th>120144</th>\n",
       "      <td>1.543822e+09</td>\n",
       "      <td>7</td>\n",
       "      <td>3</td>\n",
       "      <td>12</td>\n",
       "      <td>2018-12-03 07:22:58</td>\n",
       "      <td>Haymarket Square</td>\n",
       "      <td>Theatre District</td>\n",
       "      <td>Uber</td>\n",
       "      <td>6d318bcc-22a3-4af6-bddd-b409bfce1546</td>\n",
       "      <td>Black SUV</td>\n",
       "      <td>...</td>\n",
       "      <td>0.0007</td>\n",
       "      <td>1543852800</td>\n",
       "      <td>42.96</td>\n",
       "      <td>1543896000</td>\n",
       "      <td>57.87</td>\n",
       "      <td>1543852800</td>\n",
       "      <td>39.41</td>\n",
       "      <td>1543896000</td>\n",
       "      <td>57.20</td>\n",
       "      <td>1543852800</td>\n",
       "    </tr>\n",
       "    <tr>\n",
       "      <th>424231</th>\n",
       "      <td>1.545132e+09</td>\n",
       "      <td>11</td>\n",
       "      <td>18</td>\n",
       "      <td>12</td>\n",
       "      <td>2018-12-18 11:15:10</td>\n",
       "      <td>Beacon Hill</td>\n",
       "      <td>South Station</td>\n",
       "      <td>Uber</td>\n",
       "      <td>6f72dfc5-27f1-42e8-84db-ccc7a75f6969</td>\n",
       "      <td>UberXL</td>\n",
       "      <td>...</td>\n",
       "      <td>0.0028</td>\n",
       "      <td>1545152400</td>\n",
       "      <td>23.09</td>\n",
       "      <td>1545192000</td>\n",
       "      <td>38.03</td>\n",
       "      <td>1545109200</td>\n",
       "      <td>11.82</td>\n",
       "      <td>1545134400</td>\n",
       "      <td>31.92</td>\n",
       "      <td>1545109200</td>\n",
       "    </tr>\n",
       "    <tr>\n",
       "      <th>462379</th>\n",
       "      <td>1.545041e+09</td>\n",
       "      <td>10</td>\n",
       "      <td>17</td>\n",
       "      <td>12</td>\n",
       "      <td>2018-12-17 10:05:11</td>\n",
       "      <td>Northeastern University</td>\n",
       "      <td>Back Bay</td>\n",
       "      <td>Lyft</td>\n",
       "      <td>lyft_premier</td>\n",
       "      <td>Lux</td>\n",
       "      <td>...</td>\n",
       "      <td>0.0175</td>\n",
       "      <td>1545066000</td>\n",
       "      <td>34.14</td>\n",
       "      <td>1545044400</td>\n",
       "      <td>41.44</td>\n",
       "      <td>1545076800</td>\n",
       "      <td>28.12</td>\n",
       "      <td>1545044400</td>\n",
       "      <td>35.95</td>\n",
       "      <td>1545076800</td>\n",
       "    </tr>\n",
       "    <tr>\n",
       "      <th>517429</th>\n",
       "      <td>1.543254e+09</td>\n",
       "      <td>17</td>\n",
       "      <td>26</td>\n",
       "      <td>11</td>\n",
       "      <td>2018-11-26 17:32:09</td>\n",
       "      <td>North Station</td>\n",
       "      <td>North End</td>\n",
       "      <td>Lyft</td>\n",
       "      <td>lyft_plus</td>\n",
       "      <td>Lyft XL</td>\n",
       "      <td>...</td>\n",
       "      <td>0.1225</td>\n",
       "      <td>1543251600</td>\n",
       "      <td>40.45</td>\n",
       "      <td>1543233600</td>\n",
       "      <td>46.49</td>\n",
       "      <td>1543255200</td>\n",
       "      <td>37.17</td>\n",
       "      <td>1543291200</td>\n",
       "      <td>43.84</td>\n",
       "      <td>1543244400</td>\n",
       "    </tr>\n",
       "    <tr>\n",
       "      <th>23107</th>\n",
       "      <td>1.543457e+09</td>\n",
       "      <td>2</td>\n",
       "      <td>29</td>\n",
       "      <td>11</td>\n",
       "      <td>2018-11-29 02:11:07</td>\n",
       "      <td>Haymarket Square</td>\n",
       "      <td>North Station</td>\n",
       "      <td>Uber</td>\n",
       "      <td>6f72dfc5-27f1-42e8-84db-ccc7a75f6969</td>\n",
       "      <td>UberXL</td>\n",
       "      <td>...</td>\n",
       "      <td>0.0000</td>\n",
       "      <td>1543420800</td>\n",
       "      <td>33.60</td>\n",
       "      <td>1543399200</td>\n",
       "      <td>42.70</td>\n",
       "      <td>1543438800</td>\n",
       "      <td>30.08</td>\n",
       "      <td>1543399200</td>\n",
       "      <td>36.77</td>\n",
       "      <td>1543438800</td>\n",
       "    </tr>\n",
       "    <tr>\n",
       "      <th>...</th>\n",
       "      <td>...</td>\n",
       "      <td>...</td>\n",
       "      <td>...</td>\n",
       "      <td>...</td>\n",
       "      <td>...</td>\n",
       "      <td>...</td>\n",
       "      <td>...</td>\n",
       "      <td>...</td>\n",
       "      <td>...</td>\n",
       "      <td>...</td>\n",
       "      <td>...</td>\n",
       "      <td>...</td>\n",
       "      <td>...</td>\n",
       "      <td>...</td>\n",
       "      <td>...</td>\n",
       "      <td>...</td>\n",
       "      <td>...</td>\n",
       "      <td>...</td>\n",
       "      <td>...</td>\n",
       "      <td>...</td>\n",
       "      <td>...</td>\n",
       "    </tr>\n",
       "    <tr>\n",
       "      <th>371403</th>\n",
       "      <td>1.543346e+09</td>\n",
       "      <td>19</td>\n",
       "      <td>27</td>\n",
       "      <td>11</td>\n",
       "      <td>2018-11-27 19:18:22</td>\n",
       "      <td>South Station</td>\n",
       "      <td>Financial District</td>\n",
       "      <td>Lyft</td>\n",
       "      <td>lyft_plus</td>\n",
       "      <td>Lyft XL</td>\n",
       "      <td>...</td>\n",
       "      <td>0.1433</td>\n",
       "      <td>1543338000</td>\n",
       "      <td>36.13</td>\n",
       "      <td>1543377600</td>\n",
       "      <td>46.83</td>\n",
       "      <td>1543320000</td>\n",
       "      <td>32.05</td>\n",
       "      <td>1543377600</td>\n",
       "      <td>43.85</td>\n",
       "      <td>1543320000</td>\n",
       "    </tr>\n",
       "    <tr>\n",
       "      <th>491263</th>\n",
       "      <td>1.543273e+09</td>\n",
       "      <td>22</td>\n",
       "      <td>26</td>\n",
       "      <td>11</td>\n",
       "      <td>2018-11-26 22:51:10</td>\n",
       "      <td>Beacon Hill</td>\n",
       "      <td>Fenway</td>\n",
       "      <td>Lyft</td>\n",
       "      <td>lyft</td>\n",
       "      <td>Lyft</td>\n",
       "      <td>...</td>\n",
       "      <td>0.1245</td>\n",
       "      <td>1543251600</td>\n",
       "      <td>40.67</td>\n",
       "      <td>1543233600</td>\n",
       "      <td>46.46</td>\n",
       "      <td>1543255200</td>\n",
       "      <td>37.45</td>\n",
       "      <td>1543291200</td>\n",
       "      <td>43.81</td>\n",
       "      <td>1543251600</td>\n",
       "    </tr>\n",
       "    <tr>\n",
       "      <th>470924</th>\n",
       "      <td>1.544800e+09</td>\n",
       "      <td>15</td>\n",
       "      <td>14</td>\n",
       "      <td>12</td>\n",
       "      <td>2018-12-14 15:05:10</td>\n",
       "      <td>Fenway</td>\n",
       "      <td>West End</td>\n",
       "      <td>Lyft</td>\n",
       "      <td>lyft_premier</td>\n",
       "      <td>Lux</td>\n",
       "      <td>...</td>\n",
       "      <td>0.0000</td>\n",
       "      <td>1544806800</td>\n",
       "      <td>27.07</td>\n",
       "      <td>1544788800</td>\n",
       "      <td>46.45</td>\n",
       "      <td>1544814000</td>\n",
       "      <td>27.72</td>\n",
       "      <td>1544788800</td>\n",
       "      <td>43.71</td>\n",
       "      <td>1544817600</td>\n",
       "    </tr>\n",
       "    <tr>\n",
       "      <th>491755</th>\n",
       "      <td>1.543459e+09</td>\n",
       "      <td>2</td>\n",
       "      <td>29</td>\n",
       "      <td>11</td>\n",
       "      <td>2018-11-29 02:38:08</td>\n",
       "      <td>Beacon Hill</td>\n",
       "      <td>Northeastern University</td>\n",
       "      <td>Uber</td>\n",
       "      <td>997acbb5-e102-41e1-b155-9df7de0a73f2</td>\n",
       "      <td>UberPool</td>\n",
       "      <td>...</td>\n",
       "      <td>0.0000</td>\n",
       "      <td>1543420800</td>\n",
       "      <td>33.60</td>\n",
       "      <td>1543399200</td>\n",
       "      <td>42.70</td>\n",
       "      <td>1543438800</td>\n",
       "      <td>30.08</td>\n",
       "      <td>1543399200</td>\n",
       "      <td>36.77</td>\n",
       "      <td>1543438800</td>\n",
       "    </tr>\n",
       "    <tr>\n",
       "      <th>128037</th>\n",
       "      <td>1.544816e+09</td>\n",
       "      <td>19</td>\n",
       "      <td>14</td>\n",
       "      <td>12</td>\n",
       "      <td>2018-12-14 19:25:08</td>\n",
       "      <td>Back Bay</td>\n",
       "      <td>Boston University</td>\n",
       "      <td>Uber</td>\n",
       "      <td>55c66225-fbe7-4fd5-9072-eab1ece5e23e</td>\n",
       "      <td>UberX</td>\n",
       "      <td>...</td>\n",
       "      <td>0.0000</td>\n",
       "      <td>1544806800</td>\n",
       "      <td>27.11</td>\n",
       "      <td>1544781600</td>\n",
       "      <td>46.61</td>\n",
       "      <td>1544814000</td>\n",
       "      <td>27.76</td>\n",
       "      <td>1544781600</td>\n",
       "      <td>43.85</td>\n",
       "      <td>1544817600</td>\n",
       "    </tr>\n",
       "  </tbody>\n",
       "</table>\n",
       "<p>554456 rows × 54 columns</p>\n",
       "</div>"
      ],
      "text/plain": [
       "           timestamp  hour  day  month             datetime  \\\n",
       "120144  1.543822e+09     7    3     12  2018-12-03 07:22:58   \n",
       "424231  1.545132e+09    11   18     12  2018-12-18 11:15:10   \n",
       "462379  1.545041e+09    10   17     12  2018-12-17 10:05:11   \n",
       "517429  1.543254e+09    17   26     11  2018-11-26 17:32:09   \n",
       "23107   1.543457e+09     2   29     11  2018-11-29 02:11:07   \n",
       "...              ...   ...  ...    ...                  ...   \n",
       "371403  1.543346e+09    19   27     11  2018-11-27 19:18:22   \n",
       "491263  1.543273e+09    22   26     11  2018-11-26 22:51:10   \n",
       "470924  1.544800e+09    15   14     12  2018-12-14 15:05:10   \n",
       "491755  1.543459e+09     2   29     11  2018-11-29 02:38:08   \n",
       "128037  1.544816e+09    19   14     12  2018-12-14 19:25:08   \n",
       "\n",
       "                         source                destinasi tipe_taksi  \\\n",
       "120144         Haymarket Square         Theatre District       Uber   \n",
       "424231              Beacon Hill            South Station       Uber   \n",
       "462379  Northeastern University                 Back Bay       Lyft   \n",
       "517429            North Station                North End       Lyft   \n",
       "23107          Haymarket Square            North Station       Uber   \n",
       "...                         ...                      ...        ...   \n",
       "371403            South Station       Financial District       Lyft   \n",
       "491263              Beacon Hill                   Fenway       Lyft   \n",
       "470924                   Fenway                 West End       Lyft   \n",
       "491755              Beacon Hill  Northeastern University       Uber   \n",
       "128037                 Back Bay        Boston University       Uber   \n",
       "\n",
       "                                  product_id       nama  ...  \\\n",
       "120144  6d318bcc-22a3-4af6-bddd-b409bfce1546  Black SUV  ...   \n",
       "424231  6f72dfc5-27f1-42e8-84db-ccc7a75f6969     UberXL  ...   \n",
       "462379                          lyft_premier        Lux  ...   \n",
       "517429                             lyft_plus    Lyft XL  ...   \n",
       "23107   6f72dfc5-27f1-42e8-84db-ccc7a75f6969     UberXL  ...   \n",
       "...                                      ...        ...  ...   \n",
       "371403                             lyft_plus    Lyft XL  ...   \n",
       "491263                                  lyft       Lyft  ...   \n",
       "470924                          lyft_premier        Lux  ...   \n",
       "491755  997acbb5-e102-41e1-b155-9df7de0a73f2   UberPool  ...   \n",
       "128037  55c66225-fbe7-4fd5-9072-eab1ece5e23e      UberX  ...   \n",
       "\n",
       "        precipIntensityMax  uvIndexTime  temperatureMin  temperatureMinTime  \\\n",
       "120144              0.0007   1543852800           42.96          1543896000   \n",
       "424231              0.0028   1545152400           23.09          1545192000   \n",
       "462379              0.0175   1545066000           34.14          1545044400   \n",
       "517429              0.1225   1543251600           40.45          1543233600   \n",
       "23107               0.0000   1543420800           33.60          1543399200   \n",
       "...                    ...          ...             ...                 ...   \n",
       "371403              0.1433   1543338000           36.13          1543377600   \n",
       "491263              0.1245   1543251600           40.67          1543233600   \n",
       "470924              0.0000   1544806800           27.07          1544788800   \n",
       "491755              0.0000   1543420800           33.60          1543399200   \n",
       "128037              0.0000   1544806800           27.11          1544781600   \n",
       "\n",
       "        temperatureMax  temperatureMaxTime apparentTemperatureMin  \\\n",
       "120144           57.87          1543852800                  39.41   \n",
       "424231           38.03          1545109200                  11.82   \n",
       "462379           41.44          1545076800                  28.12   \n",
       "517429           46.49          1543255200                  37.17   \n",
       "23107            42.70          1543438800                  30.08   \n",
       "...                ...                 ...                    ...   \n",
       "371403           46.83          1543320000                  32.05   \n",
       "491263           46.46          1543255200                  37.45   \n",
       "470924           46.45          1544814000                  27.72   \n",
       "491755           42.70          1543438800                  30.08   \n",
       "128037           46.61          1544814000                  27.76   \n",
       "\n",
       "       apparentTemperatureMinTime  apparentTemperatureMax  \\\n",
       "120144                 1543896000                   57.20   \n",
       "424231                 1545134400                   31.92   \n",
       "462379                 1545044400                   35.95   \n",
       "517429                 1543291200                   43.84   \n",
       "23107                  1543399200                   36.77   \n",
       "...                           ...                     ...   \n",
       "371403                 1543377600                   43.85   \n",
       "491263                 1543291200                   43.81   \n",
       "470924                 1544788800                   43.71   \n",
       "491755                 1543399200                   36.77   \n",
       "128037                 1544781600                   43.85   \n",
       "\n",
       "        apparentTemperatureMaxTime  \n",
       "120144                  1543852800  \n",
       "424231                  1545109200  \n",
       "462379                  1545076800  \n",
       "517429                  1543244400  \n",
       "23107                   1543438800  \n",
       "...                            ...  \n",
       "371403                  1543320000  \n",
       "491263                  1543251600  \n",
       "470924                  1544817600  \n",
       "491755                  1543438800  \n",
       "128037                  1544817600  \n",
       "\n",
       "[554456 rows x 54 columns]"
      ]
     },
     "execution_count": 202,
     "metadata": {},
     "output_type": "execute_result"
    }
   ],
   "source": [
    "# Menggunakan sklearn untuk split data\n",
    "from sklearn.model_selection import train_test_split\n",
    "# Split data menjadi X_train, X_test, y_train, y_test dengan ukuran tes sebesar 0.2 atau sebanyak 20% \n",
    "X_train, X_test, y_train, y_test = train_test_split(X,y, test_size = 0.2, random_state = 1)\n",
    "# Menampilkan ukuran data train dan tes\n",
    "print('Train size : ', X_train.shape)\n",
    "print('Test size : ', X_test.shape)\n",
    "# Memanggil X_train\n",
    "X_train"
   ]
  },
  {
   "cell_type": "markdown",
   "metadata": {},
   "source": [
    "Didapat ukuran data Train adalah (554456, 54) dan ukuran data tes adalah (138615, 54). Setelah pembagian dilakukan, selanjutnya dilakukan missing value handling  \n"
   ]
  },
  {
   "cell_type": "markdown",
   "metadata": {},
   "source": [
    "---"
   ]
  },
  {
   "cell_type": "markdown",
   "metadata": {},
   "source": [
    "<vspace>"
   ]
  },
  {
   "cell_type": "markdown",
   "metadata": {},
   "source": [
    "### ***Missing Value Handling***\n",
    "---"
   ]
  },
  {
   "cell_type": "markdown",
   "metadata": {},
   "source": [
    "Pertama melihat missing value dari X train dan X_test"
   ]
  },
  {
   "cell_type": "code",
   "execution_count": 203,
   "metadata": {},
   "outputs": [
    {
     "data": {
      "text/plain": [
       "0"
      ]
     },
     "execution_count": 203,
     "metadata": {},
     "output_type": "execute_result"
    }
   ],
   "source": [
    "# Melihat data null dari X_train\n",
    "X_train.isnull().sum().sum()"
   ]
  },
  {
   "cell_type": "code",
   "execution_count": 204,
   "metadata": {},
   "outputs": [
    {
     "data": {
      "text/plain": [
       "0"
      ]
     },
     "execution_count": 204,
     "metadata": {},
     "output_type": "execute_result"
    }
   ],
   "source": [
    "# Melihat data null dari X_test\n",
    "X_test.isnull().sum().sum()"
   ]
  },
  {
   "cell_type": "markdown",
   "metadata": {},
   "source": [
    "Karena X train dan X test tidak mempunyai missing value, selanjutnya dlihat apakah y train dan y test memiliki data null"
   ]
  },
  {
   "cell_type": "code",
   "execution_count": 205,
   "metadata": {},
   "outputs": [
    {
     "data": {
      "text/plain": [
       "44206"
      ]
     },
     "execution_count": 205,
     "metadata": {},
     "output_type": "execute_result"
    }
   ],
   "source": [
    "y_train.isnull().sum()"
   ]
  },
  {
   "cell_type": "code",
   "execution_count": 206,
   "metadata": {},
   "outputs": [
    {
     "data": {
      "text/plain": [
       "10889"
      ]
     },
     "execution_count": 206,
     "metadata": {},
     "output_type": "execute_result"
    }
   ],
   "source": [
    "y_test.isnull().sum()"
   ]
  },
  {
   "cell_type": "markdown",
   "metadata": {},
   "source": [
    "Data null y_train sebanyak 44100 dan y_test sebanyak 10995. Karena label atau target terdapat missing value, maka akan di drop missing value  y_train dan y_test tersebut"
   ]
  },
  {
   "cell_type": "code",
   "execution_count": 207,
   "metadata": {},
   "outputs": [],
   "source": [
    "# Indeks y_train yang terdapat missing value\n",
    "y_train_null_index = y_train[y_train.isnull()].index"
   ]
  },
  {
   "cell_type": "markdown",
   "metadata": {},
   "source": [
    "Selanjutnya setelah mendapatkan indeks missing value y_train, selanjutnya dibuang kolom x_train berdasarkan indeks missing value y_train"
   ]
  },
  {
   "cell_type": "code",
   "execution_count": 208,
   "metadata": {},
   "outputs": [],
   "source": [
    "# Membuang kolom berdasarkan indeks missing value y_train\n",
    "X_train.drop(y_train_null_index, inplace=True)"
   ]
  },
  {
   "cell_type": "markdown",
   "metadata": {},
   "source": [
    "Selanjutnya Missing value yang terdapat di y_train dihapus"
   ]
  },
  {
   "cell_type": "code",
   "execution_count": 209,
   "metadata": {},
   "outputs": [
    {
     "data": {
      "text/plain": [
       "120144    27.5\n",
       "424231    16.0\n",
       "462379    16.5\n",
       "517429     9.0\n",
       "23107     10.5\n",
       "          ... \n",
       "371403    11.0\n",
       "491263     9.0\n",
       "470924    16.5\n",
       "491755     9.5\n",
       "128037     8.5\n",
       "Name: price, Length: 510250, dtype: float64"
      ]
     },
     "execution_count": 209,
     "metadata": {},
     "output_type": "execute_result"
    }
   ],
   "source": [
    "# Menghapus missing value\n",
    "y_train.dropna(inplace=True)\n",
    "y_train"
   ]
  },
  {
   "cell_type": "markdown",
   "metadata": {},
   "source": [
    "Hal yang sama dilakukan pada X_test dan y_test"
   ]
  },
  {
   "cell_type": "markdown",
   "metadata": {},
   "source": [
    "X_test drop baris berdasarkan kolom y_test yang di drop"
   ]
  },
  {
   "cell_type": "code",
   "execution_count": 210,
   "metadata": {},
   "outputs": [],
   "source": [
    "# Membuang kolom berdasarkan indeks missing value y_train\n",
    "y_test_null_index = y_test[y_test.isnull()].index"
   ]
  },
  {
   "cell_type": "markdown",
   "metadata": {},
   "source": [
    "Selanjutnya setelah mendapatkan indeks missing value y_train, selanjutnya dibuang kolom x_train berdasarkan indeks missing value y_train"
   ]
  },
  {
   "cell_type": "code",
   "execution_count": 211,
   "metadata": {},
   "outputs": [],
   "source": [
    "X_test.drop(y_test_null_index, inplace=True)"
   ]
  },
  {
   "cell_type": "markdown",
   "metadata": {},
   "source": [
    "Selanjutnya Missing value yang terdapat di y_test dihapus"
   ]
  },
  {
   "cell_type": "code",
   "execution_count": 212,
   "metadata": {},
   "outputs": [
    {
     "data": {
      "text/plain": [
       "541064    10.5\n",
       "215250    22.5\n",
       "454530    26.0\n",
       "150598    25.0\n",
       "569129    20.5\n",
       "          ... \n",
       "386689    10.5\n",
       "493955     6.5\n",
       "96764      7.0\n",
       "653442    26.5\n",
       "194915     6.5\n",
       "Name: price, Length: 127725, dtype: float64"
      ]
     },
     "execution_count": 212,
     "metadata": {},
     "output_type": "execute_result"
    }
   ],
   "source": [
    "y_test.dropna(inplace=True)\n",
    "y_test"
   ]
  },
  {
   "cell_type": "markdown",
   "metadata": {},
   "source": [
    "Selanjutnya dilakukan outlier handling"
   ]
  },
  {
   "cell_type": "markdown",
   "metadata": {},
   "source": [
    "---"
   ]
  },
  {
   "cell_type": "markdown",
   "metadata": {},
   "source": [
    "<vspace>"
   ]
  },
  {
   "cell_type": "markdown",
   "metadata": {},
   "source": [
    "### ***Outlier Handling and Feature selection***"
   ]
  },
  {
   "cell_type": "markdown",
   "metadata": {},
   "source": [
    "---"
   ]
  },
  {
   "cell_type": "code",
   "execution_count": 213,
   "metadata": {},
   "outputs": [
    {
     "name": "stdout",
     "output_type": "stream",
     "text": [
      "<class 'pandas.core.frame.DataFrame'>\n",
      "Index: 510250 entries, 120144 to 128037\n",
      "Data columns (total 54 columns):\n",
      " #   Column                       Non-Null Count   Dtype  \n",
      "---  ------                       --------------   -----  \n",
      " 0   timestamp                    510250 non-null  float64\n",
      " 1   hour                         510250 non-null  int64  \n",
      " 2   day                          510250 non-null  int64  \n",
      " 3   month                        510250 non-null  int64  \n",
      " 4   datetime                     510250 non-null  object \n",
      " 5   source                       510250 non-null  object \n",
      " 6   destinasi                    510250 non-null  object \n",
      " 7   tipe_taksi                   510250 non-null  object \n",
      " 8   product_id                   510250 non-null  object \n",
      " 9   nama                         510250 non-null  object \n",
      " 10  jarak                        510250 non-null  float64\n",
      " 11  lonjakan_pengali             510250 non-null  float64\n",
      " 12  latitude                     510250 non-null  float64\n",
      " 13  longitude                    510250 non-null  float64\n",
      " 14  temperature                  510250 non-null  float64\n",
      " 15  apparentTemperature          510250 non-null  float64\n",
      " 16  short_summary                510250 non-null  object \n",
      " 17  long_summary                 510250 non-null  object \n",
      " 18  precipIntensity              510250 non-null  float64\n",
      " 19  precipProbability            510250 non-null  float64\n",
      " 20  humidity                     510250 non-null  float64\n",
      " 21  windSpeed                    510250 non-null  float64\n",
      " 22  windGust                     510250 non-null  float64\n",
      " 23  windGustTime                 510250 non-null  int64  \n",
      " 24  visibility                   510250 non-null  float64\n",
      " 25  temperatureHigh              510250 non-null  float64\n",
      " 26  temperatureHighTime          510250 non-null  int64  \n",
      " 27  temperatureLow               510250 non-null  float64\n",
      " 28  temperatureLowTime           510250 non-null  int64  \n",
      " 29  apparentTemperatureHigh      510250 non-null  float64\n",
      " 30  apparentTemperatureHighTime  510250 non-null  int64  \n",
      " 31  apparentTemperatureLow       510250 non-null  float64\n",
      " 32  apparentTemperatureLowTime   510250 non-null  int64  \n",
      " 33  icon                         510250 non-null  object \n",
      " 34  dewPoint                     510250 non-null  float64\n",
      " 35  pressure                     510250 non-null  float64\n",
      " 36  windBearing                  510250 non-null  int64  \n",
      " 37  cloudCover                   510250 non-null  float64\n",
      " 38  uvIndex                      510250 non-null  int64  \n",
      " 39  visibility.1                 510250 non-null  float64\n",
      " 40  ozone                        510250 non-null  float64\n",
      " 41  sunriseTime                  510250 non-null  int64  \n",
      " 42  sunsetTime                   510250 non-null  int64  \n",
      " 43  moonPhase                    510250 non-null  float64\n",
      " 44  precipIntensityMax           510250 non-null  float64\n",
      " 45  uvIndexTime                  510250 non-null  int64  \n",
      " 46  temperatureMin               510250 non-null  float64\n",
      " 47  temperatureMinTime           510250 non-null  int64  \n",
      " 48  temperatureMax               510250 non-null  float64\n",
      " 49  temperatureMaxTime           510250 non-null  int64  \n",
      " 50  apparentTemperatureMin       510250 non-null  float64\n",
      " 51  apparentTemperatureMinTime   510250 non-null  int64  \n",
      " 52  apparentTemperatureMax       510250 non-null  float64\n",
      " 53  apparentTemperatureMaxTime   510250 non-null  int64  \n",
      "dtypes: float64(28), int64(17), object(9)\n",
      "memory usage: 214.1+ MB\n"
     ]
    }
   ],
   "source": [
    "X_train.info()"
   ]
  },
  {
   "cell_type": "markdown",
   "metadata": {},
   "source": [
    "Sebelum handling outlier dilakukan, dapat dilihat bahwa lonjakan_pengali mempunyai tipe data float, seharusnya lonjakan_pengali mempunyai tipe data string, dikarenakan lonjakan_pengali hanya memiliki beberapa nilai yang unik"
   ]
  },
  {
   "cell_type": "code",
   "execution_count": 214,
   "metadata": {},
   "outputs": [
    {
     "data": {
      "text/plain": [
       "array([1.  , 1.25, 2.  , 1.5 , 1.75, 2.5 , 3.  ])"
      ]
     },
     "execution_count": 214,
     "metadata": {},
     "output_type": "execute_result"
    }
   ],
   "source": [
    "# memperlihatkan nilai unik dari lonjakan pengali\n",
    "X_train['lonjakan_pengali'].unique()"
   ]
  },
  {
   "cell_type": "markdown",
   "metadata": {},
   "source": [
    "Dapat dilihat bahwa lonjakan_pengali hanya memiliki 7 nilai unik dan tidak kontinu, sehingga tipe data harus diubah menjadi string"
   ]
  },
  {
   "cell_type": "code",
   "execution_count": 215,
   "metadata": {},
   "outputs": [],
   "source": [
    "# Mengubah tipe data menjadi string\n",
    "X_train['lonjakan_pengali'] = X_train['lonjakan_pengali'].astype(str)\n",
    "X_test['lonjakan_pengali'] = X_test['lonjakan_pengali'].astype(str)"
   ]
  },
  {
   "cell_type": "markdown",
   "metadata": {},
   "source": [
    "Selanjutnya akan dilakukan handling outlier. Handling Outlier dilakukan berdasarkan tipe distribusi data, apakah normal, skewed, dan juga ekstrim skewed. Cara handling outlier juga berbeda berdasarkan persentase dari outlier. Jika persentase outlier < 5 %, maka outlier data di trimming sedangkan jika lebih dari 5 %, maka outlier akan dicapping"
   ]
  },
  {
   "cell_type": "code",
   "execution_count": 216,
   "metadata": {},
   "outputs": [],
   "source": [
    "# Membuat fungsi untuk melakukan handling outlier\n",
    "def handling_outlier(X_train):  \n",
    "    '''\n",
    "    Fungsi ini dibuat untuk melakukan handling outlier berdasarkan distribusi data dan persentase outlier\n",
    "    '''\n",
    "    # Mengambil nama kolom dari X_train bertipe data numerik\n",
    "    for i in X_train.select_dtypes(include=np.number).columns.tolist():\n",
    "        # Kondisi untuk distribusi normal\n",
    "        if X_train[i].nunique() > 80:\n",
    "            if -0.5 <= X_train[i].skew() <= 0.5:\n",
    "                # Menghitung up boundary , low boundary , dan outlier\n",
    "                up_bound = X_train[i].mean() + 3 * X_train[i].std()\n",
    "                low_bound = X_train[i].mean() - 3 * X_train[i].std()\n",
    "                outlier = X_train[i][(X_train[i]<low_bound) | (X_train[i]>up_bound)]\n",
    "                # membuat kondisi berdasarkan persentase outlier, jika persentase outlier <= 0.05, maka outlier di trimming\n",
    "                if len(outlier)/len(X_train[i]) <= 0.05:\n",
    "                    X_train = X_train[(X_train[i]>=low_bound) & (X_train[i]<=up_bound)]\n",
    "                # membuat kondisi berdasarkan persentase outlier, jika persentase outlier > 0.05, maka outlier di capping\n",
    "                else:\n",
    "                    X_train[i] = X_train[i].clip(lower=low_bound, upper=up_bound) \n",
    "            # Kondisi untuk distribusi skewed\n",
    "            elif -1 <= X_train[i].skew() < -0.5 or 0.5 < X_train[i].skew() <= 1:\n",
    "                # Menghitung up boundary , low boundary , dan outlier\n",
    "                up_bound =  X_train[i].quantile(0.25) + 1.5 * (X_train[i].quantile(0.75) - X_train[i].quantile(0.25))\n",
    "                low_bound =  X_train[i].quantile(0.25) - 1.5 * (X_train[i].quantile(0.75) - X_train[i].quantile(0.25))\n",
    "                outlier = X_train[i][(X_train[i]<low_bound) | (X_train[i]>up_bound)]\n",
    "                # membuat kondisi berdasarkan persentase outlier, jika persentase outlier <= 0.05, maka outlier di trimming\n",
    "                if len(outlier)/len(X_train[i]) <= 0.05:\n",
    "                    X_train = X_train[(X_train[i]>=low_bound) & (X_train[i]<=up_bound)]\n",
    "                # membuat kondisi berdasarkan persentase outlier, jika persentase outlier > 0.05, maka outlier di capping\n",
    "                else:\n",
    "                    X_train[i] = X_train[i].clip(lower=low_bound, upper=up_bound)\n",
    "            # Kondisi untuk distribusi ekstrim skewed \n",
    "            elif X_train[i].skew() < -1 or X_train[i].skew() > 1:\n",
    "                # Menghitung up boundary , low boundary , dan outlier\n",
    "                up_bound =  X_train[i].quantile(0.25) + 3 * (X_train[i].quantile(0.75) - X_train[i].quantile(0.25))\n",
    "                low_bound =  X_train[i].quantile(0.25) - 3 * (X_train[i].quantile(0.75) - X_train[i].quantile(0.25))\n",
    "                outlier = X_train[i][(X_train[i]<low_bound) | (X_train[i]>up_bound)]\n",
    "                # membuat kondisi berdasarkan persentase outlier, jika persentase outlier <= 0.05, maka outlier di trimming\n",
    "                if len(outlier)/len(X_train[i]) <= 0.05:\n",
    "                    X_train = X_train[(X_train[i]>=low_bound) & (X_train[i]<=up_bound)]\n",
    "                # membuat kondisi berdasarkan persentase outlier, jika persentase outlier > 0.05, maka outlier di capping\n",
    "                else:\n",
    "                    X_train[i] = X_train[i].clip(lower=low_bound, upper=up_bound) \n",
    "    return X_train"
   ]
  },
  {
   "cell_type": "markdown",
   "metadata": {},
   "source": [
    "Selanjutnya akan dipanggul fungsi handling_outlier"
   ]
  },
  {
   "cell_type": "code",
   "execution_count": 217,
   "metadata": {},
   "outputs": [],
   "source": [
    "# Pemanggilan fungsi handling outlier\n",
    "X_train = handling_outlier(X_train)"
   ]
  },
  {
   "cell_type": "markdown",
   "metadata": {},
   "source": [
    "Berikut adalah hasil X_train setelah dihandling outlier"
   ]
  },
  {
   "cell_type": "code",
   "execution_count": 218,
   "metadata": {},
   "outputs": [
    {
     "data": {
      "text/html": [
       "<div>\n",
       "<style scoped>\n",
       "    .dataframe tbody tr th:only-of-type {\n",
       "        vertical-align: middle;\n",
       "    }\n",
       "\n",
       "    .dataframe tbody tr th {\n",
       "        vertical-align: top;\n",
       "    }\n",
       "\n",
       "    .dataframe thead th {\n",
       "        text-align: right;\n",
       "    }\n",
       "</style>\n",
       "<table border=\"1\" class=\"dataframe\">\n",
       "  <thead>\n",
       "    <tr style=\"text-align: right;\">\n",
       "      <th></th>\n",
       "      <th>timestamp</th>\n",
       "      <th>hour</th>\n",
       "      <th>day</th>\n",
       "      <th>month</th>\n",
       "      <th>datetime</th>\n",
       "      <th>source</th>\n",
       "      <th>destinasi</th>\n",
       "      <th>tipe_taksi</th>\n",
       "      <th>product_id</th>\n",
       "      <th>nama</th>\n",
       "      <th>...</th>\n",
       "      <th>precipIntensityMax</th>\n",
       "      <th>uvIndexTime</th>\n",
       "      <th>temperatureMin</th>\n",
       "      <th>temperatureMinTime</th>\n",
       "      <th>temperatureMax</th>\n",
       "      <th>temperatureMaxTime</th>\n",
       "      <th>apparentTemperatureMin</th>\n",
       "      <th>apparentTemperatureMinTime</th>\n",
       "      <th>apparentTemperatureMax</th>\n",
       "      <th>apparentTemperatureMaxTime</th>\n",
       "    </tr>\n",
       "  </thead>\n",
       "  <tbody>\n",
       "    <tr>\n",
       "      <th>120144</th>\n",
       "      <td>1.543822e+09</td>\n",
       "      <td>7</td>\n",
       "      <td>3</td>\n",
       "      <td>12</td>\n",
       "      <td>2018-12-03 07:22:58</td>\n",
       "      <td>Haymarket Square</td>\n",
       "      <td>Theatre District</td>\n",
       "      <td>Uber</td>\n",
       "      <td>6d318bcc-22a3-4af6-bddd-b409bfce1546</td>\n",
       "      <td>Black SUV</td>\n",
       "      <td>...</td>\n",
       "      <td>0.0007</td>\n",
       "      <td>1543852800</td>\n",
       "      <td>42.96</td>\n",
       "      <td>1543896000</td>\n",
       "      <td>57.87</td>\n",
       "      <td>1543852800</td>\n",
       "      <td>39.41</td>\n",
       "      <td>1543896000</td>\n",
       "      <td>47.895</td>\n",
       "      <td>1543852800</td>\n",
       "    </tr>\n",
       "    <tr>\n",
       "      <th>424231</th>\n",
       "      <td>1.545132e+09</td>\n",
       "      <td>11</td>\n",
       "      <td>18</td>\n",
       "      <td>12</td>\n",
       "      <td>2018-12-18 11:15:10</td>\n",
       "      <td>Beacon Hill</td>\n",
       "      <td>South Station</td>\n",
       "      <td>Uber</td>\n",
       "      <td>6f72dfc5-27f1-42e8-84db-ccc7a75f6969</td>\n",
       "      <td>UberXL</td>\n",
       "      <td>...</td>\n",
       "      <td>0.0028</td>\n",
       "      <td>1545152400</td>\n",
       "      <td>23.09</td>\n",
       "      <td>1545192000</td>\n",
       "      <td>38.03</td>\n",
       "      <td>1545109200</td>\n",
       "      <td>11.82</td>\n",
       "      <td>1545134400</td>\n",
       "      <td>31.920</td>\n",
       "      <td>1545109200</td>\n",
       "    </tr>\n",
       "    <tr>\n",
       "      <th>462379</th>\n",
       "      <td>1.545041e+09</td>\n",
       "      <td>10</td>\n",
       "      <td>17</td>\n",
       "      <td>12</td>\n",
       "      <td>2018-12-17 10:05:11</td>\n",
       "      <td>Northeastern University</td>\n",
       "      <td>Back Bay</td>\n",
       "      <td>Lyft</td>\n",
       "      <td>lyft_premier</td>\n",
       "      <td>Lux</td>\n",
       "      <td>...</td>\n",
       "      <td>0.0175</td>\n",
       "      <td>1545066000</td>\n",
       "      <td>34.14</td>\n",
       "      <td>1545044400</td>\n",
       "      <td>41.44</td>\n",
       "      <td>1545076800</td>\n",
       "      <td>28.12</td>\n",
       "      <td>1545044400</td>\n",
       "      <td>35.950</td>\n",
       "      <td>1545076800</td>\n",
       "    </tr>\n",
       "    <tr>\n",
       "      <th>517429</th>\n",
       "      <td>1.543254e+09</td>\n",
       "      <td>17</td>\n",
       "      <td>26</td>\n",
       "      <td>11</td>\n",
       "      <td>2018-11-26 17:32:09</td>\n",
       "      <td>North Station</td>\n",
       "      <td>North End</td>\n",
       "      <td>Lyft</td>\n",
       "      <td>lyft_plus</td>\n",
       "      <td>Lyft XL</td>\n",
       "      <td>...</td>\n",
       "      <td>0.1225</td>\n",
       "      <td>1543251600</td>\n",
       "      <td>40.45</td>\n",
       "      <td>1543233600</td>\n",
       "      <td>46.49</td>\n",
       "      <td>1543255200</td>\n",
       "      <td>37.17</td>\n",
       "      <td>1543291200</td>\n",
       "      <td>43.840</td>\n",
       "      <td>1543244400</td>\n",
       "    </tr>\n",
       "    <tr>\n",
       "      <th>23107</th>\n",
       "      <td>1.543457e+09</td>\n",
       "      <td>2</td>\n",
       "      <td>29</td>\n",
       "      <td>11</td>\n",
       "      <td>2018-11-29 02:11:07</td>\n",
       "      <td>Haymarket Square</td>\n",
       "      <td>North Station</td>\n",
       "      <td>Uber</td>\n",
       "      <td>6f72dfc5-27f1-42e8-84db-ccc7a75f6969</td>\n",
       "      <td>UberXL</td>\n",
       "      <td>...</td>\n",
       "      <td>0.0000</td>\n",
       "      <td>1543420800</td>\n",
       "      <td>33.60</td>\n",
       "      <td>1543399200</td>\n",
       "      <td>42.70</td>\n",
       "      <td>1543438800</td>\n",
       "      <td>30.08</td>\n",
       "      <td>1543399200</td>\n",
       "      <td>36.770</td>\n",
       "      <td>1543438800</td>\n",
       "    </tr>\n",
       "    <tr>\n",
       "      <th>...</th>\n",
       "      <td>...</td>\n",
       "      <td>...</td>\n",
       "      <td>...</td>\n",
       "      <td>...</td>\n",
       "      <td>...</td>\n",
       "      <td>...</td>\n",
       "      <td>...</td>\n",
       "      <td>...</td>\n",
       "      <td>...</td>\n",
       "      <td>...</td>\n",
       "      <td>...</td>\n",
       "      <td>...</td>\n",
       "      <td>...</td>\n",
       "      <td>...</td>\n",
       "      <td>...</td>\n",
       "      <td>...</td>\n",
       "      <td>...</td>\n",
       "      <td>...</td>\n",
       "      <td>...</td>\n",
       "      <td>...</td>\n",
       "      <td>...</td>\n",
       "    </tr>\n",
       "    <tr>\n",
       "      <th>371403</th>\n",
       "      <td>1.543346e+09</td>\n",
       "      <td>19</td>\n",
       "      <td>27</td>\n",
       "      <td>11</td>\n",
       "      <td>2018-11-27 19:18:22</td>\n",
       "      <td>South Station</td>\n",
       "      <td>Financial District</td>\n",
       "      <td>Lyft</td>\n",
       "      <td>lyft_plus</td>\n",
       "      <td>Lyft XL</td>\n",
       "      <td>...</td>\n",
       "      <td>0.1433</td>\n",
       "      <td>1543338000</td>\n",
       "      <td>36.13</td>\n",
       "      <td>1543377600</td>\n",
       "      <td>46.83</td>\n",
       "      <td>1543320000</td>\n",
       "      <td>32.05</td>\n",
       "      <td>1543377600</td>\n",
       "      <td>43.850</td>\n",
       "      <td>1543320000</td>\n",
       "    </tr>\n",
       "    <tr>\n",
       "      <th>491263</th>\n",
       "      <td>1.543273e+09</td>\n",
       "      <td>22</td>\n",
       "      <td>26</td>\n",
       "      <td>11</td>\n",
       "      <td>2018-11-26 22:51:10</td>\n",
       "      <td>Beacon Hill</td>\n",
       "      <td>Fenway</td>\n",
       "      <td>Lyft</td>\n",
       "      <td>lyft</td>\n",
       "      <td>Lyft</td>\n",
       "      <td>...</td>\n",
       "      <td>0.1245</td>\n",
       "      <td>1543251600</td>\n",
       "      <td>40.67</td>\n",
       "      <td>1543233600</td>\n",
       "      <td>46.46</td>\n",
       "      <td>1543255200</td>\n",
       "      <td>37.45</td>\n",
       "      <td>1543291200</td>\n",
       "      <td>43.810</td>\n",
       "      <td>1543251600</td>\n",
       "    </tr>\n",
       "    <tr>\n",
       "      <th>470924</th>\n",
       "      <td>1.544800e+09</td>\n",
       "      <td>15</td>\n",
       "      <td>14</td>\n",
       "      <td>12</td>\n",
       "      <td>2018-12-14 15:05:10</td>\n",
       "      <td>Fenway</td>\n",
       "      <td>West End</td>\n",
       "      <td>Lyft</td>\n",
       "      <td>lyft_premier</td>\n",
       "      <td>Lux</td>\n",
       "      <td>...</td>\n",
       "      <td>0.0000</td>\n",
       "      <td>1544806800</td>\n",
       "      <td>27.07</td>\n",
       "      <td>1544788800</td>\n",
       "      <td>46.45</td>\n",
       "      <td>1544814000</td>\n",
       "      <td>27.72</td>\n",
       "      <td>1544788800</td>\n",
       "      <td>43.710</td>\n",
       "      <td>1544817600</td>\n",
       "    </tr>\n",
       "    <tr>\n",
       "      <th>491755</th>\n",
       "      <td>1.543459e+09</td>\n",
       "      <td>2</td>\n",
       "      <td>29</td>\n",
       "      <td>11</td>\n",
       "      <td>2018-11-29 02:38:08</td>\n",
       "      <td>Beacon Hill</td>\n",
       "      <td>Northeastern University</td>\n",
       "      <td>Uber</td>\n",
       "      <td>997acbb5-e102-41e1-b155-9df7de0a73f2</td>\n",
       "      <td>UberPool</td>\n",
       "      <td>...</td>\n",
       "      <td>0.0000</td>\n",
       "      <td>1543420800</td>\n",
       "      <td>33.60</td>\n",
       "      <td>1543399200</td>\n",
       "      <td>42.70</td>\n",
       "      <td>1543438800</td>\n",
       "      <td>30.08</td>\n",
       "      <td>1543399200</td>\n",
       "      <td>36.770</td>\n",
       "      <td>1543438800</td>\n",
       "    </tr>\n",
       "    <tr>\n",
       "      <th>128037</th>\n",
       "      <td>1.544816e+09</td>\n",
       "      <td>19</td>\n",
       "      <td>14</td>\n",
       "      <td>12</td>\n",
       "      <td>2018-12-14 19:25:08</td>\n",
       "      <td>Back Bay</td>\n",
       "      <td>Boston University</td>\n",
       "      <td>Uber</td>\n",
       "      <td>55c66225-fbe7-4fd5-9072-eab1ece5e23e</td>\n",
       "      <td>UberX</td>\n",
       "      <td>...</td>\n",
       "      <td>0.0000</td>\n",
       "      <td>1544806800</td>\n",
       "      <td>27.11</td>\n",
       "      <td>1544781600</td>\n",
       "      <td>46.61</td>\n",
       "      <td>1544814000</td>\n",
       "      <td>27.76</td>\n",
       "      <td>1544781600</td>\n",
       "      <td>43.850</td>\n",
       "      <td>1544817600</td>\n",
       "    </tr>\n",
       "  </tbody>\n",
       "</table>\n",
       "<p>504668 rows × 54 columns</p>\n",
       "</div>"
      ],
      "text/plain": [
       "           timestamp  hour  day  month             datetime  \\\n",
       "120144  1.543822e+09     7    3     12  2018-12-03 07:22:58   \n",
       "424231  1.545132e+09    11   18     12  2018-12-18 11:15:10   \n",
       "462379  1.545041e+09    10   17     12  2018-12-17 10:05:11   \n",
       "517429  1.543254e+09    17   26     11  2018-11-26 17:32:09   \n",
       "23107   1.543457e+09     2   29     11  2018-11-29 02:11:07   \n",
       "...              ...   ...  ...    ...                  ...   \n",
       "371403  1.543346e+09    19   27     11  2018-11-27 19:18:22   \n",
       "491263  1.543273e+09    22   26     11  2018-11-26 22:51:10   \n",
       "470924  1.544800e+09    15   14     12  2018-12-14 15:05:10   \n",
       "491755  1.543459e+09     2   29     11  2018-11-29 02:38:08   \n",
       "128037  1.544816e+09    19   14     12  2018-12-14 19:25:08   \n",
       "\n",
       "                         source                destinasi tipe_taksi  \\\n",
       "120144         Haymarket Square         Theatre District       Uber   \n",
       "424231              Beacon Hill            South Station       Uber   \n",
       "462379  Northeastern University                 Back Bay       Lyft   \n",
       "517429            North Station                North End       Lyft   \n",
       "23107          Haymarket Square            North Station       Uber   \n",
       "...                         ...                      ...        ...   \n",
       "371403            South Station       Financial District       Lyft   \n",
       "491263              Beacon Hill                   Fenway       Lyft   \n",
       "470924                   Fenway                 West End       Lyft   \n",
       "491755              Beacon Hill  Northeastern University       Uber   \n",
       "128037                 Back Bay        Boston University       Uber   \n",
       "\n",
       "                                  product_id       nama  ...  \\\n",
       "120144  6d318bcc-22a3-4af6-bddd-b409bfce1546  Black SUV  ...   \n",
       "424231  6f72dfc5-27f1-42e8-84db-ccc7a75f6969     UberXL  ...   \n",
       "462379                          lyft_premier        Lux  ...   \n",
       "517429                             lyft_plus    Lyft XL  ...   \n",
       "23107   6f72dfc5-27f1-42e8-84db-ccc7a75f6969     UberXL  ...   \n",
       "...                                      ...        ...  ...   \n",
       "371403                             lyft_plus    Lyft XL  ...   \n",
       "491263                                  lyft       Lyft  ...   \n",
       "470924                          lyft_premier        Lux  ...   \n",
       "491755  997acbb5-e102-41e1-b155-9df7de0a73f2   UberPool  ...   \n",
       "128037  55c66225-fbe7-4fd5-9072-eab1ece5e23e      UberX  ...   \n",
       "\n",
       "        precipIntensityMax uvIndexTime  temperatureMin  temperatureMinTime  \\\n",
       "120144              0.0007  1543852800           42.96          1543896000   \n",
       "424231              0.0028  1545152400           23.09          1545192000   \n",
       "462379              0.0175  1545066000           34.14          1545044400   \n",
       "517429              0.1225  1543251600           40.45          1543233600   \n",
       "23107               0.0000  1543420800           33.60          1543399200   \n",
       "...                    ...         ...             ...                 ...   \n",
       "371403              0.1433  1543338000           36.13          1543377600   \n",
       "491263              0.1245  1543251600           40.67          1543233600   \n",
       "470924              0.0000  1544806800           27.07          1544788800   \n",
       "491755              0.0000  1543420800           33.60          1543399200   \n",
       "128037              0.0000  1544806800           27.11          1544781600   \n",
       "\n",
       "        temperatureMax  temperatureMaxTime apparentTemperatureMin  \\\n",
       "120144           57.87          1543852800                  39.41   \n",
       "424231           38.03          1545109200                  11.82   \n",
       "462379           41.44          1545076800                  28.12   \n",
       "517429           46.49          1543255200                  37.17   \n",
       "23107            42.70          1543438800                  30.08   \n",
       "...                ...                 ...                    ...   \n",
       "371403           46.83          1543320000                  32.05   \n",
       "491263           46.46          1543255200                  37.45   \n",
       "470924           46.45          1544814000                  27.72   \n",
       "491755           42.70          1543438800                  30.08   \n",
       "128037           46.61          1544814000                  27.76   \n",
       "\n",
       "       apparentTemperatureMinTime  apparentTemperatureMax  \\\n",
       "120144                 1543896000                  47.895   \n",
       "424231                 1545134400                  31.920   \n",
       "462379                 1545044400                  35.950   \n",
       "517429                 1543291200                  43.840   \n",
       "23107                  1543399200                  36.770   \n",
       "...                           ...                     ...   \n",
       "371403                 1543377600                  43.850   \n",
       "491263                 1543291200                  43.810   \n",
       "470924                 1544788800                  43.710   \n",
       "491755                 1543399200                  36.770   \n",
       "128037                 1544781600                  43.850   \n",
       "\n",
       "        apparentTemperatureMaxTime  \n",
       "120144                  1543852800  \n",
       "424231                  1545109200  \n",
       "462379                  1545076800  \n",
       "517429                  1543244400  \n",
       "23107                   1543438800  \n",
       "...                            ...  \n",
       "371403                  1543320000  \n",
       "491263                  1543251600  \n",
       "470924                  1544817600  \n",
       "491755                  1543438800  \n",
       "128037                  1544817600  \n",
       "\n",
       "[504668 rows x 54 columns]"
      ]
     },
     "execution_count": 218,
     "metadata": {},
     "output_type": "execute_result"
    }
   ],
   "source": [
    "X_train"
   ]
  },
  {
   "cell_type": "markdown",
   "metadata": {},
   "source": [
    "Setelah kolom kolom yang memiliki outlier dihapus, selanjutnya dilakukan pengambilan kolom y_train berdasarkan indeks dari X_train"
   ]
  },
  {
   "cell_type": "markdown",
   "metadata": {},
   "source": [
    "Berikut adalah indeks dari X_train"
   ]
  },
  {
   "cell_type": "code",
   "execution_count": 219,
   "metadata": {},
   "outputs": [],
   "source": [
    "# Indeks X train\n",
    "X_train_index = X_train.index"
   ]
  },
  {
   "cell_type": "code",
   "execution_count": 220,
   "metadata": {},
   "outputs": [],
   "source": [
    "# Pengambilan kolom y_train berdasarkan indeks dari X_train\n",
    "y_train = y_train.loc[y_train.index.isin(X_train_index)]"
   ]
  },
  {
   "cell_type": "markdown",
   "metadata": {},
   "source": [
    "---\n",
    "---"
   ]
  },
  {
   "cell_type": "markdown",
   "metadata": {},
   "source": [
    "<vspace>"
   ]
  },
  {
   "cell_type": "markdown",
   "metadata": {},
   "source": [
    "## ***Feature Selection***"
   ]
  },
  {
   "cell_type": "markdown",
   "metadata": {},
   "source": [
    "---"
   ]
  },
  {
   "cell_type": "markdown",
   "metadata": {},
   "source": [
    "Untuk menyeleksi kolom yang akan digunakan, dilakukan visualisasi korelasi menggunakan heatmap. karena jumlah kolom banyak, maka dibagi menjadi 6 bagian."
   ]
  },
  {
   "cell_type": "markdown",
   "metadata": {},
   "source": [
    "Pembuatan variabel baru untuk dengan menggabungkan X_train dan y_train dengan tujuan memasukkan kolom price dikarenakan ingin melihat korelasi fitur dengan label"
   ]
  },
  {
   "cell_type": "code",
   "execution_count": 221,
   "metadata": {},
   "outputs": [],
   "source": [
    "# Penggabungan X_train dan y_train\n",
    "X_handling = pd.concat([X_train, y_train], axis=1)"
   ]
  },
  {
   "cell_type": "code",
   "execution_count": 222,
   "metadata": {},
   "outputs": [
    {
     "data": {
      "text/html": [
       "<div>\n",
       "<style scoped>\n",
       "    .dataframe tbody tr th:only-of-type {\n",
       "        vertical-align: middle;\n",
       "    }\n",
       "\n",
       "    .dataframe tbody tr th {\n",
       "        vertical-align: top;\n",
       "    }\n",
       "\n",
       "    .dataframe thead th {\n",
       "        text-align: right;\n",
       "    }\n",
       "</style>\n",
       "<table border=\"1\" class=\"dataframe\">\n",
       "  <thead>\n",
       "    <tr style=\"text-align: right;\">\n",
       "      <th></th>\n",
       "      <th>timestamp</th>\n",
       "      <th>hour</th>\n",
       "      <th>day</th>\n",
       "      <th>month</th>\n",
       "      <th>datetime</th>\n",
       "      <th>source</th>\n",
       "      <th>destinasi</th>\n",
       "      <th>tipe_taksi</th>\n",
       "      <th>product_id</th>\n",
       "      <th>nama</th>\n",
       "      <th>...</th>\n",
       "      <th>uvIndexTime</th>\n",
       "      <th>temperatureMin</th>\n",
       "      <th>temperatureMinTime</th>\n",
       "      <th>temperatureMax</th>\n",
       "      <th>temperatureMaxTime</th>\n",
       "      <th>apparentTemperatureMin</th>\n",
       "      <th>apparentTemperatureMinTime</th>\n",
       "      <th>apparentTemperatureMax</th>\n",
       "      <th>apparentTemperatureMaxTime</th>\n",
       "      <th>price</th>\n",
       "    </tr>\n",
       "  </thead>\n",
       "  <tbody>\n",
       "    <tr>\n",
       "      <th>120144</th>\n",
       "      <td>1.543822e+09</td>\n",
       "      <td>7</td>\n",
       "      <td>3</td>\n",
       "      <td>12</td>\n",
       "      <td>2018-12-03 07:22:58</td>\n",
       "      <td>Haymarket Square</td>\n",
       "      <td>Theatre District</td>\n",
       "      <td>Uber</td>\n",
       "      <td>6d318bcc-22a3-4af6-bddd-b409bfce1546</td>\n",
       "      <td>Black SUV</td>\n",
       "      <td>...</td>\n",
       "      <td>1543852800</td>\n",
       "      <td>42.96</td>\n",
       "      <td>1543896000</td>\n",
       "      <td>57.87</td>\n",
       "      <td>1543852800</td>\n",
       "      <td>39.41</td>\n",
       "      <td>1543896000</td>\n",
       "      <td>47.895</td>\n",
       "      <td>1543852800</td>\n",
       "      <td>27.5</td>\n",
       "    </tr>\n",
       "    <tr>\n",
       "      <th>424231</th>\n",
       "      <td>1.545132e+09</td>\n",
       "      <td>11</td>\n",
       "      <td>18</td>\n",
       "      <td>12</td>\n",
       "      <td>2018-12-18 11:15:10</td>\n",
       "      <td>Beacon Hill</td>\n",
       "      <td>South Station</td>\n",
       "      <td>Uber</td>\n",
       "      <td>6f72dfc5-27f1-42e8-84db-ccc7a75f6969</td>\n",
       "      <td>UberXL</td>\n",
       "      <td>...</td>\n",
       "      <td>1545152400</td>\n",
       "      <td>23.09</td>\n",
       "      <td>1545192000</td>\n",
       "      <td>38.03</td>\n",
       "      <td>1545109200</td>\n",
       "      <td>11.82</td>\n",
       "      <td>1545134400</td>\n",
       "      <td>31.920</td>\n",
       "      <td>1545109200</td>\n",
       "      <td>16.0</td>\n",
       "    </tr>\n",
       "    <tr>\n",
       "      <th>462379</th>\n",
       "      <td>1.545041e+09</td>\n",
       "      <td>10</td>\n",
       "      <td>17</td>\n",
       "      <td>12</td>\n",
       "      <td>2018-12-17 10:05:11</td>\n",
       "      <td>Northeastern University</td>\n",
       "      <td>Back Bay</td>\n",
       "      <td>Lyft</td>\n",
       "      <td>lyft_premier</td>\n",
       "      <td>Lux</td>\n",
       "      <td>...</td>\n",
       "      <td>1545066000</td>\n",
       "      <td>34.14</td>\n",
       "      <td>1545044400</td>\n",
       "      <td>41.44</td>\n",
       "      <td>1545076800</td>\n",
       "      <td>28.12</td>\n",
       "      <td>1545044400</td>\n",
       "      <td>35.950</td>\n",
       "      <td>1545076800</td>\n",
       "      <td>16.5</td>\n",
       "    </tr>\n",
       "    <tr>\n",
       "      <th>517429</th>\n",
       "      <td>1.543254e+09</td>\n",
       "      <td>17</td>\n",
       "      <td>26</td>\n",
       "      <td>11</td>\n",
       "      <td>2018-11-26 17:32:09</td>\n",
       "      <td>North Station</td>\n",
       "      <td>North End</td>\n",
       "      <td>Lyft</td>\n",
       "      <td>lyft_plus</td>\n",
       "      <td>Lyft XL</td>\n",
       "      <td>...</td>\n",
       "      <td>1543251600</td>\n",
       "      <td>40.45</td>\n",
       "      <td>1543233600</td>\n",
       "      <td>46.49</td>\n",
       "      <td>1543255200</td>\n",
       "      <td>37.17</td>\n",
       "      <td>1543291200</td>\n",
       "      <td>43.840</td>\n",
       "      <td>1543244400</td>\n",
       "      <td>9.0</td>\n",
       "    </tr>\n",
       "    <tr>\n",
       "      <th>23107</th>\n",
       "      <td>1.543457e+09</td>\n",
       "      <td>2</td>\n",
       "      <td>29</td>\n",
       "      <td>11</td>\n",
       "      <td>2018-11-29 02:11:07</td>\n",
       "      <td>Haymarket Square</td>\n",
       "      <td>North Station</td>\n",
       "      <td>Uber</td>\n",
       "      <td>6f72dfc5-27f1-42e8-84db-ccc7a75f6969</td>\n",
       "      <td>UberXL</td>\n",
       "      <td>...</td>\n",
       "      <td>1543420800</td>\n",
       "      <td>33.60</td>\n",
       "      <td>1543399200</td>\n",
       "      <td>42.70</td>\n",
       "      <td>1543438800</td>\n",
       "      <td>30.08</td>\n",
       "      <td>1543399200</td>\n",
       "      <td>36.770</td>\n",
       "      <td>1543438800</td>\n",
       "      <td>10.5</td>\n",
       "    </tr>\n",
       "    <tr>\n",
       "      <th>...</th>\n",
       "      <td>...</td>\n",
       "      <td>...</td>\n",
       "      <td>...</td>\n",
       "      <td>...</td>\n",
       "      <td>...</td>\n",
       "      <td>...</td>\n",
       "      <td>...</td>\n",
       "      <td>...</td>\n",
       "      <td>...</td>\n",
       "      <td>...</td>\n",
       "      <td>...</td>\n",
       "      <td>...</td>\n",
       "      <td>...</td>\n",
       "      <td>...</td>\n",
       "      <td>...</td>\n",
       "      <td>...</td>\n",
       "      <td>...</td>\n",
       "      <td>...</td>\n",
       "      <td>...</td>\n",
       "      <td>...</td>\n",
       "      <td>...</td>\n",
       "    </tr>\n",
       "    <tr>\n",
       "      <th>371403</th>\n",
       "      <td>1.543346e+09</td>\n",
       "      <td>19</td>\n",
       "      <td>27</td>\n",
       "      <td>11</td>\n",
       "      <td>2018-11-27 19:18:22</td>\n",
       "      <td>South Station</td>\n",
       "      <td>Financial District</td>\n",
       "      <td>Lyft</td>\n",
       "      <td>lyft_plus</td>\n",
       "      <td>Lyft XL</td>\n",
       "      <td>...</td>\n",
       "      <td>1543338000</td>\n",
       "      <td>36.13</td>\n",
       "      <td>1543377600</td>\n",
       "      <td>46.83</td>\n",
       "      <td>1543320000</td>\n",
       "      <td>32.05</td>\n",
       "      <td>1543377600</td>\n",
       "      <td>43.850</td>\n",
       "      <td>1543320000</td>\n",
       "      <td>11.0</td>\n",
       "    </tr>\n",
       "    <tr>\n",
       "      <th>491263</th>\n",
       "      <td>1.543273e+09</td>\n",
       "      <td>22</td>\n",
       "      <td>26</td>\n",
       "      <td>11</td>\n",
       "      <td>2018-11-26 22:51:10</td>\n",
       "      <td>Beacon Hill</td>\n",
       "      <td>Fenway</td>\n",
       "      <td>Lyft</td>\n",
       "      <td>lyft</td>\n",
       "      <td>Lyft</td>\n",
       "      <td>...</td>\n",
       "      <td>1543251600</td>\n",
       "      <td>40.67</td>\n",
       "      <td>1543233600</td>\n",
       "      <td>46.46</td>\n",
       "      <td>1543255200</td>\n",
       "      <td>37.45</td>\n",
       "      <td>1543291200</td>\n",
       "      <td>43.810</td>\n",
       "      <td>1543251600</td>\n",
       "      <td>9.0</td>\n",
       "    </tr>\n",
       "    <tr>\n",
       "      <th>470924</th>\n",
       "      <td>1.544800e+09</td>\n",
       "      <td>15</td>\n",
       "      <td>14</td>\n",
       "      <td>12</td>\n",
       "      <td>2018-12-14 15:05:10</td>\n",
       "      <td>Fenway</td>\n",
       "      <td>West End</td>\n",
       "      <td>Lyft</td>\n",
       "      <td>lyft_premier</td>\n",
       "      <td>Lux</td>\n",
       "      <td>...</td>\n",
       "      <td>1544806800</td>\n",
       "      <td>27.07</td>\n",
       "      <td>1544788800</td>\n",
       "      <td>46.45</td>\n",
       "      <td>1544814000</td>\n",
       "      <td>27.72</td>\n",
       "      <td>1544788800</td>\n",
       "      <td>43.710</td>\n",
       "      <td>1544817600</td>\n",
       "      <td>16.5</td>\n",
       "    </tr>\n",
       "    <tr>\n",
       "      <th>491755</th>\n",
       "      <td>1.543459e+09</td>\n",
       "      <td>2</td>\n",
       "      <td>29</td>\n",
       "      <td>11</td>\n",
       "      <td>2018-11-29 02:38:08</td>\n",
       "      <td>Beacon Hill</td>\n",
       "      <td>Northeastern University</td>\n",
       "      <td>Uber</td>\n",
       "      <td>997acbb5-e102-41e1-b155-9df7de0a73f2</td>\n",
       "      <td>UberPool</td>\n",
       "      <td>...</td>\n",
       "      <td>1543420800</td>\n",
       "      <td>33.60</td>\n",
       "      <td>1543399200</td>\n",
       "      <td>42.70</td>\n",
       "      <td>1543438800</td>\n",
       "      <td>30.08</td>\n",
       "      <td>1543399200</td>\n",
       "      <td>36.770</td>\n",
       "      <td>1543438800</td>\n",
       "      <td>9.5</td>\n",
       "    </tr>\n",
       "    <tr>\n",
       "      <th>128037</th>\n",
       "      <td>1.544816e+09</td>\n",
       "      <td>19</td>\n",
       "      <td>14</td>\n",
       "      <td>12</td>\n",
       "      <td>2018-12-14 19:25:08</td>\n",
       "      <td>Back Bay</td>\n",
       "      <td>Boston University</td>\n",
       "      <td>Uber</td>\n",
       "      <td>55c66225-fbe7-4fd5-9072-eab1ece5e23e</td>\n",
       "      <td>UberX</td>\n",
       "      <td>...</td>\n",
       "      <td>1544806800</td>\n",
       "      <td>27.11</td>\n",
       "      <td>1544781600</td>\n",
       "      <td>46.61</td>\n",
       "      <td>1544814000</td>\n",
       "      <td>27.76</td>\n",
       "      <td>1544781600</td>\n",
       "      <td>43.850</td>\n",
       "      <td>1544817600</td>\n",
       "      <td>8.5</td>\n",
       "    </tr>\n",
       "  </tbody>\n",
       "</table>\n",
       "<p>504668 rows × 55 columns</p>\n",
       "</div>"
      ],
      "text/plain": [
       "           timestamp  hour  day  month             datetime  \\\n",
       "120144  1.543822e+09     7    3     12  2018-12-03 07:22:58   \n",
       "424231  1.545132e+09    11   18     12  2018-12-18 11:15:10   \n",
       "462379  1.545041e+09    10   17     12  2018-12-17 10:05:11   \n",
       "517429  1.543254e+09    17   26     11  2018-11-26 17:32:09   \n",
       "23107   1.543457e+09     2   29     11  2018-11-29 02:11:07   \n",
       "...              ...   ...  ...    ...                  ...   \n",
       "371403  1.543346e+09    19   27     11  2018-11-27 19:18:22   \n",
       "491263  1.543273e+09    22   26     11  2018-11-26 22:51:10   \n",
       "470924  1.544800e+09    15   14     12  2018-12-14 15:05:10   \n",
       "491755  1.543459e+09     2   29     11  2018-11-29 02:38:08   \n",
       "128037  1.544816e+09    19   14     12  2018-12-14 19:25:08   \n",
       "\n",
       "                         source                destinasi tipe_taksi  \\\n",
       "120144         Haymarket Square         Theatre District       Uber   \n",
       "424231              Beacon Hill            South Station       Uber   \n",
       "462379  Northeastern University                 Back Bay       Lyft   \n",
       "517429            North Station                North End       Lyft   \n",
       "23107          Haymarket Square            North Station       Uber   \n",
       "...                         ...                      ...        ...   \n",
       "371403            South Station       Financial District       Lyft   \n",
       "491263              Beacon Hill                   Fenway       Lyft   \n",
       "470924                   Fenway                 West End       Lyft   \n",
       "491755              Beacon Hill  Northeastern University       Uber   \n",
       "128037                 Back Bay        Boston University       Uber   \n",
       "\n",
       "                                  product_id       nama  ...  uvIndexTime  \\\n",
       "120144  6d318bcc-22a3-4af6-bddd-b409bfce1546  Black SUV  ...   1543852800   \n",
       "424231  6f72dfc5-27f1-42e8-84db-ccc7a75f6969     UberXL  ...   1545152400   \n",
       "462379                          lyft_premier        Lux  ...   1545066000   \n",
       "517429                             lyft_plus    Lyft XL  ...   1543251600   \n",
       "23107   6f72dfc5-27f1-42e8-84db-ccc7a75f6969     UberXL  ...   1543420800   \n",
       "...                                      ...        ...  ...          ...   \n",
       "371403                             lyft_plus    Lyft XL  ...   1543338000   \n",
       "491263                                  lyft       Lyft  ...   1543251600   \n",
       "470924                          lyft_premier        Lux  ...   1544806800   \n",
       "491755  997acbb5-e102-41e1-b155-9df7de0a73f2   UberPool  ...   1543420800   \n",
       "128037  55c66225-fbe7-4fd5-9072-eab1ece5e23e      UberX  ...   1544806800   \n",
       "\n",
       "       temperatureMin  temperatureMinTime  temperatureMax  temperatureMaxTime  \\\n",
       "120144          42.96          1543896000           57.87          1543852800   \n",
       "424231          23.09          1545192000           38.03          1545109200   \n",
       "462379          34.14          1545044400           41.44          1545076800   \n",
       "517429          40.45          1543233600           46.49          1543255200   \n",
       "23107           33.60          1543399200           42.70          1543438800   \n",
       "...               ...                 ...             ...                 ...   \n",
       "371403          36.13          1543377600           46.83          1543320000   \n",
       "491263          40.67          1543233600           46.46          1543255200   \n",
       "470924          27.07          1544788800           46.45          1544814000   \n",
       "491755          33.60          1543399200           42.70          1543438800   \n",
       "128037          27.11          1544781600           46.61          1544814000   \n",
       "\n",
       "        apparentTemperatureMin apparentTemperatureMinTime  \\\n",
       "120144                   39.41                 1543896000   \n",
       "424231                   11.82                 1545134400   \n",
       "462379                   28.12                 1545044400   \n",
       "517429                   37.17                 1543291200   \n",
       "23107                    30.08                 1543399200   \n",
       "...                        ...                        ...   \n",
       "371403                   32.05                 1543377600   \n",
       "491263                   37.45                 1543291200   \n",
       "470924                   27.72                 1544788800   \n",
       "491755                   30.08                 1543399200   \n",
       "128037                   27.76                 1544781600   \n",
       "\n",
       "       apparentTemperatureMax  apparentTemperatureMaxTime  price  \n",
       "120144                 47.895                  1543852800   27.5  \n",
       "424231                 31.920                  1545109200   16.0  \n",
       "462379                 35.950                  1545076800   16.5  \n",
       "517429                 43.840                  1543244400    9.0  \n",
       "23107                  36.770                  1543438800   10.5  \n",
       "...                       ...                         ...    ...  \n",
       "371403                 43.850                  1543320000   11.0  \n",
       "491263                 43.810                  1543251600    9.0  \n",
       "470924                 43.710                  1544817600   16.5  \n",
       "491755                 36.770                  1543438800    9.5  \n",
       "128037                 43.850                  1544817600    8.5  \n",
       "\n",
       "[504668 rows x 55 columns]"
      ]
     },
     "execution_count": 222,
     "metadata": {},
     "output_type": "execute_result"
    }
   ],
   "source": [
    "X_handling"
   ]
  },
  {
   "cell_type": "markdown",
   "metadata": {},
   "source": [
    "Mengambil data numerik dari X_handling"
   ]
  },
  {
   "cell_type": "markdown",
   "metadata": {},
   "source": [
    "### Feature Selection Numerikal"
   ]
  },
  {
   "cell_type": "code",
   "execution_count": 223,
   "metadata": {},
   "outputs": [],
   "source": [
    "from scipy.stats import pearsonr\n",
    "from scipy.stats import spearmanr"
   ]
  },
  {
   "cell_type": "code",
   "execution_count": 225,
   "metadata": {},
   "outputs": [],
   "source": [
    "# Membuat fungsi untuk melakukan feature selection\n",
    "def Feature_selection_numerikal(X_handling):  \n",
    "    '''\n",
    "    Fungsi ini dibuat untuk melakukan handling outlier berdasarkan distribusi data dan persentase outlier\n",
    "    '''\n",
    "    # Mengambil nama kolom dari X_train bertipe data numerik\n",
    "    for i in X_handling.select_dtypes(include=np.number).columns.tolist():\n",
    "        # Kondisi untuk distribusi normal\n",
    "        if -0.5 <= X_handling[i].skew() <= 0.5:\n",
    "            corr_coef = pearsonr(X_handling[i],X_handling['price'])[0]\n",
    "            if corr_coef < 0.01:\n",
    "                X_handling = X_handling.drop(i, axis=1)\n",
    "        elif X_handling[i].skew() > 0.5 or X_handling[i].skew() < -0.5:\n",
    "            corr_coef = spearmanr(X_handling[i],X_handling['price'])[0]\n",
    "            if corr_coef < 0.01:\n",
    "                X_handling = X_handling.drop(i, axis=1)\n",
    "    return X_handling"
   ]
  },
  {
   "cell_type": "code",
   "execution_count": 226,
   "metadata": {},
   "outputs": [],
   "source": [
    "X_handling = Feature_selection_numerikal(X_handling)"
   ]
  },
  {
   "cell_type": "markdown",
   "metadata": {},
   "source": [
    "### Feature Selection Kategorikal"
   ]
  },
  {
   "cell_type": "code",
   "execution_count": 227,
   "metadata": {},
   "outputs": [],
   "source": [
    "def Feature_selection_kategorikal(X_handling):  \n",
    "    '''\n",
    "    Fungsi ini dibuat untuk melakukan handling outlier berdasarkan distribusi data dan persentase outlier\n",
    "    '''\n",
    "    # Mengambil nama kolom dari X_train bertipe data numerik\n",
    "    for i in X_handling.select_dtypes(include=object).columns.tolist():\n",
    "        corr_coef = phik(X_handling[i],X_handling['price'])[0]\n",
    "        if corr_coef < 0.01:\n",
    "                X_handling = X_handling.drop(i, axis=1)\n",
    "    return X_handling"
   ]
  },
  {
   "cell_type": "code",
   "execution_count": 228,
   "metadata": {},
   "outputs": [
    {
     "ename": "TypeError",
     "evalue": "'module' object is not callable",
     "output_type": "error",
     "traceback": [
      "\u001b[1;31m---------------------------------------------------------------------------\u001b[0m",
      "\u001b[1;31mTypeError\u001b[0m                                 Traceback (most recent call last)",
      "Cell \u001b[1;32mIn[228], line 1\u001b[0m\n\u001b[1;32m----> 1\u001b[0m X_handling \u001b[38;5;241m=\u001b[39m Feature_selection_kategorikal(X_handling)\n",
      "Cell \u001b[1;32mIn[227], line 7\u001b[0m, in \u001b[0;36mFeature_selection_kategorikal\u001b[1;34m(X_handling)\u001b[0m\n\u001b[0;32m      5\u001b[0m \u001b[38;5;66;03m# Mengambil nama kolom dari X_train bertipe data numerik\u001b[39;00m\n\u001b[0;32m      6\u001b[0m \u001b[38;5;28;01mfor\u001b[39;00m i \u001b[38;5;129;01min\u001b[39;00m X_handling\u001b[38;5;241m.\u001b[39mselect_dtypes(include\u001b[38;5;241m=\u001b[39m\u001b[38;5;28mobject\u001b[39m)\u001b[38;5;241m.\u001b[39mcolumns\u001b[38;5;241m.\u001b[39mtolist():\n\u001b[1;32m----> 7\u001b[0m     corr_coef \u001b[38;5;241m=\u001b[39m phik(X_handling[i],X_handling[\u001b[38;5;124m'\u001b[39m\u001b[38;5;124mprice\u001b[39m\u001b[38;5;124m'\u001b[39m])[\u001b[38;5;241m0\u001b[39m]\n\u001b[0;32m      8\u001b[0m     \u001b[38;5;28;01mif\u001b[39;00m corr_coef \u001b[38;5;241m<\u001b[39m \u001b[38;5;241m0.01\u001b[39m:\n\u001b[0;32m      9\u001b[0m             X_handling \u001b[38;5;241m=\u001b[39m X_handling\u001b[38;5;241m.\u001b[39mdrop(i, axis\u001b[38;5;241m=\u001b[39m\u001b[38;5;241m1\u001b[39m)\n",
      "\u001b[1;31mTypeError\u001b[0m: 'module' object is not callable"
     ]
    }
   ],
   "source": [
    "X_handling = Feature_selection_kategorikal(X_handling)"
   ]
  },
  {
   "cell_type": "markdown",
   "metadata": {},
   "source": [
    "Selanjutnya dilakukan perhitungan korelasi data menggunakan phik untuk mengukur korelasi data kategorikal dengan label"
   ]
  },
  {
   "cell_type": "code",
   "execution_count": 502,
   "metadata": {},
   "outputs": [
    {
     "name": "stdout",
     "output_type": "stream",
     "text": [
      "interval columns not set, guessing: ['jarak', 'price']\n"
     ]
    },
    {
     "data": {
      "text/html": [
       "<div>\n",
       "<style scoped>\n",
       "    .dataframe tbody tr th:only-of-type {\n",
       "        vertical-align: middle;\n",
       "    }\n",
       "\n",
       "    .dataframe tbody tr th {\n",
       "        vertical-align: top;\n",
       "    }\n",
       "\n",
       "    .dataframe thead th {\n",
       "        text-align: right;\n",
       "    }\n",
       "</style>\n",
       "<table border=\"1\" class=\"dataframe\">\n",
       "  <thead>\n",
       "    <tr style=\"text-align: right;\">\n",
       "      <th></th>\n",
       "      <th>source</th>\n",
       "      <th>destinasi</th>\n",
       "      <th>tipe_taksi</th>\n",
       "      <th>product_id</th>\n",
       "      <th>nama</th>\n",
       "      <th>jarak</th>\n",
       "      <th>lonjakan_pengali</th>\n",
       "      <th>short_summary</th>\n",
       "      <th>long_summary</th>\n",
       "      <th>price</th>\n",
       "    </tr>\n",
       "  </thead>\n",
       "  <tbody>\n",
       "    <tr>\n",
       "      <th>source</th>\n",
       "      <td>1.000000</td>\n",
       "      <td>0.749680</td>\n",
       "      <td>0.000000</td>\n",
       "      <td>0.000000</td>\n",
       "      <td>0.000000</td>\n",
       "      <td>0.665279</td>\n",
       "      <td>0.085993</td>\n",
       "      <td>0.015099</td>\n",
       "      <td>0.012579</td>\n",
       "      <td>0.165742</td>\n",
       "    </tr>\n",
       "    <tr>\n",
       "      <th>destinasi</th>\n",
       "      <td>0.749680</td>\n",
       "      <td>1.000000</td>\n",
       "      <td>0.000000</td>\n",
       "      <td>0.000000</td>\n",
       "      <td>0.000000</td>\n",
       "      <td>0.647112</td>\n",
       "      <td>0.016223</td>\n",
       "      <td>0.016128</td>\n",
       "      <td>0.014478</td>\n",
       "      <td>0.153491</td>\n",
       "    </tr>\n",
       "    <tr>\n",
       "      <th>tipe_taksi</th>\n",
       "      <td>0.000000</td>\n",
       "      <td>0.000000</td>\n",
       "      <td>1.000000</td>\n",
       "      <td>1.000000</td>\n",
       "      <td>1.000000</td>\n",
       "      <td>0.139131</td>\n",
       "      <td>0.178049</td>\n",
       "      <td>0.005645</td>\n",
       "      <td>0.005955</td>\n",
       "      <td>0.146625</td>\n",
       "    </tr>\n",
       "    <tr>\n",
       "      <th>product_id</th>\n",
       "      <td>0.000000</td>\n",
       "      <td>0.000000</td>\n",
       "      <td>1.000000</td>\n",
       "      <td>1.000000</td>\n",
       "      <td>1.000000</td>\n",
       "      <td>0.084482</td>\n",
       "      <td>0.188506</td>\n",
       "      <td>0.000000</td>\n",
       "      <td>0.000000</td>\n",
       "      <td>0.677553</td>\n",
       "    </tr>\n",
       "    <tr>\n",
       "      <th>nama</th>\n",
       "      <td>0.000000</td>\n",
       "      <td>0.000000</td>\n",
       "      <td>1.000000</td>\n",
       "      <td>1.000000</td>\n",
       "      <td>1.000000</td>\n",
       "      <td>0.084482</td>\n",
       "      <td>0.188506</td>\n",
       "      <td>0.000000</td>\n",
       "      <td>0.000000</td>\n",
       "      <td>0.677553</td>\n",
       "    </tr>\n",
       "    <tr>\n",
       "      <th>jarak</th>\n",
       "      <td>0.665279</td>\n",
       "      <td>0.647112</td>\n",
       "      <td>0.139131</td>\n",
       "      <td>0.084482</td>\n",
       "      <td>0.084482</td>\n",
       "      <td>1.000000</td>\n",
       "      <td>0.031958</td>\n",
       "      <td>0.011377</td>\n",
       "      <td>0.014822</td>\n",
       "      <td>0.408645</td>\n",
       "    </tr>\n",
       "    <tr>\n",
       "      <th>lonjakan_pengali</th>\n",
       "      <td>0.085993</td>\n",
       "      <td>0.016223</td>\n",
       "      <td>0.178049</td>\n",
       "      <td>0.188506</td>\n",
       "      <td>0.188506</td>\n",
       "      <td>0.031958</td>\n",
       "      <td>1.000000</td>\n",
       "      <td>0.006690</td>\n",
       "      <td>0.004851</td>\n",
       "      <td>0.354134</td>\n",
       "    </tr>\n",
       "    <tr>\n",
       "      <th>short_summary</th>\n",
       "      <td>0.015099</td>\n",
       "      <td>0.016128</td>\n",
       "      <td>0.005645</td>\n",
       "      <td>0.000000</td>\n",
       "      <td>0.000000</td>\n",
       "      <td>0.011377</td>\n",
       "      <td>0.006690</td>\n",
       "      <td>1.000000</td>\n",
       "      <td>0.600876</td>\n",
       "      <td>0.000000</td>\n",
       "    </tr>\n",
       "    <tr>\n",
       "      <th>long_summary</th>\n",
       "      <td>0.012579</td>\n",
       "      <td>0.014478</td>\n",
       "      <td>0.005955</td>\n",
       "      <td>0.000000</td>\n",
       "      <td>0.000000</td>\n",
       "      <td>0.014822</td>\n",
       "      <td>0.004851</td>\n",
       "      <td>0.600876</td>\n",
       "      <td>1.000000</td>\n",
       "      <td>0.004107</td>\n",
       "    </tr>\n",
       "    <tr>\n",
       "      <th>price</th>\n",
       "      <td>0.165742</td>\n",
       "      <td>0.153491</td>\n",
       "      <td>0.146625</td>\n",
       "      <td>0.677553</td>\n",
       "      <td>0.677553</td>\n",
       "      <td>0.408645</td>\n",
       "      <td>0.354134</td>\n",
       "      <td>0.000000</td>\n",
       "      <td>0.004107</td>\n",
       "      <td>1.000000</td>\n",
       "    </tr>\n",
       "  </tbody>\n",
       "</table>\n",
       "</div>"
      ],
      "text/plain": [
       "                    source  destinasi  tipe_taksi  product_id      nama  \\\n",
       "source            1.000000   0.749680    0.000000    0.000000  0.000000   \n",
       "destinasi         0.749680   1.000000    0.000000    0.000000  0.000000   \n",
       "tipe_taksi        0.000000   0.000000    1.000000    1.000000  1.000000   \n",
       "product_id        0.000000   0.000000    1.000000    1.000000  1.000000   \n",
       "nama              0.000000   0.000000    1.000000    1.000000  1.000000   \n",
       "jarak             0.665279   0.647112    0.139131    0.084482  0.084482   \n",
       "lonjakan_pengali  0.085993   0.016223    0.178049    0.188506  0.188506   \n",
       "short_summary     0.015099   0.016128    0.005645    0.000000  0.000000   \n",
       "long_summary      0.012579   0.014478    0.005955    0.000000  0.000000   \n",
       "price             0.165742   0.153491    0.146625    0.677553  0.677553   \n",
       "\n",
       "                     jarak  lonjakan_pengali  short_summary  long_summary  \\\n",
       "source            0.665279          0.085993       0.015099      0.012579   \n",
       "destinasi         0.647112          0.016223       0.016128      0.014478   \n",
       "tipe_taksi        0.139131          0.178049       0.005645      0.005955   \n",
       "product_id        0.084482          0.188506       0.000000      0.000000   \n",
       "nama              0.084482          0.188506       0.000000      0.000000   \n",
       "jarak             1.000000          0.031958       0.011377      0.014822   \n",
       "lonjakan_pengali  0.031958          1.000000       0.006690      0.004851   \n",
       "short_summary     0.011377          0.006690       1.000000      0.600876   \n",
       "long_summary      0.014822          0.004851       0.600876      1.000000   \n",
       "price             0.408645          0.354134       0.000000      0.004107   \n",
       "\n",
       "                     price  \n",
       "source            0.165742  \n",
       "destinasi         0.153491  \n",
       "tipe_taksi        0.146625  \n",
       "product_id        0.677553  \n",
       "nama              0.677553  \n",
       "jarak             0.408645  \n",
       "lonjakan_pengali  0.354134  \n",
       "short_summary     0.000000  \n",
       "long_summary      0.004107  \n",
       "price             1.000000  "
      ]
     },
     "execution_count": 502,
     "metadata": {},
     "output_type": "execute_result"
    }
   ],
   "source": [
    "# melakukan perhitungan korelasi data kategorikal\n",
    "Combined.phik_matrix()"
   ]
  },
  {
   "cell_type": "markdown",
   "metadata": {},
   "source": [
    "Karena terdapat data kategorikal yang tidak berkorelasi dengan price seperti short_summary, long_summary. Maka fitur tersebut akan dihilangkan dari X_train dan X_test. Dikarenakan nama dan product_id memiliki korelasi yang sama dan korelasi antara product_id dan nama sangat besar sehingga dipilih salah satu. Hal sama berlaku untuk tipe taksi dengan nama."
   ]
  },
  {
   "cell_type": "code",
   "execution_count": 503,
   "metadata": {},
   "outputs": [],
   "source": [
    "# Menghapus fitur - fitur yang tidak memiliki korelasi\n",
    "X_train = X_train.drop(['short_summary','long_summary','product_id','tipe_taksi'], axis=1)"
   ]
  },
  {
   "cell_type": "code",
   "execution_count": 504,
   "metadata": {},
   "outputs": [],
   "source": [
    "# Menghapus fitur - fitur yang tidak memiliki korelasi\n",
    "X_test = X_test.drop(['short_summary','long_summary','product_id','tipe_taksi'], axis=1)"
   ]
  },
  {
   "cell_type": "markdown",
   "metadata": {},
   "source": [
    "Selanjutnya dilakukan pembagian fitur numerik dengan kategorikal yang nantinya berguna dalam fitur scaling dan encoding"
   ]
  },
  {
   "cell_type": "code",
   "execution_count": 505,
   "metadata": {},
   "outputs": [
    {
     "name": "stdout",
     "output_type": "stream",
     "text": [
      "numerical columns   : ['jarak']\n",
      "categorical columns : ['source', 'destinasi', 'nama', 'lonjakan_pengali']\n"
     ]
    }
   ],
   "source": [
    "# Pengambilan fitur - fitur numerik dari X_train\n",
    "num_cols = X_train.select_dtypes(include=np.number).columns.tolist()\n",
    "# Pengambilan fitur - fitur kategorikal dari X_train\n",
    "cat_cols = X_train.select_dtypes(include=object).columns.tolist()\n",
    "# Menampilkan fitu fitur numerik dan kategorikal\n",
    "print(f'numerical columns   : {num_cols}')\n",
    "print(f'categorical columns : {cat_cols}')"
   ]
  },
  {
   "cell_type": "markdown",
   "metadata": {},
   "source": [
    "Setelah pembagian numerik dan kategorikal dilakukan, sekarang pembagian numerikal dan kategorikal pada X_train dan X_test"
   ]
  },
  {
   "cell_type": "code",
   "execution_count": 506,
   "metadata": {},
   "outputs": [],
   "source": [
    "# split jadi numerical dan categorical pada X_train dan X_test\n",
    "X_train_num = X_train[num_cols]\n",
    "X_test_num = X_test[num_cols]\n",
    "\n",
    "X_train_cat = X_train[cat_cols]\n",
    "X_test_cat = X_test[cat_cols]"
   ]
  },
  {
   "cell_type": "markdown",
   "metadata": {},
   "source": [
    "Selanjutnya dilakukan cek kardinalitas, saya menggunakan threshold 15 untuk mengecek seberapa tinggi kardinalitasnya. "
   ]
  },
  {
   "cell_type": "markdown",
   "metadata": {},
   "source": [
    "### ***Cardinality Check***"
   ]
  },
  {
   "cell_type": "code",
   "execution_count": 507,
   "metadata": {},
   "outputs": [],
   "source": [
    "# # Mengecek kardinalitas dari fitur\n",
    "# # print('Kardinalitas dari source :', len(X_train_cat['source'].unique()))\n",
    "# print('Kardinalitas dari destination :',len(X_train_cat['destinasi'].unique()))\n",
    "# # print('Kardinalitas dari cab_type :',len(X_train_cat['tipe_taksi'].unique()))\n",
    "# print('Kardinalitas dari surge_multiplier :',len(X_train_cat['lonjakan_pengali'].unique()))\n",
    "# print('Kardinalitas dari Nama :',len(X_train_cat['nama'].unique()))"
   ]
  },
  {
   "cell_type": "markdown",
   "metadata": {},
   "source": [
    "Didapat fitur memiliki kardinalitas di bawah 15 sehinggaa dapat dikatakan fitur memiliki kardinalitas yang rendah"
   ]
  },
  {
   "cell_type": "markdown",
   "metadata": {},
   "source": [
    "Setelah feature selection dilakukan , sekarang akan dilakukan feature scaling pada fitur fitur numerik pada data X_train dan X_test. Fitur scaling ini dilakukan untuk membuat model menjadi lebih akurat"
   ]
  },
  {
   "cell_type": "markdown",
   "metadata": {},
   "source": [
    "---\n",
    "---"
   ]
  },
  {
   "cell_type": "markdown",
   "metadata": {},
   "source": [
    "<vspace>"
   ]
  },
  {
   "cell_type": "markdown",
   "metadata": {},
   "source": [
    "### ***Feature Scaling***\n",
    "---"
   ]
  },
  {
   "cell_type": "markdown",
   "metadata": {},
   "source": [
    "Dengan menggunakan MinMax scaler untuk melakukan scaling pada data numerik X_train dan X_test"
   ]
  },
  {
   "cell_type": "code",
   "execution_count": 508,
   "metadata": {},
   "outputs": [
    {
     "data": {
      "text/plain": [
       "array([[0.30522088],\n",
       "       [0.65863454],\n",
       "       [0.38554217],\n",
       "       ...,\n",
       "       [0.74966533],\n",
       "       [0.51941098],\n",
       "       [0.38018742]])"
      ]
     },
     "execution_count": 508,
     "metadata": {},
     "output_type": "execute_result"
    }
   ],
   "source": [
    "#Feature scaling using MinmaxScaler\n",
    "scaler = MinMaxScaler()\n",
    "# fit hanya dilakukan ke data train\n",
    "scaler.fit(X_train_num) \n",
    "# transform dilakukan ke train dan test\n",
    "X_train_num_scaled = scaler.transform(X_train_num) \n",
    "X_test_num_scaled = scaler.transform(X_test_num)\n",
    "# Menampilkan X_train setelah di scaling\n",
    "X_train_num_scaled"
   ]
  },
  {
   "cell_type": "code",
   "execution_count": 509,
   "metadata": {},
   "outputs": [
    {
     "data": {
      "text/plain": [
       "array([[0.39625167],\n",
       "       [0.6398929 ],\n",
       "       [0.2811245 ],\n",
       "       ...,\n",
       "       [0.24096386],\n",
       "       [0.41499331],\n",
       "       [0.09906292]])"
      ]
     },
     "execution_count": 509,
     "metadata": {},
     "output_type": "execute_result"
    }
   ],
   "source": [
    "# Menampilkan X-test setelah di scaling\n",
    "X_test_num_scaled"
   ]
  },
  {
   "cell_type": "markdown",
   "metadata": {},
   "source": [
    "Setelah feature scaling dilakukan selanjutnya dilakukan encoding untuk data kategorikal, hal ini juga dilakukan untuk membuat model lebih baik"
   ]
  },
  {
   "cell_type": "markdown",
   "metadata": {},
   "source": [
    "---\n",
    "---"
   ]
  },
  {
   "cell_type": "markdown",
   "metadata": {},
   "source": [
    "<vspace>"
   ]
  },
  {
   "cell_type": "markdown",
   "metadata": {},
   "source": [
    "### ***Feature Encoding***"
   ]
  },
  {
   "cell_type": "markdown",
   "metadata": {},
   "source": [
    "---"
   ]
  },
  {
   "cell_type": "markdown",
   "metadata": {},
   "source": [
    "Dikarenakan lonjakan pengali berbentuk ordinal sehingga dilakukan ordinal encoding pada lonjakan pengali sedangkan fitur lainnya digunakan one hot encoding"
   ]
  },
  {
   "cell_type": "code",
   "execution_count": 510,
   "metadata": {},
   "outputs": [],
   "source": [
    "# Memisahkan fitur lonjakan pengali pada X_train\n",
    "X_test_cat_surge = X_test_cat['lonjakan_pengali']\n",
    "# Menghapus lonjakan pengali pada X_test_cat\n",
    "del X_test_cat['lonjakan_pengali']\n",
    "# Memisahkan fitur lonjakan pengali pada X_test\n",
    "X_train_cat_surge = X_train_cat['lonjakan_pengali']\n",
    "# Menghapus lonjakan pengali pada X_train_cat\n",
    "del X_train_cat['lonjakan_pengali']"
   ]
  },
  {
   "cell_type": "markdown",
   "metadata": {},
   "source": [
    "Selanjutnya dilakukan Encoding Ordinal Surge Multiplier pada fitur lonjakan pengali"
   ]
  },
  {
   "cell_type": "code",
   "execution_count": 511,
   "metadata": {},
   "outputs": [],
   "source": [
    "# melakukan ordinal encoding dengan kategori \n",
    "encoder = OrdinalEncoder(categories = [['1.0' , '1.25', '1.5' , '1.75', '2.0'  , '2.5' , '3.0' ]])\n",
    "# fit pada X_train_cat_surge dan dibuat ke dalam bentuk array\n",
    "encoder.fit(X_train_cat_surge.values.reshape(-1,1))\n",
    "# Transform dilakukan pada train dan test\n",
    "X_train_cat_encoded = encoder.transform(X_train_cat_surge.values.reshape(-1,1))\n",
    "X_test_cat_encoded = encoder.transform(X_test_cat_surge.values.reshape(-1,1))\n"
   ]
  },
  {
   "cell_type": "markdown",
   "metadata": {},
   "source": [
    "Berikut adalah data X_train kategorikal setelah di encoded"
   ]
  },
  {
   "cell_type": "code",
   "execution_count": 512,
   "metadata": {},
   "outputs": [
    {
     "data": {
      "text/plain": [
       "array([[0.],\n",
       "       [0.],\n",
       "       [1.],\n",
       "       ...,\n",
       "       [0.],\n",
       "       [0.],\n",
       "       [0.]])"
      ]
     },
     "execution_count": 512,
     "metadata": {},
     "output_type": "execute_result"
    }
   ],
   "source": [
    "X_train_cat_encoded\n"
   ]
  },
  {
   "cell_type": "markdown",
   "metadata": {},
   "source": [
    "Berikut adalah data X_test kategorikal setelah di encoded"
   ]
  },
  {
   "cell_type": "code",
   "execution_count": 513,
   "metadata": {},
   "outputs": [
    {
     "data": {
      "text/plain": [
       "array([[0.],\n",
       "       [0.],\n",
       "       [0.],\n",
       "       ...,\n",
       "       [0.],\n",
       "       [0.],\n",
       "       [0.]])"
      ]
     },
     "execution_count": 513,
     "metadata": {},
     "output_type": "execute_result"
    }
   ],
   "source": [
    "X_test_cat_encoded"
   ]
  },
  {
   "cell_type": "markdown",
   "metadata": {},
   "source": [
    "Selanjutnya dilakukan encoding melakukan one hot encoding"
   ]
  },
  {
   "cell_type": "code",
   "execution_count": 514,
   "metadata": {},
   "outputs": [],
   "source": [
    "# melakukan one hot encoding \n",
    "\n",
    "# Initializing the OneHotEncoder\n",
    "# ohe = OneHotEncoder(handle_unknown='ignore', sparse_output=False)\n",
    "ohe = OneHotEncoder()\n",
    "list_column_encoder = ohe.fit(X_train_cat).get_feature_names_out()\n",
    "\n",
    "# Fitting the OneHotEncoder on the training data and transforming it\n",
    "X_train_onehot_encoded = ohe.transform(X_train_cat).toarray()\n",
    "\n",
    "# Transforming the test data using the already fitted OneHotEncoder\n",
    "X_test_onehot_encoded = ohe.transform(X_test_cat).toarray()\n"
   ]
  },
  {
   "cell_type": "code",
   "execution_count": 515,
   "metadata": {},
   "outputs": [
    {
     "data": {
      "text/html": [
       "<div>\n",
       "<style scoped>\n",
       "    .dataframe tbody tr th:only-of-type {\n",
       "        vertical-align: middle;\n",
       "    }\n",
       "\n",
       "    .dataframe tbody tr th {\n",
       "        vertical-align: top;\n",
       "    }\n",
       "\n",
       "    .dataframe thead th {\n",
       "        text-align: right;\n",
       "    }\n",
       "</style>\n",
       "<table border=\"1\" class=\"dataframe\">\n",
       "  <thead>\n",
       "    <tr style=\"text-align: right;\">\n",
       "      <th></th>\n",
       "      <th>source</th>\n",
       "      <th>destinasi</th>\n",
       "      <th>nama</th>\n",
       "    </tr>\n",
       "  </thead>\n",
       "  <tbody>\n",
       "    <tr>\n",
       "      <th>120144</th>\n",
       "      <td>Haymarket Square</td>\n",
       "      <td>Theatre District</td>\n",
       "      <td>Black SUV</td>\n",
       "    </tr>\n",
       "    <tr>\n",
       "      <th>424231</th>\n",
       "      <td>Beacon Hill</td>\n",
       "      <td>South Station</td>\n",
       "      <td>UberXL</td>\n",
       "    </tr>\n",
       "    <tr>\n",
       "      <th>462379</th>\n",
       "      <td>Northeastern University</td>\n",
       "      <td>Back Bay</td>\n",
       "      <td>Lux</td>\n",
       "    </tr>\n",
       "    <tr>\n",
       "      <th>517429</th>\n",
       "      <td>North Station</td>\n",
       "      <td>North End</td>\n",
       "      <td>Lyft XL</td>\n",
       "    </tr>\n",
       "    <tr>\n",
       "      <th>23107</th>\n",
       "      <td>Haymarket Square</td>\n",
       "      <td>North Station</td>\n",
       "      <td>UberXL</td>\n",
       "    </tr>\n",
       "    <tr>\n",
       "      <th>...</th>\n",
       "      <td>...</td>\n",
       "      <td>...</td>\n",
       "      <td>...</td>\n",
       "    </tr>\n",
       "    <tr>\n",
       "      <th>371403</th>\n",
       "      <td>South Station</td>\n",
       "      <td>Financial District</td>\n",
       "      <td>Lyft XL</td>\n",
       "    </tr>\n",
       "    <tr>\n",
       "      <th>491263</th>\n",
       "      <td>Beacon Hill</td>\n",
       "      <td>Fenway</td>\n",
       "      <td>Lyft</td>\n",
       "    </tr>\n",
       "    <tr>\n",
       "      <th>470924</th>\n",
       "      <td>Fenway</td>\n",
       "      <td>West End</td>\n",
       "      <td>Lux</td>\n",
       "    </tr>\n",
       "    <tr>\n",
       "      <th>491755</th>\n",
       "      <td>Beacon Hill</td>\n",
       "      <td>Northeastern University</td>\n",
       "      <td>UberPool</td>\n",
       "    </tr>\n",
       "    <tr>\n",
       "      <th>128037</th>\n",
       "      <td>Back Bay</td>\n",
       "      <td>Boston University</td>\n",
       "      <td>UberX</td>\n",
       "    </tr>\n",
       "  </tbody>\n",
       "</table>\n",
       "<p>504668 rows × 3 columns</p>\n",
       "</div>"
      ],
      "text/plain": [
       "                         source                destinasi       nama\n",
       "120144         Haymarket Square         Theatre District  Black SUV\n",
       "424231              Beacon Hill            South Station     UberXL\n",
       "462379  Northeastern University                 Back Bay        Lux\n",
       "517429            North Station                North End    Lyft XL\n",
       "23107          Haymarket Square            North Station     UberXL\n",
       "...                         ...                      ...        ...\n",
       "371403            South Station       Financial District    Lyft XL\n",
       "491263              Beacon Hill                   Fenway       Lyft\n",
       "470924                   Fenway                 West End        Lux\n",
       "491755              Beacon Hill  Northeastern University   UberPool\n",
       "128037                 Back Bay        Boston University      UberX\n",
       "\n",
       "[504668 rows x 3 columns]"
      ]
     },
     "execution_count": 515,
     "metadata": {},
     "output_type": "execute_result"
    }
   ],
   "source": [
    "X_train_cat"
   ]
  },
  {
   "cell_type": "markdown",
   "metadata": {},
   "source": [
    "Berikut adalah data X_train setelah one hot encoding"
   ]
  },
  {
   "cell_type": "code",
   "execution_count": 516,
   "metadata": {},
   "outputs": [
    {
     "data": {
      "text/plain": [
       "array([[0., 0., 0., ..., 0., 0., 0.],\n",
       "       [0., 1., 0., ..., 0., 1., 0.],\n",
       "       [0., 0., 0., ..., 0., 0., 0.],\n",
       "       ...,\n",
       "       [0., 0., 0., ..., 0., 0., 0.],\n",
       "       [0., 1., 0., ..., 0., 0., 0.],\n",
       "       [1., 0., 0., ..., 1., 0., 0.]])"
      ]
     },
     "execution_count": 516,
     "metadata": {},
     "output_type": "execute_result"
    }
   ],
   "source": [
    "X_train_onehot_encoded"
   ]
  },
  {
   "cell_type": "markdown",
   "metadata": {},
   "source": [
    "Berikut adalah data X_test setelah one hot encoding"
   ]
  },
  {
   "cell_type": "code",
   "execution_count": 517,
   "metadata": {},
   "outputs": [
    {
     "data": {
      "text/plain": [
       "array([[0., 0., 0., ..., 0., 0., 0.],\n",
       "       [0., 1., 0., ..., 0., 0., 0.],\n",
       "       [1., 0., 0., ..., 0., 0., 0.],\n",
       "       ...,\n",
       "       [0., 0., 0., ..., 0., 0., 0.],\n",
       "       [0., 0., 0., ..., 0., 0., 0.],\n",
       "       [0., 0., 0., ..., 0., 0., 0.]])"
      ]
     },
     "execution_count": 517,
     "metadata": {},
     "output_type": "execute_result"
    }
   ],
   "source": [
    "X_test_onehot_encoded"
   ]
  },
  {
   "cell_type": "markdown",
   "metadata": {},
   "source": [
    "Selanjutnya dilakukan penggabungan hasil scaling dan encoding dari X_train dan X_test "
   ]
  },
  {
   "cell_type": "markdown",
   "metadata": {},
   "source": [
    "### ***Concanate***"
   ]
  },
  {
   "cell_type": "code",
   "execution_count": 518,
   "metadata": {},
   "outputs": [],
   "source": [
    "# Penggabungan hasil scaling dan encoding X_train\n",
    "X_train_final = np.concatenate([X_train_num_scaled, X_train_onehot_encoded , X_train_cat_encoded], axis = 1)\n",
    "# Penggabungan hasil scaling dan encoding X_test\n",
    "X_test_final = np.concatenate([X_test_num_scaled, X_test_onehot_encoded , X_test_cat_encoded], axis = 1)"
   ]
  },
  {
   "cell_type": "markdown",
   "metadata": {},
   "source": [
    "Berikut X_train final sebelum modelling dilakukan"
   ]
  },
  {
   "cell_type": "code",
   "execution_count": 519,
   "metadata": {},
   "outputs": [
    {
     "data": {
      "text/plain": [
       "array([[0.30522088, 0.        , 0.        , ..., 0.        , 0.        ,\n",
       "        0.        ],\n",
       "       [0.65863454, 0.        , 1.        , ..., 1.        , 0.        ,\n",
       "        0.        ],\n",
       "       [0.38554217, 0.        , 0.        , ..., 0.        , 0.        ,\n",
       "        1.        ],\n",
       "       ...,\n",
       "       [0.74966533, 0.        , 0.        , ..., 0.        , 0.        ,\n",
       "        0.        ],\n",
       "       [0.51941098, 0.        , 1.        , ..., 0.        , 0.        ,\n",
       "        0.        ],\n",
       "       [0.38018742, 1.        , 0.        , ..., 0.        , 0.        ,\n",
       "        0.        ]])"
      ]
     },
     "execution_count": 519,
     "metadata": {},
     "output_type": "execute_result"
    }
   ],
   "source": [
    "X_train_final"
   ]
  },
  {
   "cell_type": "markdown",
   "metadata": {},
   "source": [
    "Berikut X_test final sebelum modelling dilakukan"
   ]
  },
  {
   "cell_type": "code",
   "execution_count": 520,
   "metadata": {},
   "outputs": [
    {
     "data": {
      "text/plain": [
       "array([[0.39625167, 0.        , 0.        , ..., 0.        , 0.        ,\n",
       "        0.        ],\n",
       "       [0.6398929 , 0.        , 1.        , ..., 0.        , 0.        ,\n",
       "        0.        ],\n",
       "       [0.2811245 , 1.        , 0.        , ..., 0.        , 0.        ,\n",
       "        0.        ],\n",
       "       ...,\n",
       "       [0.24096386, 0.        , 0.        , ..., 0.        , 0.        ,\n",
       "        0.        ],\n",
       "       [0.41499331, 0.        , 0.        , ..., 0.        , 0.        ,\n",
       "        0.        ],\n",
       "       [0.09906292, 0.        , 0.        , ..., 0.        , 0.        ,\n",
       "        0.        ]])"
      ]
     },
     "execution_count": 520,
     "metadata": {},
     "output_type": "execute_result"
    }
   ],
   "source": [
    "X_test_final"
   ]
  },
  {
   "cell_type": "markdown",
   "metadata": {},
   "source": [
    "Selanjutnya dilanjutkan dengan modelling"
   ]
  },
  {
   "cell_type": "markdown",
   "metadata": {},
   "source": [
    "---\n",
    "---"
   ]
  },
  {
   "cell_type": "markdown",
   "metadata": {},
   "source": [
    "<vspace>"
   ]
  },
  {
   "cell_type": "markdown",
   "metadata": {},
   "source": [
    "## ***Modelling***"
   ]
  },
  {
   "cell_type": "markdown",
   "metadata": {},
   "source": [
    "---"
   ]
  },
  {
   "cell_type": "markdown",
   "metadata": {},
   "source": [
    "## ***Model Definition***"
   ]
  },
  {
   "cell_type": "markdown",
   "metadata": {},
   "source": [
    "----"
   ]
  },
  {
   "cell_type": "markdown",
   "metadata": {},
   "source": [
    "Pemodelan ini menggunakan regresi linear untuk memprediksi harga taksi karena regresi linear dapat menjelaskan hubungan antara harga dengan fitur lainnya serta memprediksi variabel kontinu seperti harga taksi. Regresi linear juga digunakan karena kesederhanaannya, kemudahan interpretasi, dan kemampuannya untuk mendeteksi overfitting data. Namun, kelemahan dari regresi linear adalah kurang efektif dalam memprediksi data yang bersifat non-linear. Mean Absolute Error (MAE) digunakan karena mudah diinterpretasikan dan tahan terhadap outlier, memungkinkan evaluasi error rata-rata secara langsung. Sementara itu, R² score memberikan ukuran seberapa baik model menjelaskan variabilitas dalam data, memfasilitasi pemahaman mendalam tentang performa model. Dengan menggunakan MAE dan R² score, kita dapat secara komprehensif menilai performa model prediksi harga taksi."
   ]
  },
  {
   "cell_type": "markdown",
   "metadata": {},
   "source": [
    "---\n",
    "---"
   ]
  },
  {
   "cell_type": "markdown",
   "metadata": {},
   "source": [
    "<vspace>"
   ]
  },
  {
   "cell_type": "markdown",
   "metadata": {},
   "source": [
    "## ***Model Training***"
   ]
  },
  {
   "cell_type": "markdown",
   "metadata": {},
   "source": [
    "---"
   ]
  },
  {
   "cell_type": "markdown",
   "metadata": {},
   "source": [
    "Setelah mengetahui pemodelan menggunakan regresi linear selanjutnya akan dilakukan training dan memprediksi model menggunakan regresi linear"
   ]
  },
  {
   "cell_type": "code",
   "execution_count": 521,
   "metadata": {},
   "outputs": [
    {
     "data": {
      "text/html": [
       "<style>#sk-container-id-11 {\n",
       "  /* Definition of color scheme common for light and dark mode */\n",
       "  --sklearn-color-text: black;\n",
       "  --sklearn-color-line: gray;\n",
       "  /* Definition of color scheme for unfitted estimators */\n",
       "  --sklearn-color-unfitted-level-0: #fff5e6;\n",
       "  --sklearn-color-unfitted-level-1: #f6e4d2;\n",
       "  --sklearn-color-unfitted-level-2: #ffe0b3;\n",
       "  --sklearn-color-unfitted-level-3: chocolate;\n",
       "  /* Definition of color scheme for fitted estimators */\n",
       "  --sklearn-color-fitted-level-0: #f0f8ff;\n",
       "  --sklearn-color-fitted-level-1: #d4ebff;\n",
       "  --sklearn-color-fitted-level-2: #b3dbfd;\n",
       "  --sklearn-color-fitted-level-3: cornflowerblue;\n",
       "\n",
       "  /* Specific color for light theme */\n",
       "  --sklearn-color-text-on-default-background: var(--sg-text-color, var(--theme-code-foreground, var(--jp-content-font-color1, black)));\n",
       "  --sklearn-color-background: var(--sg-background-color, var(--theme-background, var(--jp-layout-color0, white)));\n",
       "  --sklearn-color-border-box: var(--sg-text-color, var(--theme-code-foreground, var(--jp-content-font-color1, black)));\n",
       "  --sklearn-color-icon: #696969;\n",
       "\n",
       "  @media (prefers-color-scheme: dark) {\n",
       "    /* Redefinition of color scheme for dark theme */\n",
       "    --sklearn-color-text-on-default-background: var(--sg-text-color, var(--theme-code-foreground, var(--jp-content-font-color1, white)));\n",
       "    --sklearn-color-background: var(--sg-background-color, var(--theme-background, var(--jp-layout-color0, #111)));\n",
       "    --sklearn-color-border-box: var(--sg-text-color, var(--theme-code-foreground, var(--jp-content-font-color1, white)));\n",
       "    --sklearn-color-icon: #878787;\n",
       "  }\n",
       "}\n",
       "\n",
       "#sk-container-id-11 {\n",
       "  color: var(--sklearn-color-text);\n",
       "}\n",
       "\n",
       "#sk-container-id-11 pre {\n",
       "  padding: 0;\n",
       "}\n",
       "\n",
       "#sk-container-id-11 input.sk-hidden--visually {\n",
       "  border: 0;\n",
       "  clip: rect(1px 1px 1px 1px);\n",
       "  clip: rect(1px, 1px, 1px, 1px);\n",
       "  height: 1px;\n",
       "  margin: -1px;\n",
       "  overflow: hidden;\n",
       "  padding: 0;\n",
       "  position: absolute;\n",
       "  width: 1px;\n",
       "}\n",
       "\n",
       "#sk-container-id-11 div.sk-dashed-wrapped {\n",
       "  border: 1px dashed var(--sklearn-color-line);\n",
       "  margin: 0 0.4em 0.5em 0.4em;\n",
       "  box-sizing: border-box;\n",
       "  padding-bottom: 0.4em;\n",
       "  background-color: var(--sklearn-color-background);\n",
       "}\n",
       "\n",
       "#sk-container-id-11 div.sk-container {\n",
       "  /* jupyter's `normalize.less` sets `[hidden] { display: none; }`\n",
       "     but bootstrap.min.css set `[hidden] { display: none !important; }`\n",
       "     so we also need the `!important` here to be able to override the\n",
       "     default hidden behavior on the sphinx rendered scikit-learn.org.\n",
       "     See: https://github.com/scikit-learn/scikit-learn/issues/21755 */\n",
       "  display: inline-block !important;\n",
       "  position: relative;\n",
       "}\n",
       "\n",
       "#sk-container-id-11 div.sk-text-repr-fallback {\n",
       "  display: none;\n",
       "}\n",
       "\n",
       "div.sk-parallel-item,\n",
       "div.sk-serial,\n",
       "div.sk-item {\n",
       "  /* draw centered vertical line to link estimators */\n",
       "  background-image: linear-gradient(var(--sklearn-color-text-on-default-background), var(--sklearn-color-text-on-default-background));\n",
       "  background-size: 2px 100%;\n",
       "  background-repeat: no-repeat;\n",
       "  background-position: center center;\n",
       "}\n",
       "\n",
       "/* Parallel-specific style estimator block */\n",
       "\n",
       "#sk-container-id-11 div.sk-parallel-item::after {\n",
       "  content: \"\";\n",
       "  width: 100%;\n",
       "  border-bottom: 2px solid var(--sklearn-color-text-on-default-background);\n",
       "  flex-grow: 1;\n",
       "}\n",
       "\n",
       "#sk-container-id-11 div.sk-parallel {\n",
       "  display: flex;\n",
       "  align-items: stretch;\n",
       "  justify-content: center;\n",
       "  background-color: var(--sklearn-color-background);\n",
       "  position: relative;\n",
       "}\n",
       "\n",
       "#sk-container-id-11 div.sk-parallel-item {\n",
       "  display: flex;\n",
       "  flex-direction: column;\n",
       "}\n",
       "\n",
       "#sk-container-id-11 div.sk-parallel-item:first-child::after {\n",
       "  align-self: flex-end;\n",
       "  width: 50%;\n",
       "}\n",
       "\n",
       "#sk-container-id-11 div.sk-parallel-item:last-child::after {\n",
       "  align-self: flex-start;\n",
       "  width: 50%;\n",
       "}\n",
       "\n",
       "#sk-container-id-11 div.sk-parallel-item:only-child::after {\n",
       "  width: 0;\n",
       "}\n",
       "\n",
       "/* Serial-specific style estimator block */\n",
       "\n",
       "#sk-container-id-11 div.sk-serial {\n",
       "  display: flex;\n",
       "  flex-direction: column;\n",
       "  align-items: center;\n",
       "  background-color: var(--sklearn-color-background);\n",
       "  padding-right: 1em;\n",
       "  padding-left: 1em;\n",
       "}\n",
       "\n",
       "\n",
       "/* Toggleable style: style used for estimator/Pipeline/ColumnTransformer box that is\n",
       "clickable and can be expanded/collapsed.\n",
       "- Pipeline and ColumnTransformer use this feature and define the default style\n",
       "- Estimators will overwrite some part of the style using the `sk-estimator` class\n",
       "*/\n",
       "\n",
       "/* Pipeline and ColumnTransformer style (default) */\n",
       "\n",
       "#sk-container-id-11 div.sk-toggleable {\n",
       "  /* Default theme specific background. It is overwritten whether we have a\n",
       "  specific estimator or a Pipeline/ColumnTransformer */\n",
       "  background-color: var(--sklearn-color-background);\n",
       "}\n",
       "\n",
       "/* Toggleable label */\n",
       "#sk-container-id-11 label.sk-toggleable__label {\n",
       "  cursor: pointer;\n",
       "  display: block;\n",
       "  width: 100%;\n",
       "  margin-bottom: 0;\n",
       "  padding: 0.5em;\n",
       "  box-sizing: border-box;\n",
       "  text-align: center;\n",
       "}\n",
       "\n",
       "#sk-container-id-11 label.sk-toggleable__label-arrow:before {\n",
       "  /* Arrow on the left of the label */\n",
       "  content: \"▸\";\n",
       "  float: left;\n",
       "  margin-right: 0.25em;\n",
       "  color: var(--sklearn-color-icon);\n",
       "}\n",
       "\n",
       "#sk-container-id-11 label.sk-toggleable__label-arrow:hover:before {\n",
       "  color: var(--sklearn-color-text);\n",
       "}\n",
       "\n",
       "/* Toggleable content - dropdown */\n",
       "\n",
       "#sk-container-id-11 div.sk-toggleable__content {\n",
       "  max-height: 0;\n",
       "  max-width: 0;\n",
       "  overflow: hidden;\n",
       "  text-align: left;\n",
       "  /* unfitted */\n",
       "  background-color: var(--sklearn-color-unfitted-level-0);\n",
       "}\n",
       "\n",
       "#sk-container-id-11 div.sk-toggleable__content.fitted {\n",
       "  /* fitted */\n",
       "  background-color: var(--sklearn-color-fitted-level-0);\n",
       "}\n",
       "\n",
       "#sk-container-id-11 div.sk-toggleable__content pre {\n",
       "  margin: 0.2em;\n",
       "  border-radius: 0.25em;\n",
       "  color: var(--sklearn-color-text);\n",
       "  /* unfitted */\n",
       "  background-color: var(--sklearn-color-unfitted-level-0);\n",
       "}\n",
       "\n",
       "#sk-container-id-11 div.sk-toggleable__content.fitted pre {\n",
       "  /* unfitted */\n",
       "  background-color: var(--sklearn-color-fitted-level-0);\n",
       "}\n",
       "\n",
       "#sk-container-id-11 input.sk-toggleable__control:checked~div.sk-toggleable__content {\n",
       "  /* Expand drop-down */\n",
       "  max-height: 200px;\n",
       "  max-width: 100%;\n",
       "  overflow: auto;\n",
       "}\n",
       "\n",
       "#sk-container-id-11 input.sk-toggleable__control:checked~label.sk-toggleable__label-arrow:before {\n",
       "  content: \"▾\";\n",
       "}\n",
       "\n",
       "/* Pipeline/ColumnTransformer-specific style */\n",
       "\n",
       "#sk-container-id-11 div.sk-label input.sk-toggleable__control:checked~label.sk-toggleable__label {\n",
       "  color: var(--sklearn-color-text);\n",
       "  background-color: var(--sklearn-color-unfitted-level-2);\n",
       "}\n",
       "\n",
       "#sk-container-id-11 div.sk-label.fitted input.sk-toggleable__control:checked~label.sk-toggleable__label {\n",
       "  background-color: var(--sklearn-color-fitted-level-2);\n",
       "}\n",
       "\n",
       "/* Estimator-specific style */\n",
       "\n",
       "/* Colorize estimator box */\n",
       "#sk-container-id-11 div.sk-estimator input.sk-toggleable__control:checked~label.sk-toggleable__label {\n",
       "  /* unfitted */\n",
       "  background-color: var(--sklearn-color-unfitted-level-2);\n",
       "}\n",
       "\n",
       "#sk-container-id-11 div.sk-estimator.fitted input.sk-toggleable__control:checked~label.sk-toggleable__label {\n",
       "  /* fitted */\n",
       "  background-color: var(--sklearn-color-fitted-level-2);\n",
       "}\n",
       "\n",
       "#sk-container-id-11 div.sk-label label.sk-toggleable__label,\n",
       "#sk-container-id-11 div.sk-label label {\n",
       "  /* The background is the default theme color */\n",
       "  color: var(--sklearn-color-text-on-default-background);\n",
       "}\n",
       "\n",
       "/* On hover, darken the color of the background */\n",
       "#sk-container-id-11 div.sk-label:hover label.sk-toggleable__label {\n",
       "  color: var(--sklearn-color-text);\n",
       "  background-color: var(--sklearn-color-unfitted-level-2);\n",
       "}\n",
       "\n",
       "/* Label box, darken color on hover, fitted */\n",
       "#sk-container-id-11 div.sk-label.fitted:hover label.sk-toggleable__label.fitted {\n",
       "  color: var(--sklearn-color-text);\n",
       "  background-color: var(--sklearn-color-fitted-level-2);\n",
       "}\n",
       "\n",
       "/* Estimator label */\n",
       "\n",
       "#sk-container-id-11 div.sk-label label {\n",
       "  font-family: monospace;\n",
       "  font-weight: bold;\n",
       "  display: inline-block;\n",
       "  line-height: 1.2em;\n",
       "}\n",
       "\n",
       "#sk-container-id-11 div.sk-label-container {\n",
       "  text-align: center;\n",
       "}\n",
       "\n",
       "/* Estimator-specific */\n",
       "#sk-container-id-11 div.sk-estimator {\n",
       "  font-family: monospace;\n",
       "  border: 1px dotted var(--sklearn-color-border-box);\n",
       "  border-radius: 0.25em;\n",
       "  box-sizing: border-box;\n",
       "  margin-bottom: 0.5em;\n",
       "  /* unfitted */\n",
       "  background-color: var(--sklearn-color-unfitted-level-0);\n",
       "}\n",
       "\n",
       "#sk-container-id-11 div.sk-estimator.fitted {\n",
       "  /* fitted */\n",
       "  background-color: var(--sklearn-color-fitted-level-0);\n",
       "}\n",
       "\n",
       "/* on hover */\n",
       "#sk-container-id-11 div.sk-estimator:hover {\n",
       "  /* unfitted */\n",
       "  background-color: var(--sklearn-color-unfitted-level-2);\n",
       "}\n",
       "\n",
       "#sk-container-id-11 div.sk-estimator.fitted:hover {\n",
       "  /* fitted */\n",
       "  background-color: var(--sklearn-color-fitted-level-2);\n",
       "}\n",
       "\n",
       "/* Specification for estimator info (e.g. \"i\" and \"?\") */\n",
       "\n",
       "/* Common style for \"i\" and \"?\" */\n",
       "\n",
       ".sk-estimator-doc-link,\n",
       "a:link.sk-estimator-doc-link,\n",
       "a:visited.sk-estimator-doc-link {\n",
       "  float: right;\n",
       "  font-size: smaller;\n",
       "  line-height: 1em;\n",
       "  font-family: monospace;\n",
       "  background-color: var(--sklearn-color-background);\n",
       "  border-radius: 1em;\n",
       "  height: 1em;\n",
       "  width: 1em;\n",
       "  text-decoration: none !important;\n",
       "  margin-left: 1ex;\n",
       "  /* unfitted */\n",
       "  border: var(--sklearn-color-unfitted-level-1) 1pt solid;\n",
       "  color: var(--sklearn-color-unfitted-level-1);\n",
       "}\n",
       "\n",
       ".sk-estimator-doc-link.fitted,\n",
       "a:link.sk-estimator-doc-link.fitted,\n",
       "a:visited.sk-estimator-doc-link.fitted {\n",
       "  /* fitted */\n",
       "  border: var(--sklearn-color-fitted-level-1) 1pt solid;\n",
       "  color: var(--sklearn-color-fitted-level-1);\n",
       "}\n",
       "\n",
       "/* On hover */\n",
       "div.sk-estimator:hover .sk-estimator-doc-link:hover,\n",
       ".sk-estimator-doc-link:hover,\n",
       "div.sk-label-container:hover .sk-estimator-doc-link:hover,\n",
       ".sk-estimator-doc-link:hover {\n",
       "  /* unfitted */\n",
       "  background-color: var(--sklearn-color-unfitted-level-3);\n",
       "  color: var(--sklearn-color-background);\n",
       "  text-decoration: none;\n",
       "}\n",
       "\n",
       "div.sk-estimator.fitted:hover .sk-estimator-doc-link.fitted:hover,\n",
       ".sk-estimator-doc-link.fitted:hover,\n",
       "div.sk-label-container:hover .sk-estimator-doc-link.fitted:hover,\n",
       ".sk-estimator-doc-link.fitted:hover {\n",
       "  /* fitted */\n",
       "  background-color: var(--sklearn-color-fitted-level-3);\n",
       "  color: var(--sklearn-color-background);\n",
       "  text-decoration: none;\n",
       "}\n",
       "\n",
       "/* Span, style for the box shown on hovering the info icon */\n",
       ".sk-estimator-doc-link span {\n",
       "  display: none;\n",
       "  z-index: 9999;\n",
       "  position: relative;\n",
       "  font-weight: normal;\n",
       "  right: .2ex;\n",
       "  padding: .5ex;\n",
       "  margin: .5ex;\n",
       "  width: min-content;\n",
       "  min-width: 20ex;\n",
       "  max-width: 50ex;\n",
       "  color: var(--sklearn-color-text);\n",
       "  box-shadow: 2pt 2pt 4pt #999;\n",
       "  /* unfitted */\n",
       "  background: var(--sklearn-color-unfitted-level-0);\n",
       "  border: .5pt solid var(--sklearn-color-unfitted-level-3);\n",
       "}\n",
       "\n",
       ".sk-estimator-doc-link.fitted span {\n",
       "  /* fitted */\n",
       "  background: var(--sklearn-color-fitted-level-0);\n",
       "  border: var(--sklearn-color-fitted-level-3);\n",
       "}\n",
       "\n",
       ".sk-estimator-doc-link:hover span {\n",
       "  display: block;\n",
       "}\n",
       "\n",
       "/* \"?\"-specific style due to the `<a>` HTML tag */\n",
       "\n",
       "#sk-container-id-11 a.estimator_doc_link {\n",
       "  float: right;\n",
       "  font-size: 1rem;\n",
       "  line-height: 1em;\n",
       "  font-family: monospace;\n",
       "  background-color: var(--sklearn-color-background);\n",
       "  border-radius: 1rem;\n",
       "  height: 1rem;\n",
       "  width: 1rem;\n",
       "  text-decoration: none;\n",
       "  /* unfitted */\n",
       "  color: var(--sklearn-color-unfitted-level-1);\n",
       "  border: var(--sklearn-color-unfitted-level-1) 1pt solid;\n",
       "}\n",
       "\n",
       "#sk-container-id-11 a.estimator_doc_link.fitted {\n",
       "  /* fitted */\n",
       "  border: var(--sklearn-color-fitted-level-1) 1pt solid;\n",
       "  color: var(--sklearn-color-fitted-level-1);\n",
       "}\n",
       "\n",
       "/* On hover */\n",
       "#sk-container-id-11 a.estimator_doc_link:hover {\n",
       "  /* unfitted */\n",
       "  background-color: var(--sklearn-color-unfitted-level-3);\n",
       "  color: var(--sklearn-color-background);\n",
       "  text-decoration: none;\n",
       "}\n",
       "\n",
       "#sk-container-id-11 a.estimator_doc_link.fitted:hover {\n",
       "  /* fitted */\n",
       "  background-color: var(--sklearn-color-fitted-level-3);\n",
       "}\n",
       "</style><div id=\"sk-container-id-11\" class=\"sk-top-container\"><div class=\"sk-text-repr-fallback\"><pre>LinearRegression()</pre><b>In a Jupyter environment, please rerun this cell to show the HTML representation or trust the notebook. <br />On GitHub, the HTML representation is unable to render, please try loading this page with nbviewer.org.</b></div><div class=\"sk-container\" hidden><div class=\"sk-item\"><div class=\"sk-estimator fitted sk-toggleable\"><input class=\"sk-toggleable__control sk-hidden--visually\" id=\"sk-estimator-id-11\" type=\"checkbox\" checked><label for=\"sk-estimator-id-11\" class=\"sk-toggleable__label fitted sk-toggleable__label-arrow fitted\">&nbsp;&nbsp;LinearRegression<a class=\"sk-estimator-doc-link fitted\" rel=\"noreferrer\" target=\"_blank\" href=\"https://scikit-learn.org/1.5/modules/generated/sklearn.linear_model.LinearRegression.html\">?<span>Documentation for LinearRegression</span></a><span class=\"sk-estimator-doc-link fitted\">i<span>Fitted</span></span></label><div class=\"sk-toggleable__content fitted\"><pre>LinearRegression()</pre></div> </div></div></div></div>"
      ],
      "text/plain": [
       "LinearRegression()"
      ]
     },
     "execution_count": 521,
     "metadata": {},
     "output_type": "execute_result"
    }
   ],
   "source": [
    "# Pelatihan menggunakan Regresi Linier\n",
    "model_lin_reg = LinearRegression()\n",
    "# fitting X_train_final dan y_train_final\n",
    "model_lin_reg.fit(X_train_final,y_train)"
   ]
  },
  {
   "cell_type": "markdown",
   "metadata": {},
   "source": [
    "Selanjutnya prediksi dilakukan"
   ]
  },
  {
   "cell_type": "code",
   "execution_count": 522,
   "metadata": {},
   "outputs": [
    {
     "data": {
      "text/plain": [
       "array([ 7.45310211, 22.77238464, 27.77043152, ...,  6.46237946,\n",
       "       28.89689636,  4.27954102])"
      ]
     },
     "execution_count": 522,
     "metadata": {},
     "output_type": "execute_result"
    }
   ],
   "source": [
    "# Predict Train-set and Test-set\n",
    "y_pred_train = model_lin_reg.predict(X_train_final)\n",
    "y_pred_test = model_lin_reg.predict(X_test_final)\n",
    "y_pred_test"
   ]
  },
  {
   "cell_type": "code",
   "execution_count": 523,
   "metadata": {},
   "outputs": [
    {
     "data": {
      "text/plain": [
       "120144    27.5\n",
       "424231    16.0\n",
       "462379    16.5\n",
       "517429     9.0\n",
       "23107     10.5\n",
       "          ... \n",
       "371403    11.0\n",
       "491263     9.0\n",
       "470924    16.5\n",
       "491755     9.5\n",
       "128037     8.5\n",
       "Name: price, Length: 504668, dtype: float64"
      ]
     },
     "execution_count": 523,
     "metadata": {},
     "output_type": "execute_result"
    }
   ],
   "source": [
    "y_train"
   ]
  },
  {
   "cell_type": "markdown",
   "metadata": {},
   "source": [
    "---"
   ]
  },
  {
   "cell_type": "markdown",
   "metadata": {},
   "source": [
    "### ***Check Coefficient and Intercept***"
   ]
  },
  {
   "cell_type": "markdown",
   "metadata": {},
   "source": [
    "---"
   ]
  },
  {
   "cell_type": "markdown",
   "metadata": {},
   "source": [
    "Selanjutnya dilanjutkan dengan mengecek koefisien, intercept, dan slope yang berguna sebagai penggambaran regresi linear tersebut"
   ]
  },
  {
   "cell_type": "code",
   "execution_count": 524,
   "metadata": {},
   "outputs": [
    {
     "name": "stdout",
     "output_type": "stream",
     "text": [
      "Intercept :  50546006005.875\n"
     ]
    },
    {
     "data": {
      "text/html": [
       "<div>\n",
       "<style scoped>\n",
       "    .dataframe tbody tr th:only-of-type {\n",
       "        vertical-align: middle;\n",
       "    }\n",
       "\n",
       "    .dataframe tbody tr th {\n",
       "        vertical-align: top;\n",
       "    }\n",
       "\n",
       "    .dataframe thead th {\n",
       "        text-align: right;\n",
       "    }\n",
       "</style>\n",
       "<table border=\"1\" class=\"dataframe\">\n",
       "  <thead>\n",
       "    <tr style=\"text-align: right;\">\n",
       "      <th></th>\n",
       "      <th>feature</th>\n",
       "      <th>coefficient</th>\n",
       "    </tr>\n",
       "  </thead>\n",
       "  <tbody>\n",
       "    <tr>\n",
       "      <th>0</th>\n",
       "      <td>jarak</td>\n",
       "      <td>1.269519e+01</td>\n",
       "    </tr>\n",
       "    <tr>\n",
       "      <th>1</th>\n",
       "      <td>source_Back Bay</td>\n",
       "      <td>1.129596e+09</td>\n",
       "    </tr>\n",
       "    <tr>\n",
       "      <th>2</th>\n",
       "      <td>source_Beacon Hill</td>\n",
       "      <td>1.129596e+09</td>\n",
       "    </tr>\n",
       "    <tr>\n",
       "      <th>3</th>\n",
       "      <td>source_Boston University</td>\n",
       "      <td>2.587145e+10</td>\n",
       "    </tr>\n",
       "    <tr>\n",
       "      <th>4</th>\n",
       "      <td>source_Fenway</td>\n",
       "      <td>2.587145e+10</td>\n",
       "    </tr>\n",
       "    <tr>\n",
       "      <th>5</th>\n",
       "      <td>source_Financial District</td>\n",
       "      <td>1.129596e+09</td>\n",
       "    </tr>\n",
       "    <tr>\n",
       "      <th>6</th>\n",
       "      <td>source_Haymarket Square</td>\n",
       "      <td>2.587145e+10</td>\n",
       "    </tr>\n",
       "    <tr>\n",
       "      <th>7</th>\n",
       "      <td>source_North End</td>\n",
       "      <td>2.587145e+10</td>\n",
       "    </tr>\n",
       "    <tr>\n",
       "      <th>8</th>\n",
       "      <td>source_North Station</td>\n",
       "      <td>1.129596e+09</td>\n",
       "    </tr>\n",
       "    <tr>\n",
       "      <th>9</th>\n",
       "      <td>source_Northeastern University</td>\n",
       "      <td>2.587145e+10</td>\n",
       "    </tr>\n",
       "    <tr>\n",
       "      <th>10</th>\n",
       "      <td>source_South Station</td>\n",
       "      <td>2.587145e+10</td>\n",
       "    </tr>\n",
       "    <tr>\n",
       "      <th>11</th>\n",
       "      <td>source_Theatre District</td>\n",
       "      <td>1.129596e+09</td>\n",
       "    </tr>\n",
       "    <tr>\n",
       "      <th>12</th>\n",
       "      <td>source_West End</td>\n",
       "      <td>1.129596e+09</td>\n",
       "    </tr>\n",
       "    <tr>\n",
       "      <th>13</th>\n",
       "      <td>destinasi_Back Bay</td>\n",
       "      <td>-1.138352e+10</td>\n",
       "    </tr>\n",
       "    <tr>\n",
       "      <th>14</th>\n",
       "      <td>destinasi_Beacon Hill</td>\n",
       "      <td>-1.138352e+10</td>\n",
       "    </tr>\n",
       "    <tr>\n",
       "      <th>15</th>\n",
       "      <td>destinasi_Boston University</td>\n",
       "      <td>1.335834e+10</td>\n",
       "    </tr>\n",
       "    <tr>\n",
       "      <th>16</th>\n",
       "      <td>destinasi_Fenway</td>\n",
       "      <td>1.335834e+10</td>\n",
       "    </tr>\n",
       "    <tr>\n",
       "      <th>17</th>\n",
       "      <td>destinasi_Financial District</td>\n",
       "      <td>-1.138352e+10</td>\n",
       "    </tr>\n",
       "    <tr>\n",
       "      <th>18</th>\n",
       "      <td>destinasi_Haymarket Square</td>\n",
       "      <td>1.335834e+10</td>\n",
       "    </tr>\n",
       "    <tr>\n",
       "      <th>19</th>\n",
       "      <td>destinasi_North End</td>\n",
       "      <td>1.335834e+10</td>\n",
       "    </tr>\n",
       "    <tr>\n",
       "      <th>20</th>\n",
       "      <td>destinasi_North Station</td>\n",
       "      <td>-1.138352e+10</td>\n",
       "    </tr>\n",
       "    <tr>\n",
       "      <th>21</th>\n",
       "      <td>destinasi_Northeastern University</td>\n",
       "      <td>1.335834e+10</td>\n",
       "    </tr>\n",
       "    <tr>\n",
       "      <th>22</th>\n",
       "      <td>destinasi_South Station</td>\n",
       "      <td>1.335834e+10</td>\n",
       "    </tr>\n",
       "    <tr>\n",
       "      <th>23</th>\n",
       "      <td>destinasi_Theatre District</td>\n",
       "      <td>-1.138352e+10</td>\n",
       "    </tr>\n",
       "    <tr>\n",
       "      <th>24</th>\n",
       "      <td>destinasi_West End</td>\n",
       "      <td>-1.138352e+10</td>\n",
       "    </tr>\n",
       "    <tr>\n",
       "      <th>25</th>\n",
       "      <td>nama_Black</td>\n",
       "      <td>-6.503394e+10</td>\n",
       "    </tr>\n",
       "    <tr>\n",
       "      <th>26</th>\n",
       "      <td>nama_Black SUV</td>\n",
       "      <td>-6.503394e+10</td>\n",
       "    </tr>\n",
       "    <tr>\n",
       "      <th>27</th>\n",
       "      <td>nama_Lux</td>\n",
       "      <td>-6.503394e+10</td>\n",
       "    </tr>\n",
       "    <tr>\n",
       "      <th>28</th>\n",
       "      <td>nama_Lux Black</td>\n",
       "      <td>-6.503394e+10</td>\n",
       "    </tr>\n",
       "    <tr>\n",
       "      <th>29</th>\n",
       "      <td>nama_Lux Black XL</td>\n",
       "      <td>-6.503394e+10</td>\n",
       "    </tr>\n",
       "    <tr>\n",
       "      <th>30</th>\n",
       "      <td>nama_Lyft</td>\n",
       "      <td>-6.503394e+10</td>\n",
       "    </tr>\n",
       "    <tr>\n",
       "      <th>31</th>\n",
       "      <td>nama_Lyft XL</td>\n",
       "      <td>-6.503394e+10</td>\n",
       "    </tr>\n",
       "    <tr>\n",
       "      <th>32</th>\n",
       "      <td>nama_Shared</td>\n",
       "      <td>-6.503394e+10</td>\n",
       "    </tr>\n",
       "    <tr>\n",
       "      <th>33</th>\n",
       "      <td>nama_UberPool</td>\n",
       "      <td>-6.503394e+10</td>\n",
       "    </tr>\n",
       "    <tr>\n",
       "      <th>34</th>\n",
       "      <td>nama_UberX</td>\n",
       "      <td>-6.503394e+10</td>\n",
       "    </tr>\n",
       "    <tr>\n",
       "      <th>35</th>\n",
       "      <td>nama_UberXL</td>\n",
       "      <td>-6.503394e+10</td>\n",
       "    </tr>\n",
       "    <tr>\n",
       "      <th>36</th>\n",
       "      <td>nama_WAV</td>\n",
       "      <td>-6.503394e+10</td>\n",
       "    </tr>\n",
       "    <tr>\n",
       "      <th>37</th>\n",
       "      <td>jarak</td>\n",
       "      <td>4.658096e+00</td>\n",
       "    </tr>\n",
       "  </tbody>\n",
       "</table>\n",
       "</div>"
      ],
      "text/plain": [
       "                              feature   coefficient\n",
       "0                               jarak  1.269519e+01\n",
       "1                     source_Back Bay  1.129596e+09\n",
       "2                  source_Beacon Hill  1.129596e+09\n",
       "3            source_Boston University  2.587145e+10\n",
       "4                       source_Fenway  2.587145e+10\n",
       "5           source_Financial District  1.129596e+09\n",
       "6             source_Haymarket Square  2.587145e+10\n",
       "7                    source_North End  2.587145e+10\n",
       "8                source_North Station  1.129596e+09\n",
       "9      source_Northeastern University  2.587145e+10\n",
       "10               source_South Station  2.587145e+10\n",
       "11            source_Theatre District  1.129596e+09\n",
       "12                    source_West End  1.129596e+09\n",
       "13                 destinasi_Back Bay -1.138352e+10\n",
       "14              destinasi_Beacon Hill -1.138352e+10\n",
       "15        destinasi_Boston University  1.335834e+10\n",
       "16                   destinasi_Fenway  1.335834e+10\n",
       "17       destinasi_Financial District -1.138352e+10\n",
       "18         destinasi_Haymarket Square  1.335834e+10\n",
       "19                destinasi_North End  1.335834e+10\n",
       "20            destinasi_North Station -1.138352e+10\n",
       "21  destinasi_Northeastern University  1.335834e+10\n",
       "22            destinasi_South Station  1.335834e+10\n",
       "23         destinasi_Theatre District -1.138352e+10\n",
       "24                 destinasi_West End -1.138352e+10\n",
       "25                         nama_Black -6.503394e+10\n",
       "26                     nama_Black SUV -6.503394e+10\n",
       "27                           nama_Lux -6.503394e+10\n",
       "28                     nama_Lux Black -6.503394e+10\n",
       "29                  nama_Lux Black XL -6.503394e+10\n",
       "30                          nama_Lyft -6.503394e+10\n",
       "31                       nama_Lyft XL -6.503394e+10\n",
       "32                        nama_Shared -6.503394e+10\n",
       "33                      nama_UberPool -6.503394e+10\n",
       "34                         nama_UberX -6.503394e+10\n",
       "35                        nama_UberXL -6.503394e+10\n",
       "36                           nama_WAV -6.503394e+10\n",
       "37                              jarak  4.658096e+00"
      ]
     },
     "execution_count": 524,
     "metadata": {},
     "output_type": "execute_result"
    }
   ],
   "source": [
    "# Check coefficients and intercept\n",
    "\n",
    "coefficients = model_lin_reg.coef_\n",
    "intercept = model_lin_reg.intercept_\n",
    "# Membuat parameter \n",
    "params = {\n",
    "    'feature': np.concatenate([np.array(['jarak']), list_column_encoder, np.array(['jarak'])]),\n",
    "    'coefficient': model_lin_reg.coef_.tolist()\n",
    "}\n",
    "\n",
    "print('Intercept : ', intercept)\n",
    "pd.DataFrame(params)"
   ]
  },
  {
   "cell_type": "markdown",
   "metadata": {},
   "source": [
    "---\n",
    "---"
   ]
  },
  {
   "cell_type": "markdown",
   "metadata": {},
   "source": [
    "<vspace>"
   ]
  },
  {
   "cell_type": "markdown",
   "metadata": {},
   "source": [
    "## ***Model Evaluation***"
   ]
  },
  {
   "cell_type": "markdown",
   "metadata": {},
   "source": [
    "---"
   ]
  },
  {
   "cell_type": "markdown",
   "metadata": {},
   "source": [
    "Selanjutnya model dievaluasi dengan memperlihatkan error dengan menggunkan mean aboulte error dan melihat variabilitas data dengan R2 score "
   ]
  },
  {
   "cell_type": "code",
   "execution_count": 525,
   "metadata": {},
   "outputs": [
    {
     "name": "stdout",
     "output_type": "stream",
     "text": [
      "Error - Train set :  1.7999193164295384\n",
      "Error - Test set :  1.838998693556159\n"
     ]
    }
   ],
   "source": [
    "# Menguji error data train dan tes menggunakan mean absolute error\n",
    "print('Error - Train set : ', mean_absolute_error(y_train, y_pred_train))\n",
    "print('Error - Test set : ', mean_absolute_error(y_test, y_pred_test))"
   ]
  },
  {
   "cell_type": "markdown",
   "metadata": {},
   "source": [
    "Dari error train test dan error test set dapat dikatakan bahwa model tersebut adalah good fit dikarenakan perbedaan antara error train dan tes sangat sedikit"
   ]
  },
  {
   "cell_type": "code",
   "execution_count": 526,
   "metadata": {},
   "outputs": [
    {
     "name": "stdout",
     "output_type": "stream",
     "text": [
      "R2 Score - Train Set :  0.9257493458325243\n",
      "R2 Score - Test Set  :  0.922027727087919\n"
     ]
    }
   ],
   "source": [
    "# Menguji variabilitas data dengan r2 score\n",
    "print('R2 Score - Train Set : ', r2_score(y_train, y_pred_train))\n",
    "print('R2 Score - Test Set  : ', r2_score(y_test, y_pred_test))"
   ]
  },
  {
   "cell_type": "markdown",
   "metadata": {},
   "source": [
    "Nilai R-Squared menunjukkan seberapa baik model memprediksi hasil variabel dependen. R2 score train mendapatkan 0.922 menandakan nmodel explains or predicts 92.2 %  of the relationship between the dependent and independent variables. R2 score test mendapatkan 0.923 menandakan nmodel explains or predicts 92.3 %  of the relationship between the dependent and independent variables. "
   ]
  },
  {
   "cell_type": "markdown",
   "metadata": {},
   "source": [
    "Selanjut akan dijelaskan asumsi yang digunakan oleh Regresi Linear"
   ]
  },
  {
   "cell_type": "markdown",
   "metadata": {},
   "source": [
    "### ***Asumsi 1 : Linear Relationship***"
   ]
  },
  {
   "cell_type": "markdown",
   "metadata": {},
   "source": [
    "----"
   ]
  },
  {
   "cell_type": "markdown",
   "metadata": {},
   "source": [
    "Relasi antara fitur dengan label meskipun beberapa fitur memiliki korelasi, tetapi dari fitur seleksi , dapat dikatakan bahwa relasi antara fitur dengan label tidak linear sehingga melanggar asumsi 1"
   ]
  },
  {
   "cell_type": "markdown",
   "metadata": {},
   "source": [
    "<vspace>"
   ]
  },
  {
   "cell_type": "markdown",
   "metadata": {},
   "source": [
    "### ***Asumsi 2 : No or Multicollinearity***"
   ]
  },
  {
   "cell_type": "markdown",
   "metadata": {},
   "source": [
    "---"
   ]
  },
  {
   "cell_type": "markdown",
   "metadata": {},
   "source": [
    "Korelasi antara fitur dengan label harus tinggi sedangkan korelasi antar fitur harus tidak atau sedikit memiliki korelasi. Fitur - fitur yang berkorelasi sudah dibuang di Feature Selection dengan melihat korelasi menggunakan heat map."
   ]
  },
  {
   "cell_type": "markdown",
   "metadata": {},
   "source": [
    "<vspace>"
   ]
  },
  {
   "cell_type": "markdown",
   "metadata": {},
   "source": [
    "### ***Asumsi 3 : Multivariate Normality***"
   ]
  },
  {
   "cell_type": "markdown",
   "metadata": {},
   "source": [
    "---"
   ]
  },
  {
   "cell_type": "markdown",
   "metadata": {},
   "source": [
    "Untuk mengecek multivariate normality, digunakan residual yaitu perbedaan hasil aktual dengan hasil prediksi. residual dapat \\mendeteksi pola yang menunjukkan masalah model seperti non-linearitas, heteroskedastisitas, atau adanya outlier. Dengan menganalisis residu, kita dapat menyempurnakan model, meningkatkan akurasi prediksi, dan memastikan asumsi analisis regresi terpenuhi."
   ]
  },
  {
   "cell_type": "markdown",
   "metadata": {},
   "source": [
    "Pertama, hitung residual"
   ]
  },
  {
   "cell_type": "code",
   "execution_count": 527,
   "metadata": {},
   "outputs": [
    {
     "data": {
      "text/plain": [
       "541064    3.046898\n",
       "215250   -0.272385\n",
       "454530   -1.770432\n",
       "150598   -0.223618\n",
       "569129   -4.575493\n",
       "            ...   \n",
       "386689   -1.782318\n",
       "493955    3.021141\n",
       "96764     0.537621\n",
       "653442   -2.396896\n",
       "194915    2.220459\n",
       "Name: price, Length: 127725, dtype: float64"
      ]
     },
     "execution_count": 527,
     "metadata": {},
     "output_type": "execute_result"
    }
   ],
   "source": [
    "# Menghitung residual\n",
    "y_test_residuals = y_test - y_pred_test\n",
    "y_test_residuals"
   ]
  },
  {
   "cell_type": "markdown",
   "metadata": {},
   "source": [
    "Visualisasi residual dapat dilakukan dengan QQ plot"
   ]
  },
  {
   "cell_type": "code",
   "execution_count": 528,
   "metadata": {},
   "outputs": [
    {
     "data": {
      "image/png": "[encoded data removed]",
      "text/plain": [
       "<Figure size 640x480 with 1 Axes>"
      ]
     },
     "metadata": {},
     "output_type": "display_data"
    }
   ],
   "source": [
    "# Display QQ plot\n",
    "sm.qqplot(y_test_residuals, line ='45')\n",
    "plt.show()"
   ]
  },
  {
   "cell_type": "markdown",
   "metadata": {},
   "source": [
    "QQ plot di atas menggambarkan  \n",
    "X - Axis merupakan kuartal dari distribusi normal\n",
    "Y - Axis merupakan kuartal dari data  \n",
    "sehingga garis merah menggambarkan kuartal yang sempurna dari distribusi normal, hal ini dapat disimpulkan semakin dekat dengan garis merah, maka semakin mirip dengan distribusi normal.  \n",
    "\n",
    "Plot di atas menggambarkan distribusi data tidak normal dan karena kurvatur membelok ke atas, hal ini menandakan data skewed right"
   ]
  },
  {
   "cell_type": "markdown",
   "metadata": {},
   "source": [
    "<vspace>"
   ]
  },
  {
   "cell_type": "markdown",
   "metadata": {},
   "source": [
    "### ***Asumsi 4 : No Auto Correlation***"
   ]
  },
  {
   "cell_type": "markdown",
   "metadata": {},
   "source": [
    "---"
   ]
  },
  {
   "cell_type": "markdown",
   "metadata": {},
   "source": [
    "Asumsi selanjutnya bahwa tidak terdapat korelasi antar residu, yang menandakan residual independen. Untuk mengecek korelasi dapat menggunakan tes Durbin-Watson"
   ]
  },
  {
   "cell_type": "code",
   "execution_count": 529,
   "metadata": {},
   "outputs": [
    {
     "data": {
      "text/plain": [
       "1.97495934577903"
      ]
     },
     "execution_count": 529,
     "metadata": {},
     "output_type": "execute_result"
    }
   ],
   "source": [
    "# Perform Durbin-Watson test\n",
    "\n",
    "from statsmodels.stats.stattools import durbin_watson\n",
    "\n",
    "durbin_watson(y_test_residuals)"
   ]
  },
  {
   "cell_type": "markdown",
   "metadata": {},
   "source": [
    "The test statistic is 1.97. Since this is within the rang of 1.5 and 2.5, we can consider autocorrelation not to be problematic in this regression model"
   ]
  },
  {
   "cell_type": "markdown",
   "metadata": {},
   "source": [
    "<vspace>"
   ]
  },
  {
   "cell_type": "markdown",
   "metadata": {},
   "source": [
    "### ***Asumsi 6 : Homoscedasity***"
   ]
  },
  {
   "cell_type": "markdown",
   "metadata": {},
   "source": [
    "---"
   ]
  },
  {
   "cell_type": "markdown",
   "metadata": {},
   "source": [
    "Menguji homoskedasitas itu untuk melihat apakah kesalahan punya variasi yang konstan. Maksudnya, kita ingin tahu apakah titik-titik data punya penyimpangan yang konsisten dari garis nol. Kalau asumsi homoskedasitas ini tidak terpenuhi, artinya kita punya heteroskedasitas."
   ]
  },
  {
   "cell_type": "code",
   "execution_count": 530,
   "metadata": {},
   "outputs": [
    {
     "data": {
      "image/png": "[encoded data removed]",
      "text/plain": [
       "<Figure size 640x480 with 1 Axes>"
      ]
     },
     "metadata": {},
     "output_type": "display_data"
    }
   ],
   "source": [
    "# Check homoscedasticioty\n",
    "\n",
    "plt.scatter(y_test, y_test_residuals)\n",
    "plt.axhline(y = 0, color = 'r', linestyle = '--')\n",
    "plt.show()"
   ]
  },
  {
   "cell_type": "markdown",
   "metadata": {},
   "source": [
    "Kita dapat melihat bahwa y_test_residuals dan y_test memiliki pola linear yang cenderung naik. Ini berarti terdapat heteroskedasitas. Dengan demikian, asumsi ini juga dilanggar.  \n",
    "Selanjutnya dilakukan penyimpanan model yang nantinya akan digunakan di dalam proses mode inference"
   ]
  },
  {
   "cell_type": "markdown",
   "metadata": {},
   "source": [
    "---\n",
    "---"
   ]
  },
  {
   "cell_type": "markdown",
   "metadata": {},
   "source": [
    "<vspace>"
   ]
  },
  {
   "cell_type": "markdown",
   "metadata": {},
   "source": [
    "## ***Model Saving***"
   ]
  },
  {
   "cell_type": "markdown",
   "metadata": {},
   "source": [
    "---"
   ]
  },
  {
   "cell_type": "code",
   "execution_count": 531,
   "metadata": {},
   "outputs": [],
   "source": [
    "#Save the files\n",
    "with open('list_num_cols.txt', 'w') as file_1:\n",
    "  json.dump(num_cols, file_1)\n",
    "\n",
    "with open('list_cat_cols.txt', 'w') as file_2:\n",
    "  json.dump(cat_cols, file_2)\n",
    "\n",
    "with open('model_scaler.pkl', 'wb') as file_3:\n",
    "  pickle.dump(scaler, file_3)\n",
    "\n",
    "with open('model_encoder.pkl', 'wb') as file_4:\n",
    "  pickle.dump(encoder, file_4)\n",
    "\n",
    "with open('model_lin_reg.pkl', 'wb') as file_5:\n",
    "  pickle.dump(model_lin_reg, file_5)\n",
    "\n",
    "with open('ohe_encoder.pkl', 'wb') as file_6:\n",
    "  pickle.dump(ohe, file_6)"
   ]
  },
  {
   "cell_type": "markdown",
   "metadata": {},
   "source": [
    "Setelah saving dilakukan selanjutnya dilakukan model inference. Tahap ini dilakukan untuk melakukan prediksi dengan mengambil data random"
   ]
  },
  {
   "cell_type": "markdown",
   "metadata": {},
   "source": [
    "---\n",
    "---"
   ]
  },
  {
   "cell_type": "markdown",
   "metadata": {},
   "source": [
    "<vspace>"
   ]
  },
  {
   "cell_type": "markdown",
   "metadata": {},
   "source": [
    "## ***Model Inference***"
   ]
  },
  {
   "cell_type": "markdown",
   "metadata": {},
   "source": [
    "---"
   ]
  },
  {
   "cell_type": "markdown",
   "metadata": {},
   "source": [
    "Pemanggilan kembali data inference yang telah diambil"
   ]
  },
  {
   "cell_type": "code",
   "execution_count": 532,
   "metadata": {},
   "outputs": [
    {
     "data": {
      "text/html": [
       "<div>\n",
       "<style scoped>\n",
       "    .dataframe tbody tr th:only-of-type {\n",
       "        vertical-align: middle;\n",
       "    }\n",
       "\n",
       "    .dataframe tbody tr th {\n",
       "        vertical-align: top;\n",
       "    }\n",
       "\n",
       "    .dataframe thead th {\n",
       "        text-align: right;\n",
       "    }\n",
       "</style>\n",
       "<table border=\"1\" class=\"dataframe\">\n",
       "  <thead>\n",
       "    <tr style=\"text-align: right;\">\n",
       "      <th></th>\n",
       "      <th>timestamp</th>\n",
       "      <th>hour</th>\n",
       "      <th>day</th>\n",
       "      <th>month</th>\n",
       "      <th>datetime</th>\n",
       "      <th>source</th>\n",
       "      <th>destinasi</th>\n",
       "      <th>tipe_taksi</th>\n",
       "      <th>product_id</th>\n",
       "      <th>nama</th>\n",
       "      <th>...</th>\n",
       "      <th>precipIntensityMax</th>\n",
       "      <th>uvIndexTime</th>\n",
       "      <th>temperatureMin</th>\n",
       "      <th>temperatureMinTime</th>\n",
       "      <th>temperatureMax</th>\n",
       "      <th>temperatureMaxTime</th>\n",
       "      <th>apparentTemperatureMin</th>\n",
       "      <th>apparentTemperatureMinTime</th>\n",
       "      <th>apparentTemperatureMax</th>\n",
       "      <th>apparentTemperatureMaxTime</th>\n",
       "    </tr>\n",
       "  </thead>\n",
       "  <tbody>\n",
       "    <tr>\n",
       "      <th>0</th>\n",
       "      <td>1.543423e+09</td>\n",
       "      <td>16</td>\n",
       "      <td>28</td>\n",
       "      <td>11</td>\n",
       "      <td>2018-11-28 16:35:07</td>\n",
       "      <td>West End</td>\n",
       "      <td>North End</td>\n",
       "      <td>Uber</td>\n",
       "      <td>55c66225-fbe7-4fd5-9072-eab1ece5e23e</td>\n",
       "      <td>UberX</td>\n",
       "      <td>...</td>\n",
       "      <td>0.0</td>\n",
       "      <td>1543420800</td>\n",
       "      <td>33.75</td>\n",
       "      <td>1543399200</td>\n",
       "      <td>42.6</td>\n",
       "      <td>1543438800</td>\n",
       "      <td>29.97</td>\n",
       "      <td>1543399200</td>\n",
       "      <td>36.58</td>\n",
       "      <td>1543438800</td>\n",
       "    </tr>\n",
       "  </tbody>\n",
       "</table>\n",
       "<p>1 rows × 54 columns</p>\n",
       "</div>"
      ],
      "text/plain": [
       "      timestamp  hour  day  month             datetime    source  destinasi  \\\n",
       "0  1.543423e+09    16   28     11  2018-11-28 16:35:07  West End  North End   \n",
       "\n",
       "  tipe_taksi                            product_id   nama  ...  \\\n",
       "0       Uber  55c66225-fbe7-4fd5-9072-eab1ece5e23e  UberX  ...   \n",
       "\n",
       "   precipIntensityMax  uvIndexTime  temperatureMin  temperatureMinTime  \\\n",
       "0                 0.0   1543420800           33.75          1543399200   \n",
       "\n",
       "   temperatureMax  temperatureMaxTime apparentTemperatureMin  \\\n",
       "0            42.6          1543438800                  29.97   \n",
       "\n",
       "  apparentTemperatureMinTime  apparentTemperatureMax  \\\n",
       "0                 1543399200                   36.58   \n",
       "\n",
       "   apparentTemperatureMaxTime  \n",
       "0                  1543438800  \n",
       "\n",
       "[1 rows x 54 columns]"
      ]
     },
     "execution_count": 532,
     "metadata": {},
     "output_type": "execute_result"
    }
   ],
   "source": [
    "# Get sample data for inferential from df\n",
    "data_inf"
   ]
  },
  {
   "cell_type": "markdown",
   "metadata": {},
   "source": [
    "Selanjutnya dilakukan loading data yang telah di save"
   ]
  },
  {
   "cell_type": "code",
   "execution_count": 533,
   "metadata": {},
   "outputs": [],
   "source": [
    "# load the file\n",
    "with open('list_cat_cols.txt', 'r') as file_1:\n",
    "  list_cat_cols = json.load(file_1)\n",
    "\n",
    "with open('list_num_cols.txt', 'r') as file_2:\n",
    "  list_num_cols = json.load(file_2)\n",
    "\n",
    "with open('model_scaler.pkl', 'rb') as file_3:\n",
    "  scaler = pickle.load(file_3)\n",
    "\n",
    "with open('model_encoder.pkl', 'rb') as file_4:\n",
    "  encoder = pickle.load(file_4)\n",
    "\n",
    "with open('model_lin_reg.pkl', 'rb') as file_5:\n",
    "  model_lin_reg = pickle.load(file_5)\n",
    "\n",
    "with open('ohe_encoder.pkl', 'rb') as file_6:\n",
    "  ohe = pickle.load(file_6)"
   ]
  },
  {
   "cell_type": "markdown",
   "metadata": {},
   "source": [
    "Selanjutnya mengambil data inference yang kategorikal dan numerikal"
   ]
  },
  {
   "cell_type": "code",
   "execution_count": 534,
   "metadata": {},
   "outputs": [],
   "source": [
    "# Mengambil data inference kategorikal\n",
    "data_inf_cat= data_inf[list_cat_cols]\n",
    "# Mengambil data inference numerikal\n",
    "data_inf_num = data_inf[list_num_cols]"
   ]
  },
  {
   "cell_type": "code",
   "execution_count": 535,
   "metadata": {},
   "outputs": [
    {
     "data": {
      "text/plain": [
       "array([[0.27844712]])"
      ]
     },
     "execution_count": 535,
     "metadata": {},
     "output_type": "execute_result"
    }
   ],
   "source": [
    "# Menggunakan data untuk scaling\n",
    "data_inf_num_scaled= scaler.transform(data_inf_num)\n",
    "data_inf_num_scaled"
   ]
  },
  {
   "cell_type": "markdown",
   "metadata": {},
   "source": [
    "Selanjutnya memisahkan lonjakan_pengali dari data_inf_lonjakan dikarenakan perbedaan metode encoding, yaitu menggunakan ordinal encoding"
   ]
  },
  {
   "cell_type": "code",
   "execution_count": 536,
   "metadata": {},
   "outputs": [],
   "source": [
    "# Pemisahan lonjakan_pengali dari data\n",
    "data_inf_lonjakan= data_inf_cat['lonjakan_pengali']\n",
    "del data_inf_cat['lonjakan_pengali']"
   ]
  },
  {
   "cell_type": "code",
   "execution_count": 537,
   "metadata": {},
   "outputs": [
    {
     "data": {
      "text/plain": [
       "array([[1.]])"
      ]
     },
     "execution_count": 537,
     "metadata": {},
     "output_type": "execute_result"
    }
   ],
   "source": [
    "# mengubah bentuk ke dalam array\n",
    "data_inf_lonjakan.values.reshape(-1,1)"
   ]
  },
  {
   "cell_type": "code",
   "execution_count": 538,
   "metadata": {},
   "outputs": [
    {
     "data": {
      "text/html": [
       "<style>#sk-container-id-12 {\n",
       "  /* Definition of color scheme common for light and dark mode */\n",
       "  --sklearn-color-text: black;\n",
       "  --sklearn-color-line: gray;\n",
       "  /* Definition of color scheme for unfitted estimators */\n",
       "  --sklearn-color-unfitted-level-0: #fff5e6;\n",
       "  --sklearn-color-unfitted-level-1: #f6e4d2;\n",
       "  --sklearn-color-unfitted-level-2: #ffe0b3;\n",
       "  --sklearn-color-unfitted-level-3: chocolate;\n",
       "  /* Definition of color scheme for fitted estimators */\n",
       "  --sklearn-color-fitted-level-0: #f0f8ff;\n",
       "  --sklearn-color-fitted-level-1: #d4ebff;\n",
       "  --sklearn-color-fitted-level-2: #b3dbfd;\n",
       "  --sklearn-color-fitted-level-3: cornflowerblue;\n",
       "\n",
       "  /* Specific color for light theme */\n",
       "  --sklearn-color-text-on-default-background: var(--sg-text-color, var(--theme-code-foreground, var(--jp-content-font-color1, black)));\n",
       "  --sklearn-color-background: var(--sg-background-color, var(--theme-background, var(--jp-layout-color0, white)));\n",
       "  --sklearn-color-border-box: var(--sg-text-color, var(--theme-code-foreground, var(--jp-content-font-color1, black)));\n",
       "  --sklearn-color-icon: #696969;\n",
       "\n",
       "  @media (prefers-color-scheme: dark) {\n",
       "    /* Redefinition of color scheme for dark theme */\n",
       "    --sklearn-color-text-on-default-background: var(--sg-text-color, var(--theme-code-foreground, var(--jp-content-font-color1, white)));\n",
       "    --sklearn-color-background: var(--sg-background-color, var(--theme-background, var(--jp-layout-color0, #111)));\n",
       "    --sklearn-color-border-box: var(--sg-text-color, var(--theme-code-foreground, var(--jp-content-font-color1, white)));\n",
       "    --sklearn-color-icon: #878787;\n",
       "  }\n",
       "}\n",
       "\n",
       "#sk-container-id-12 {\n",
       "  color: var(--sklearn-color-text);\n",
       "}\n",
       "\n",
       "#sk-container-id-12 pre {\n",
       "  padding: 0;\n",
       "}\n",
       "\n",
       "#sk-container-id-12 input.sk-hidden--visually {\n",
       "  border: 0;\n",
       "  clip: rect(1px 1px 1px 1px);\n",
       "  clip: rect(1px, 1px, 1px, 1px);\n",
       "  height: 1px;\n",
       "  margin: -1px;\n",
       "  overflow: hidden;\n",
       "  padding: 0;\n",
       "  position: absolute;\n",
       "  width: 1px;\n",
       "}\n",
       "\n",
       "#sk-container-id-12 div.sk-dashed-wrapped {\n",
       "  border: 1px dashed var(--sklearn-color-line);\n",
       "  margin: 0 0.4em 0.5em 0.4em;\n",
       "  box-sizing: border-box;\n",
       "  padding-bottom: 0.4em;\n",
       "  background-color: var(--sklearn-color-background);\n",
       "}\n",
       "\n",
       "#sk-container-id-12 div.sk-container {\n",
       "  /* jupyter's `normalize.less` sets `[hidden] { display: none; }`\n",
       "     but bootstrap.min.css set `[hidden] { display: none !important; }`\n",
       "     so we also need the `!important` here to be able to override the\n",
       "     default hidden behavior on the sphinx rendered scikit-learn.org.\n",
       "     See: https://github.com/scikit-learn/scikit-learn/issues/21755 */\n",
       "  display: inline-block !important;\n",
       "  position: relative;\n",
       "}\n",
       "\n",
       "#sk-container-id-12 div.sk-text-repr-fallback {\n",
       "  display: none;\n",
       "}\n",
       "\n",
       "div.sk-parallel-item,\n",
       "div.sk-serial,\n",
       "div.sk-item {\n",
       "  /* draw centered vertical line to link estimators */\n",
       "  background-image: linear-gradient(var(--sklearn-color-text-on-default-background), var(--sklearn-color-text-on-default-background));\n",
       "  background-size: 2px 100%;\n",
       "  background-repeat: no-repeat;\n",
       "  background-position: center center;\n",
       "}\n",
       "\n",
       "/* Parallel-specific style estimator block */\n",
       "\n",
       "#sk-container-id-12 div.sk-parallel-item::after {\n",
       "  content: \"\";\n",
       "  width: 100%;\n",
       "  border-bottom: 2px solid var(--sklearn-color-text-on-default-background);\n",
       "  flex-grow: 1;\n",
       "}\n",
       "\n",
       "#sk-container-id-12 div.sk-parallel {\n",
       "  display: flex;\n",
       "  align-items: stretch;\n",
       "  justify-content: center;\n",
       "  background-color: var(--sklearn-color-background);\n",
       "  position: relative;\n",
       "}\n",
       "\n",
       "#sk-container-id-12 div.sk-parallel-item {\n",
       "  display: flex;\n",
       "  flex-direction: column;\n",
       "}\n",
       "\n",
       "#sk-container-id-12 div.sk-parallel-item:first-child::after {\n",
       "  align-self: flex-end;\n",
       "  width: 50%;\n",
       "}\n",
       "\n",
       "#sk-container-id-12 div.sk-parallel-item:last-child::after {\n",
       "  align-self: flex-start;\n",
       "  width: 50%;\n",
       "}\n",
       "\n",
       "#sk-container-id-12 div.sk-parallel-item:only-child::after {\n",
       "  width: 0;\n",
       "}\n",
       "\n",
       "/* Serial-specific style estimator block */\n",
       "\n",
       "#sk-container-id-12 div.sk-serial {\n",
       "  display: flex;\n",
       "  flex-direction: column;\n",
       "  align-items: center;\n",
       "  background-color: var(--sklearn-color-background);\n",
       "  padding-right: 1em;\n",
       "  padding-left: 1em;\n",
       "}\n",
       "\n",
       "\n",
       "/* Toggleable style: style used for estimator/Pipeline/ColumnTransformer box that is\n",
       "clickable and can be expanded/collapsed.\n",
       "- Pipeline and ColumnTransformer use this feature and define the default style\n",
       "- Estimators will overwrite some part of the style using the `sk-estimator` class\n",
       "*/\n",
       "\n",
       "/* Pipeline and ColumnTransformer style (default) */\n",
       "\n",
       "#sk-container-id-12 div.sk-toggleable {\n",
       "  /* Default theme specific background. It is overwritten whether we have a\n",
       "  specific estimator or a Pipeline/ColumnTransformer */\n",
       "  background-color: var(--sklearn-color-background);\n",
       "}\n",
       "\n",
       "/* Toggleable label */\n",
       "#sk-container-id-12 label.sk-toggleable__label {\n",
       "  cursor: pointer;\n",
       "  display: block;\n",
       "  width: 100%;\n",
       "  margin-bottom: 0;\n",
       "  padding: 0.5em;\n",
       "  box-sizing: border-box;\n",
       "  text-align: center;\n",
       "}\n",
       "\n",
       "#sk-container-id-12 label.sk-toggleable__label-arrow:before {\n",
       "  /* Arrow on the left of the label */\n",
       "  content: \"▸\";\n",
       "  float: left;\n",
       "  margin-right: 0.25em;\n",
       "  color: var(--sklearn-color-icon);\n",
       "}\n",
       "\n",
       "#sk-container-id-12 label.sk-toggleable__label-arrow:hover:before {\n",
       "  color: var(--sklearn-color-text);\n",
       "}\n",
       "\n",
       "/* Toggleable content - dropdown */\n",
       "\n",
       "#sk-container-id-12 div.sk-toggleable__content {\n",
       "  max-height: 0;\n",
       "  max-width: 0;\n",
       "  overflow: hidden;\n",
       "  text-align: left;\n",
       "  /* unfitted */\n",
       "  background-color: var(--sklearn-color-unfitted-level-0);\n",
       "}\n",
       "\n",
       "#sk-container-id-12 div.sk-toggleable__content.fitted {\n",
       "  /* fitted */\n",
       "  background-color: var(--sklearn-color-fitted-level-0);\n",
       "}\n",
       "\n",
       "#sk-container-id-12 div.sk-toggleable__content pre {\n",
       "  margin: 0.2em;\n",
       "  border-radius: 0.25em;\n",
       "  color: var(--sklearn-color-text);\n",
       "  /* unfitted */\n",
       "  background-color: var(--sklearn-color-unfitted-level-0);\n",
       "}\n",
       "\n",
       "#sk-container-id-12 div.sk-toggleable__content.fitted pre {\n",
       "  /* unfitted */\n",
       "  background-color: var(--sklearn-color-fitted-level-0);\n",
       "}\n",
       "\n",
       "#sk-container-id-12 input.sk-toggleable__control:checked~div.sk-toggleable__content {\n",
       "  /* Expand drop-down */\n",
       "  max-height: 200px;\n",
       "  max-width: 100%;\n",
       "  overflow: auto;\n",
       "}\n",
       "\n",
       "#sk-container-id-12 input.sk-toggleable__control:checked~label.sk-toggleable__label-arrow:before {\n",
       "  content: \"▾\";\n",
       "}\n",
       "\n",
       "/* Pipeline/ColumnTransformer-specific style */\n",
       "\n",
       "#sk-container-id-12 div.sk-label input.sk-toggleable__control:checked~label.sk-toggleable__label {\n",
       "  color: var(--sklearn-color-text);\n",
       "  background-color: var(--sklearn-color-unfitted-level-2);\n",
       "}\n",
       "\n",
       "#sk-container-id-12 div.sk-label.fitted input.sk-toggleable__control:checked~label.sk-toggleable__label {\n",
       "  background-color: var(--sklearn-color-fitted-level-2);\n",
       "}\n",
       "\n",
       "/* Estimator-specific style */\n",
       "\n",
       "/* Colorize estimator box */\n",
       "#sk-container-id-12 div.sk-estimator input.sk-toggleable__control:checked~label.sk-toggleable__label {\n",
       "  /* unfitted */\n",
       "  background-color: var(--sklearn-color-unfitted-level-2);\n",
       "}\n",
       "\n",
       "#sk-container-id-12 div.sk-estimator.fitted input.sk-toggleable__control:checked~label.sk-toggleable__label {\n",
       "  /* fitted */\n",
       "  background-color: var(--sklearn-color-fitted-level-2);\n",
       "}\n",
       "\n",
       "#sk-container-id-12 div.sk-label label.sk-toggleable__label,\n",
       "#sk-container-id-12 div.sk-label label {\n",
       "  /* The background is the default theme color */\n",
       "  color: var(--sklearn-color-text-on-default-background);\n",
       "}\n",
       "\n",
       "/* On hover, darken the color of the background */\n",
       "#sk-container-id-12 div.sk-label:hover label.sk-toggleable__label {\n",
       "  color: var(--sklearn-color-text);\n",
       "  background-color: var(--sklearn-color-unfitted-level-2);\n",
       "}\n",
       "\n",
       "/* Label box, darken color on hover, fitted */\n",
       "#sk-container-id-12 div.sk-label.fitted:hover label.sk-toggleable__label.fitted {\n",
       "  color: var(--sklearn-color-text);\n",
       "  background-color: var(--sklearn-color-fitted-level-2);\n",
       "}\n",
       "\n",
       "/* Estimator label */\n",
       "\n",
       "#sk-container-id-12 div.sk-label label {\n",
       "  font-family: monospace;\n",
       "  font-weight: bold;\n",
       "  display: inline-block;\n",
       "  line-height: 1.2em;\n",
       "}\n",
       "\n",
       "#sk-container-id-12 div.sk-label-container {\n",
       "  text-align: center;\n",
       "}\n",
       "\n",
       "/* Estimator-specific */\n",
       "#sk-container-id-12 div.sk-estimator {\n",
       "  font-family: monospace;\n",
       "  border: 1px dotted var(--sklearn-color-border-box);\n",
       "  border-radius: 0.25em;\n",
       "  box-sizing: border-box;\n",
       "  margin-bottom: 0.5em;\n",
       "  /* unfitted */\n",
       "  background-color: var(--sklearn-color-unfitted-level-0);\n",
       "}\n",
       "\n",
       "#sk-container-id-12 div.sk-estimator.fitted {\n",
       "  /* fitted */\n",
       "  background-color: var(--sklearn-color-fitted-level-0);\n",
       "}\n",
       "\n",
       "/* on hover */\n",
       "#sk-container-id-12 div.sk-estimator:hover {\n",
       "  /* unfitted */\n",
       "  background-color: var(--sklearn-color-unfitted-level-2);\n",
       "}\n",
       "\n",
       "#sk-container-id-12 div.sk-estimator.fitted:hover {\n",
       "  /* fitted */\n",
       "  background-color: var(--sklearn-color-fitted-level-2);\n",
       "}\n",
       "\n",
       "/* Specification for estimator info (e.g. \"i\" and \"?\") */\n",
       "\n",
       "/* Common style for \"i\" and \"?\" */\n",
       "\n",
       ".sk-estimator-doc-link,\n",
       "a:link.sk-estimator-doc-link,\n",
       "a:visited.sk-estimator-doc-link {\n",
       "  float: right;\n",
       "  font-size: smaller;\n",
       "  line-height: 1em;\n",
       "  font-family: monospace;\n",
       "  background-color: var(--sklearn-color-background);\n",
       "  border-radius: 1em;\n",
       "  height: 1em;\n",
       "  width: 1em;\n",
       "  text-decoration: none !important;\n",
       "  margin-left: 1ex;\n",
       "  /* unfitted */\n",
       "  border: var(--sklearn-color-unfitted-level-1) 1pt solid;\n",
       "  color: var(--sklearn-color-unfitted-level-1);\n",
       "}\n",
       "\n",
       ".sk-estimator-doc-link.fitted,\n",
       "a:link.sk-estimator-doc-link.fitted,\n",
       "a:visited.sk-estimator-doc-link.fitted {\n",
       "  /* fitted */\n",
       "  border: var(--sklearn-color-fitted-level-1) 1pt solid;\n",
       "  color: var(--sklearn-color-fitted-level-1);\n",
       "}\n",
       "\n",
       "/* On hover */\n",
       "div.sk-estimator:hover .sk-estimator-doc-link:hover,\n",
       ".sk-estimator-doc-link:hover,\n",
       "div.sk-label-container:hover .sk-estimator-doc-link:hover,\n",
       ".sk-estimator-doc-link:hover {\n",
       "  /* unfitted */\n",
       "  background-color: var(--sklearn-color-unfitted-level-3);\n",
       "  color: var(--sklearn-color-background);\n",
       "  text-decoration: none;\n",
       "}\n",
       "\n",
       "div.sk-estimator.fitted:hover .sk-estimator-doc-link.fitted:hover,\n",
       ".sk-estimator-doc-link.fitted:hover,\n",
       "div.sk-label-container:hover .sk-estimator-doc-link.fitted:hover,\n",
       ".sk-estimator-doc-link.fitted:hover {\n",
       "  /* fitted */\n",
       "  background-color: var(--sklearn-color-fitted-level-3);\n",
       "  color: var(--sklearn-color-background);\n",
       "  text-decoration: none;\n",
       "}\n",
       "\n",
       "/* Span, style for the box shown on hovering the info icon */\n",
       ".sk-estimator-doc-link span {\n",
       "  display: none;\n",
       "  z-index: 9999;\n",
       "  position: relative;\n",
       "  font-weight: normal;\n",
       "  right: .2ex;\n",
       "  padding: .5ex;\n",
       "  margin: .5ex;\n",
       "  width: min-content;\n",
       "  min-width: 20ex;\n",
       "  max-width: 50ex;\n",
       "  color: var(--sklearn-color-text);\n",
       "  box-shadow: 2pt 2pt 4pt #999;\n",
       "  /* unfitted */\n",
       "  background: var(--sklearn-color-unfitted-level-0);\n",
       "  border: .5pt solid var(--sklearn-color-unfitted-level-3);\n",
       "}\n",
       "\n",
       ".sk-estimator-doc-link.fitted span {\n",
       "  /* fitted */\n",
       "  background: var(--sklearn-color-fitted-level-0);\n",
       "  border: var(--sklearn-color-fitted-level-3);\n",
       "}\n",
       "\n",
       ".sk-estimator-doc-link:hover span {\n",
       "  display: block;\n",
       "}\n",
       "\n",
       "/* \"?\"-specific style due to the `<a>` HTML tag */\n",
       "\n",
       "#sk-container-id-12 a.estimator_doc_link {\n",
       "  float: right;\n",
       "  font-size: 1rem;\n",
       "  line-height: 1em;\n",
       "  font-family: monospace;\n",
       "  background-color: var(--sklearn-color-background);\n",
       "  border-radius: 1rem;\n",
       "  height: 1rem;\n",
       "  width: 1rem;\n",
       "  text-decoration: none;\n",
       "  /* unfitted */\n",
       "  color: var(--sklearn-color-unfitted-level-1);\n",
       "  border: var(--sklearn-color-unfitted-level-1) 1pt solid;\n",
       "}\n",
       "\n",
       "#sk-container-id-12 a.estimator_doc_link.fitted {\n",
       "  /* fitted */\n",
       "  border: var(--sklearn-color-fitted-level-1) 1pt solid;\n",
       "  color: var(--sklearn-color-fitted-level-1);\n",
       "}\n",
       "\n",
       "/* On hover */\n",
       "#sk-container-id-12 a.estimator_doc_link:hover {\n",
       "  /* unfitted */\n",
       "  background-color: var(--sklearn-color-unfitted-level-3);\n",
       "  color: var(--sklearn-color-background);\n",
       "  text-decoration: none;\n",
       "}\n",
       "\n",
       "#sk-container-id-12 a.estimator_doc_link.fitted:hover {\n",
       "  /* fitted */\n",
       "  background-color: var(--sklearn-color-fitted-level-3);\n",
       "}\n",
       "</style><div id=\"sk-container-id-12\" class=\"sk-top-container\"><div class=\"sk-text-repr-fallback\"><pre>OrdinalEncoder(categories=[[&#x27;1.0&#x27;, &#x27;1.25&#x27;, &#x27;1.5&#x27;, &#x27;1.75&#x27;, &#x27;2.0&#x27;, &#x27;2.5&#x27;, &#x27;3.0&#x27;]])</pre><b>In a Jupyter environment, please rerun this cell to show the HTML representation or trust the notebook. <br />On GitHub, the HTML representation is unable to render, please try loading this page with nbviewer.org.</b></div><div class=\"sk-container\" hidden><div class=\"sk-item\"><div class=\"sk-estimator fitted sk-toggleable\"><input class=\"sk-toggleable__control sk-hidden--visually\" id=\"sk-estimator-id-12\" type=\"checkbox\" checked><label for=\"sk-estimator-id-12\" class=\"sk-toggleable__label fitted sk-toggleable__label-arrow fitted\">&nbsp;&nbsp;OrdinalEncoder<a class=\"sk-estimator-doc-link fitted\" rel=\"noreferrer\" target=\"_blank\" href=\"https://scikit-learn.org/1.5/modules/generated/sklearn.preprocessing.OrdinalEncoder.html\">?<span>Documentation for OrdinalEncoder</span></a><span class=\"sk-estimator-doc-link fitted\">i<span>Fitted</span></span></label><div class=\"sk-toggleable__content fitted\"><pre>OrdinalEncoder(categories=[[&#x27;1.0&#x27;, &#x27;1.25&#x27;, &#x27;1.5&#x27;, &#x27;1.75&#x27;, &#x27;2.0&#x27;, &#x27;2.5&#x27;, &#x27;3.0&#x27;]])</pre></div> </div></div></div></div>"
      ],
      "text/plain": [
       "OrdinalEncoder(categories=[['1.0', '1.25', '1.5', '1.75', '2.0', '2.5', '3.0']])"
      ]
     },
     "execution_count": 538,
     "metadata": {},
     "output_type": "execute_result"
    }
   ],
   "source": [
    "# Melakukan fit pada data_inf_lonjakan\n",
    "encoder.fit(data_inf_lonjakan.values.reshape(-1,1))"
   ]
  },
  {
   "cell_type": "markdown",
   "metadata": {},
   "source": [
    "Setelah melakukan fit, selanjutnya transformasi dilakukan "
   ]
  },
  {
   "cell_type": "code",
   "execution_count": 539,
   "metadata": {},
   "outputs": [],
   "source": [
    "# Transform data_inf_lonjakan\n",
    "data_inf_lonjakan_encoded = encoder.transform(data_inf_lonjakan.values.reshape(-1,1))"
   ]
  },
  {
   "cell_type": "code",
   "execution_count": 540,
   "metadata": {},
   "outputs": [
    {
     "data": {
      "text/plain": [
       "array([[0.]])"
      ]
     },
     "execution_count": 540,
     "metadata": {},
     "output_type": "execute_result"
    }
   ],
   "source": [
    "# Menampilkan data_inf_lonjakan_encoded\n",
    "data_inf_lonjakan_encoded"
   ]
  },
  {
   "cell_type": "markdown",
   "metadata": {},
   "source": [
    "Selanjutnya dilakukan one hot encoding pada data_inf_cat"
   ]
  },
  {
   "cell_type": "code",
   "execution_count": 541,
   "metadata": {},
   "outputs": [
    {
     "data": {
      "text/html": [
       "<div>\n",
       "<style scoped>\n",
       "    .dataframe tbody tr th:only-of-type {\n",
       "        vertical-align: middle;\n",
       "    }\n",
       "\n",
       "    .dataframe tbody tr th {\n",
       "        vertical-align: top;\n",
       "    }\n",
       "\n",
       "    .dataframe thead th {\n",
       "        text-align: right;\n",
       "    }\n",
       "</style>\n",
       "<table border=\"1\" class=\"dataframe\">\n",
       "  <thead>\n",
       "    <tr style=\"text-align: right;\">\n",
       "      <th></th>\n",
       "      <th>source</th>\n",
       "      <th>destinasi</th>\n",
       "      <th>nama</th>\n",
       "    </tr>\n",
       "  </thead>\n",
       "  <tbody>\n",
       "    <tr>\n",
       "      <th>0</th>\n",
       "      <td>West End</td>\n",
       "      <td>North End</td>\n",
       "      <td>UberX</td>\n",
       "    </tr>\n",
       "  </tbody>\n",
       "</table>\n",
       "</div>"
      ],
      "text/plain": [
       "     source  destinasi   nama\n",
       "0  West End  North End  UberX"
      ]
     },
     "execution_count": 541,
     "metadata": {},
     "output_type": "execute_result"
    }
   ],
   "source": [
    "data_inf_cat"
   ]
  },
  {
   "cell_type": "code",
   "execution_count": 542,
   "metadata": {},
   "outputs": [],
   "source": [
    "# transformasi data_inf_cat\n",
    "data_inf_cat_encoded = ohe.transform(data_inf_cat).toarray()"
   ]
  },
  {
   "cell_type": "code",
   "execution_count": 543,
   "metadata": {},
   "outputs": [
    {
     "data": {
      "text/plain": [
       "array([[0., 0., 0., 0., 0., 0., 0., 0., 0., 0., 0., 1., 0., 0., 0., 0.,\n",
       "        0., 0., 1., 0., 0., 0., 0., 0., 0., 0., 0., 0., 0., 0., 0., 0.,\n",
       "        0., 1., 0., 0.]])"
      ]
     },
     "execution_count": 543,
     "metadata": {},
     "output_type": "execute_result"
    }
   ],
   "source": [
    "data_inf_cat_encoded"
   ]
  },
  {
   "cell_type": "markdown",
   "metadata": {},
   "source": [
    "Selanjutnya 3 array tersebut akan digabungkan menjadi 1"
   ]
  },
  {
   "cell_type": "code",
   "execution_count": 544,
   "metadata": {},
   "outputs": [],
   "source": [
    "# Penggabungan 3 array\n",
    "WAV = np.concatenate([data_inf_num_scaled, data_inf_cat_encoded, data_inf_lonjakan_encoded], axis = 1)"
   ]
  },
  {
   "cell_type": "code",
   "execution_count": 545,
   "metadata": {},
   "outputs": [],
   "source": [
    "# ignore warning \n",
    "warnings.filterwarnings(\"ignore\")"
   ]
  },
  {
   "cell_type": "markdown",
   "metadata": {},
   "source": [
    "Selanjutnya prediksi dilakukan"
   ]
  },
  {
   "cell_type": "code",
   "execution_count": 546,
   "metadata": {},
   "outputs": [
    {
     "name": "stdout",
     "output_type": "stream",
     "text": [
      "harga taksi adalah 5\n"
     ]
    }
   ],
   "source": [
    "# menggunakan metode regresi linear untuk memprediksi harga taksi\n",
    "prediksi_WAV = model_lin_reg.predict(WAV)\n",
    "\n",
    "print(f'harga taksi adalah {int(prediksi_WAV)}')"
   ]
  },
  {
   "cell_type": "markdown",
   "metadata": {},
   "source": [
    "---\n",
    "---"
   ]
  },
  {
   "cell_type": "markdown",
   "metadata": {},
   "source": [
    "<vspace>"
   ]
  },
  {
   "cell_type": "markdown",
   "metadata": {},
   "source": [
    "## ***Kesimpulan***"
   ]
  },
  {
   "cell_type": "markdown",
   "metadata": {},
   "source": [
    "---"
   ]
  },
  {
   "cell_type": "markdown",
   "metadata": {},
   "source": [
    "Dalam memprediksi harga taksi, pembuatan model machine learning menggunakan regresi linear. Analisis ini menunjukkan bahwa hubungan antara fitur dan label dalam model regresi tidak linear, melanggar asumsi bahwa korelasi antara fitur dan label harus tinggi sementara korelasi antar fitur harus rendah atau tidak ada. Analisis residual mengungkapkan masalah seperti non-linearitas, heteroskedastisitas, dan data yang tidak terdistribusi normal. Oleh karena itu, model ini perlu disempurnakan lebih lanjut untuk meningkatkan akurasi prediksi dan memastikan asumsi-asumsi regresi terpenuhi seperti menggunakan algoritma regresi seperti Regresi Polinomial. "
   ]
  },
  {
   "cell_type": "markdown",
   "metadata": {},
   "source": [
    "---\n",
    "---"
   ]
  }
 ],
 "metadata": {
  "kernelspec": {
   "display_name": "base",
   "language": "python",
   "name": "python3"
  },
  "language_info": {
   "codemirror_mode": {
    "name": "ipython",
    "version": 3
   },
   "file_extension": ".py",
   "mimetype": "text/x-python",
   "name": "python",
   "nbconvert_exporter": "python",
   "pygments_lexer": "ipython3",
   "version": "3.11.7"
  }
 },
 "nbformat": 4,
 "nbformat_minor": 2
}
